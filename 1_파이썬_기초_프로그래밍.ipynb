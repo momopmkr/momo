{
  "nbformat": 4,
  "nbformat_minor": 0,
  "metadata": {
    "colab": {
      "provenance": [],
      "toc_visible": true,
      "authorship_tag": "ABX9TyP5Q8Qk56byYGx0ZTXsw+7P",
      "include_colab_link": true
    },
    "kernelspec": {
      "name": "python3",
      "display_name": "Python 3"
    },
    "language_info": {
      "name": "python"
    }
  },
  "cells": [
    {
      "cell_type": "markdown",
      "metadata": {
        "id": "view-in-github",
        "colab_type": "text"
      },
      "source": [
        "<a href=\"https://colab.research.google.com/github/momopmkr/momo/blob/main/1_%ED%8C%8C%EC%9D%B4%EC%8D%AC_%EA%B8%B0%EC%B4%88_%ED%94%84%EB%A1%9C%EA%B7%B8%EB%9E%98%EB%B0%8D.ipynb\" target=\"_parent\"><img src=\"https://colab.research.google.com/assets/colab-badge.svg\" alt=\"Open In Colab\"/></a>"
      ]
    },
    {
      "cell_type": "markdown",
      "source": [
        "# 파이썬 기초 프로그래밍"
      ],
      "metadata": {
        "id": "PJFkurKYeUzm"
      }
    },
    {
      "cell_type": "markdown",
      "source": [
        "## 1.코랩에서 파이썬 사용하기\n",
        "---\n",
        "\n"
      ],
      "metadata": {
        "id": "u9xrQtOzej6F"
      }
    },
    {
      "cell_type": "markdown",
      "source": [
        "### 1-1.파이썬 실습 1일차"
      ],
      "metadata": {
        "id": "_0Oy7qW0fJvu"
      }
    },
    {
      "cell_type": "markdown",
      "source": [
        "**간단 계산기 프로그램 작성하기**"
      ],
      "metadata": {
        "id": "Qzkxz0jqfMXd"
      }
    },
    {
      "cell_type": "code",
      "source": [
        "a=200\n",
        "b=30\n",
        "print('덧셈:',a+b)\n",
        "print('뺄셈:',a-b)\n",
        "print('곱셈:',a*b)\n",
        "print('나눗셈:',a/b)"
      ],
      "metadata": {
        "colab": {
          "base_uri": "https://localhost:8080/"
        },
        "id": "WhL9zTHCfdlU",
        "outputId": "2ed1dcdb-e1ad-489b-e79b-3ac22d02130a"
      },
      "execution_count": null,
      "outputs": [
        {
          "output_type": "stream",
          "name": "stdout",
          "text": [
            "덧셈: 230\n",
            "뺄셈: 170\n",
            "곱셈: 6000\n",
            "나눗셈: 6.666666666666667\n"
          ]
        }
      ]
    },
    {
      "cell_type": "code",
      "execution_count": null,
      "metadata": {
        "colab": {
          "base_uri": "https://localhost:8080/"
        },
        "id": "wAngfpewdkNo",
        "outputId": "0d3316cc-abbe-478b-a3b0-8e9b7a45a7bb"
      },
      "outputs": [
        {
          "output_type": "stream",
          "name": "stdout",
          "text": [
            "/usr/bin/python3\n",
            "3.10.12 (main, Jun 11 2023, 05:26:28) [GCC 11.4.0]\n"
          ]
        }
      ],
      "source": [
        "import sys\n",
        "print(sys.executable)\n",
        "print(sys.version)"
      ]
    },
    {
      "cell_type": "markdown",
      "source": [
        "###1-2.파이썬 실습 2일차"
      ],
      "metadata": {
        "id": "TrJYvkgg9fOd"
      }
    },
    {
      "cell_type": "code",
      "source": [
        "sys.path"
      ],
      "metadata": {
        "colab": {
          "base_uri": "https://localhost:8080/"
        },
        "id": "ZH2iFNYt80GN",
        "outputId": "b39debbd-acad-4a62-aebd-a91dfe9bae28"
      },
      "execution_count": null,
      "outputs": [
        {
          "output_type": "execute_result",
          "data": {
            "text/plain": [
              "['/content',\n",
              " '/env/python',\n",
              " '/usr/lib/python310.zip',\n",
              " '/usr/lib/python3.10',\n",
              " '/usr/lib/python3.10/lib-dynload',\n",
              " '',\n",
              " '/usr/local/lib/python3.10/dist-packages',\n",
              " '/usr/lib/python3/dist-packages',\n",
              " '/usr/local/lib/python3.10/dist-packages/IPython/extensions',\n",
              " '/root/.ipython']"
            ]
          },
          "metadata": {},
          "execution_count": 3
        }
      ]
    },
    {
      "cell_type": "code",
      "source": [
        "#전체 라이브러리 확인\n",
        "!pip list"
      ],
      "metadata": {
        "colab": {
          "base_uri": "https://localhost:8080/"
        },
        "id": "gIc9Us43-wYQ",
        "outputId": "37fef5c1-f3ea-4b52-a538-edf99aa155a8"
      },
      "execution_count": null,
      "outputs": [
        {
          "output_type": "stream",
          "name": "stdout",
          "text": [
            "Package                          Version\n",
            "-------------------------------- ---------------------\n",
            "absl-py                          1.4.0\n",
            "aiohttp                          3.8.5\n",
            "aiosignal                        1.3.1\n",
            "alabaster                        0.7.13\n",
            "albumentations                   1.3.1\n",
            "altair                           4.2.2\n",
            "annotated-types                  0.5.0\n",
            "anyio                            3.7.1\n",
            "appdirs                          1.4.4\n",
            "argon2-cffi                      21.3.0\n",
            "argon2-cffi-bindings             21.2.0\n",
            "array-record                     0.4.1\n",
            "arviz                            0.15.1\n",
            "astropy                          5.3.1\n",
            "astunparse                       1.6.3\n",
            "async-timeout                    4.0.3\n",
            "attrs                            23.1.0\n",
            "audioread                        3.0.0\n",
            "autograd                         1.6.2\n",
            "Babel                            2.12.1\n",
            "backcall                         0.2.0\n",
            "beautifulsoup4                   4.11.2\n",
            "bleach                           6.0.0\n",
            "blinker                          1.4\n",
            "blis                             0.7.10\n",
            "blosc2                           2.0.0\n",
            "bokeh                            3.2.2\n",
            "branca                           0.6.0\n",
            "build                            0.10.0\n",
            "CacheControl                     0.13.1\n",
            "cachetools                       5.3.1\n",
            "catalogue                        2.0.9\n",
            "certifi                          2023.7.22\n",
            "cffi                             1.15.1\n",
            "chardet                          5.2.0\n",
            "charset-normalizer               3.2.0\n",
            "chex                             0.1.7\n",
            "click                            8.1.6\n",
            "click-plugins                    1.1.1\n",
            "cligj                            0.7.2\n",
            "cloudpickle                      2.2.1\n",
            "cmake                            3.27.2\n",
            "cmdstanpy                        1.1.0\n",
            "colorcet                         3.0.1\n",
            "colorlover                       0.3.0\n",
            "community                        1.0.0b1\n",
            "confection                       0.1.1\n",
            "cons                             0.4.6\n",
            "contextlib2                      21.6.0\n",
            "contourpy                        1.1.0\n",
            "convertdate                      2.4.0\n",
            "cryptography                     41.0.3\n",
            "cufflinks                        0.17.3\n",
            "cvxopt                           1.3.2\n",
            "cvxpy                            1.3.2\n",
            "cycler                           0.11.0\n",
            "cymem                            2.0.7\n",
            "Cython                           0.29.36\n",
            "dask                             2023.8.0\n",
            "datascience                      0.17.6\n",
            "db-dtypes                        1.1.1\n",
            "dbus-python                      1.2.18\n",
            "debugpy                          1.6.6\n",
            "decorator                        4.4.2\n",
            "defusedxml                       0.7.1\n",
            "distributed                      2023.8.0\n",
            "distro                           1.7.0\n",
            "dlib                             19.24.2\n",
            "dm-tree                          0.1.8\n",
            "docutils                         0.18.1\n",
            "dopamine-rl                      4.0.6\n",
            "duckdb                           0.8.1\n",
            "earthengine-api                  0.1.363\n",
            "easydict                         1.10\n",
            "ecos                             2.0.12\n",
            "editdistance                     0.6.2\n",
            "en-core-web-sm                   3.6.0\n",
            "entrypoints                      0.4\n",
            "ephem                            4.1.4\n",
            "et-xmlfile                       1.1.0\n",
            "etils                            1.4.1\n",
            "etuples                          0.3.9\n",
            "exceptiongroup                   1.1.2\n",
            "fastai                           2.7.12\n",
            "fastcore                         1.5.29\n",
            "fastdownload                     0.0.7\n",
            "fastjsonschema                   2.18.0\n",
            "fastprogress                     1.0.3\n",
            "fastrlock                        0.8.1\n",
            "filelock                         3.12.2\n",
            "Fiona                            1.9.4.post1\n",
            "firebase-admin                   5.3.0\n",
            "Flask                            2.2.5\n",
            "flatbuffers                      23.5.26\n",
            "flax                             0.7.2\n",
            "folium                           0.14.0\n",
            "fonttools                        4.42.0\n",
            "frozendict                       2.3.8\n",
            "frozenlist                       1.4.0\n",
            "fsspec                           2023.6.0\n",
            "future                           0.18.3\n",
            "gast                             0.4.0\n",
            "gcsfs                            2023.6.0\n",
            "GDAL                             3.4.3\n",
            "gdown                            4.6.6\n",
            "gensim                           4.3.1\n",
            "geographiclib                    2.0\n",
            "geopandas                        0.13.2\n",
            "geopy                            2.3.0\n",
            "gin-config                       0.5.0\n",
            "glob2                            0.7\n",
            "google                           2.0.3\n",
            "google-api-core                  2.11.1\n",
            "google-api-python-client         2.84.0\n",
            "google-auth                      2.17.3\n",
            "google-auth-httplib2             0.1.0\n",
            "google-auth-oauthlib             1.0.0\n",
            "google-cloud-bigquery            3.10.0\n",
            "google-cloud-bigquery-connection 1.12.1\n",
            "google-cloud-bigquery-storage    2.22.0\n",
            "google-cloud-core                2.3.3\n",
            "google-cloud-datastore           2.15.2\n",
            "google-cloud-firestore           2.11.1\n",
            "google-cloud-functions           1.13.2\n",
            "google-cloud-language            2.9.1\n",
            "google-cloud-storage             2.8.0\n",
            "google-cloud-translate           3.11.3\n",
            "google-colab                     1.0.0\n",
            "google-crc32c                    1.5.0\n",
            "google-pasta                     0.2.0\n",
            "google-resumable-media           2.5.0\n",
            "googleapis-common-protos         1.60.0\n",
            "googledrivedownloader            0.4\n",
            "graphviz                         0.20.1\n",
            "greenlet                         2.0.2\n",
            "grpc-google-iam-v1               0.12.6\n",
            "grpcio                           1.57.0\n",
            "grpcio-status                    1.48.2\n",
            "gspread                          3.4.2\n",
            "gspread-dataframe                3.3.1\n",
            "gym                              0.25.2\n",
            "gym-notices                      0.0.8\n",
            "h5netcdf                         1.2.0\n",
            "h5py                             3.9.0\n",
            "holidays                         0.30\n",
            "holoviews                        1.17.0\n",
            "html5lib                         1.1\n",
            "httpimport                       1.3.1\n",
            "httplib2                         0.22.0\n",
            "humanize                         4.7.0\n",
            "hyperopt                         0.2.7\n",
            "idna                             3.4\n",
            "imageio                          2.31.1\n",
            "imageio-ffmpeg                   0.4.8\n",
            "imagesize                        1.4.1\n",
            "imbalanced-learn                 0.10.1\n",
            "imgaug                           0.4.0\n",
            "importlib-metadata               6.8.0\n",
            "importlib-resources              6.0.1\n",
            "imutils                          0.5.4\n",
            "inflect                          7.0.0\n",
            "iniconfig                        2.0.0\n",
            "intel-openmp                     2023.2.0\n",
            "ipykernel                        5.5.6\n",
            "ipython                          7.34.0\n",
            "ipython-genutils                 0.2.0\n",
            "ipython-sql                      0.5.0\n",
            "ipywidgets                       7.7.1\n",
            "itsdangerous                     2.1.2\n",
            "jax                              0.4.14\n",
            "jaxlib                           0.4.14+cuda11.cudnn86\n",
            "jeepney                          0.7.1\n",
            "jieba                            0.42.1\n",
            "Jinja2                           3.1.2\n",
            "joblib                           1.3.2\n",
            "jsonpickle                       3.0.2\n",
            "jsonschema                       4.19.0\n",
            "jsonschema-specifications        2023.7.1\n",
            "jupyter-client                   6.1.12\n",
            "jupyter-console                  6.1.0\n",
            "jupyter_core                     5.3.1\n",
            "jupyter-server                   1.24.0\n",
            "jupyterlab-pygments              0.2.2\n",
            "jupyterlab-widgets               3.0.8\n",
            "kaggle                           1.5.16\n",
            "keras                            2.12.0\n",
            "keyring                          23.5.0\n",
            "kiwisolver                       1.4.4\n",
            "langcodes                        3.3.0\n",
            "launchpadlib                     1.10.16\n",
            "lazr.restfulclient               0.14.4\n",
            "lazr.uri                         1.0.6\n",
            "lazy_loader                      0.3\n",
            "libclang                         16.0.6\n",
            "librosa                          0.10.0.post2\n",
            "lightgbm                         4.0.0\n",
            "linkify-it-py                    2.0.2\n",
            "lit                              16.0.6\n",
            "llvmlite                         0.39.1\n",
            "locket                           1.0.0\n",
            "logical-unification              0.4.6\n",
            "LunarCalendar                    0.0.9\n",
            "lxml                             4.9.3\n",
            "Markdown                         3.4.4\n",
            "markdown-it-py                   3.0.0\n",
            "MarkupSafe                       2.1.3\n",
            "matplotlib                       3.7.1\n",
            "matplotlib-inline                0.1.6\n",
            "matplotlib-venn                  0.11.9\n",
            "mdit-py-plugins                  0.4.0\n",
            "mdurl                            0.1.2\n",
            "miniKanren                       1.0.3\n",
            "missingno                        0.5.2\n",
            "mistune                          0.8.4\n",
            "mizani                           0.9.2\n",
            "mkl                              2023.2.0\n",
            "ml-dtypes                        0.2.0\n",
            "mlxtend                          0.22.0\n",
            "more-itertools                   10.1.0\n",
            "moviepy                          1.0.3\n",
            "mpmath                           1.3.0\n",
            "msgpack                          1.0.5\n",
            "multidict                        6.0.4\n",
            "multipledispatch                 1.0.0\n",
            "multitasking                     0.0.11\n",
            "murmurhash                       1.0.9\n",
            "music21                          9.1.0\n",
            "natsort                          8.4.0\n",
            "nbclient                         0.8.0\n",
            "nbconvert                        6.5.4\n",
            "nbformat                         5.9.2\n",
            "nest-asyncio                     1.5.7\n",
            "networkx                         3.1\n",
            "nibabel                          4.0.2\n",
            "nltk                             3.8.1\n",
            "notebook                         6.4.8\n",
            "numba                            0.56.4\n",
            "numexpr                          2.8.5\n",
            "numpy                            1.23.5\n",
            "oauth2client                     4.1.3\n",
            "oauthlib                         3.2.2\n",
            "opencv-contrib-python            4.8.0.76\n",
            "opencv-python                    4.8.0.76\n",
            "opencv-python-headless           4.8.0.76\n",
            "openpyxl                         3.1.2\n",
            "opt-einsum                       3.3.0\n",
            "optax                            0.1.7\n",
            "orbax-checkpoint                 0.3.2\n",
            "osqp                             0.6.2.post8\n",
            "packaging                        23.1\n",
            "pandas                           1.5.3\n",
            "pandas-datareader                0.10.0\n",
            "pandas-gbq                       0.17.9\n",
            "pandocfilters                    1.5.0\n",
            "panel                            1.2.1\n",
            "param                            1.13.0\n",
            "parso                            0.8.3\n",
            "partd                            1.4.0\n",
            "pathlib                          1.0.1\n",
            "pathy                            0.10.2\n",
            "patsy                            0.5.3\n",
            "pexpect                          4.8.0\n",
            "pickleshare                      0.7.5\n",
            "Pillow                           9.4.0\n",
            "pip                              23.1.2\n",
            "pip-tools                        6.13.0\n",
            "platformdirs                     3.10.0\n",
            "plotly                           5.15.0\n",
            "plotnine                         0.12.2\n",
            "pluggy                           1.2.0\n",
            "polars                           0.17.3\n",
            "pooch                            1.6.0\n",
            "portpicker                       1.5.2\n",
            "prefetch-generator               1.0.3\n",
            "preshed                          3.0.8\n",
            "prettytable                      3.8.0\n",
            "proglog                          0.1.10\n",
            "progressbar2                     4.2.0\n",
            "prometheus-client                0.17.1\n",
            "promise                          2.3\n",
            "prompt-toolkit                   3.0.39\n",
            "prophet                          1.1.4\n",
            "proto-plus                       1.22.3\n",
            "protobuf                         3.20.3\n",
            "psutil                           5.9.5\n",
            "psycopg2                         2.9.7\n",
            "ptyprocess                       0.7.0\n",
            "py-cpuinfo                       9.0.0\n",
            "py4j                             0.10.9.7\n",
            "pyarrow                          9.0.0\n",
            "pyasn1                           0.5.0\n",
            "pyasn1-modules                   0.3.0\n",
            "pycocotools                      2.0.6\n",
            "pycparser                        2.21\n",
            "pyct                             0.5.0\n",
            "pydantic                         2.1.1\n",
            "pydantic_core                    2.4.0\n",
            "pydata-google-auth               1.8.2\n",
            "pydot                            1.4.2\n",
            "pydot-ng                         2.0.0\n",
            "pydotplus                        2.0.2\n",
            "PyDrive                          1.3.1\n",
            "PyDrive2                         1.6.3\n",
            "pyerfa                           2.0.0.3\n",
            "pygame                           2.5.0\n",
            "Pygments                         2.16.1\n",
            "PyGObject                        3.42.1\n",
            "PyJWT                            2.3.0\n",
            "pymc                             5.7.2\n",
            "PyMeeus                          0.5.12\n",
            "pymystem3                        0.2.0\n",
            "PyOpenGL                         3.1.7\n",
            "pyOpenSSL                        23.2.0\n",
            "pyparsing                        3.1.1\n",
            "pyproj                           3.6.0\n",
            "pyproject_hooks                  1.0.0\n",
            "PySocks                          1.7.1\n",
            "pytensor                         2.14.2\n",
            "pytest                           7.4.0\n",
            "python-apt                       0.0.0\n",
            "python-dateutil                  2.8.2\n",
            "python-louvain                   0.16\n",
            "python-slugify                   8.0.1\n",
            "python-utils                     3.7.0\n",
            "pytz                             2023.3\n",
            "pyviz-comms                      2.3.2\n",
            "PyWavelets                       1.4.1\n",
            "PyYAML                           6.0.1\n",
            "pyzmq                            23.2.1\n",
            "qdldl                            0.1.7.post0\n",
            "qudida                           0.0.4\n",
            "referencing                      0.30.2\n",
            "regex                            2023.6.3\n",
            "requests                         2.31.0\n",
            "requests-oauthlib                1.3.1\n",
            "requirements-parser              0.5.0\n",
            "rich                             13.5.2\n",
            "rpds-py                          0.9.2\n",
            "rpy2                             3.4.2\n",
            "rsa                              4.9\n",
            "scikit-image                     0.19.3\n",
            "scikit-learn                     1.2.2\n",
            "scipy                            1.10.1\n",
            "scs                              3.2.3\n",
            "seaborn                          0.12.2\n",
            "SecretStorage                    3.3.1\n",
            "Send2Trash                       1.8.2\n",
            "setuptools                       67.7.2\n",
            "shapely                          2.0.1\n",
            "six                              1.16.0\n",
            "sklearn-pandas                   2.2.0\n",
            "smart-open                       6.3.0\n",
            "sniffio                          1.3.0\n",
            "snowballstemmer                  2.2.0\n",
            "sortedcontainers                 2.4.0\n",
            "soundfile                        0.12.1\n",
            "soupsieve                        2.4.1\n",
            "soxr                             0.3.5\n",
            "spacy                            3.6.1\n",
            "spacy-legacy                     3.0.12\n",
            "spacy-loggers                    1.0.4\n",
            "Sphinx                           5.0.2\n",
            "sphinxcontrib-applehelp          1.0.6\n",
            "sphinxcontrib-devhelp            1.0.4\n",
            "sphinxcontrib-htmlhelp           2.0.3\n",
            "sphinxcontrib-jsmath             1.0.1\n",
            "sphinxcontrib-qthelp             1.0.5\n",
            "sphinxcontrib-serializinghtml    1.1.7\n",
            "SQLAlchemy                       2.0.19\n",
            "sqlparse                         0.4.4\n",
            "srsly                            2.4.7\n",
            "statsmodels                      0.14.0\n",
            "sympy                            1.12\n",
            "tables                           3.8.0\n",
            "tabulate                         0.9.0\n",
            "tbb                              2021.10.0\n",
            "tblib                            2.0.0\n",
            "tenacity                         8.2.2\n",
            "tensorboard                      2.12.3\n",
            "tensorboard-data-server          0.7.1\n",
            "tensorflow                       2.12.0\n",
            "tensorflow-datasets              4.9.2\n",
            "tensorflow-estimator             2.12.0\n",
            "tensorflow-gcs-config            2.12.0\n",
            "tensorflow-hub                   0.14.0\n",
            "tensorflow-io-gcs-filesystem     0.33.0\n",
            "tensorflow-metadata              1.14.0\n",
            "tensorflow-probability           0.20.1\n",
            "tensorstore                      0.1.41\n",
            "termcolor                        2.3.0\n",
            "terminado                        0.17.1\n",
            "text-unidecode                   1.3\n",
            "textblob                         0.17.1\n",
            "tf-slim                          1.1.0\n",
            "thinc                            8.1.12\n",
            "threadpoolctl                    3.2.0\n",
            "tifffile                         2023.8.12\n",
            "tinycss2                         1.2.1\n",
            "toml                             0.10.2\n",
            "tomli                            2.0.1\n",
            "toolz                            0.12.0\n",
            "torch                            2.0.1+cu118\n",
            "torchaudio                       2.0.2+cu118\n",
            "torchdata                        0.6.1\n",
            "torchsummary                     1.5.1\n",
            "torchtext                        0.15.2\n",
            "torchvision                      0.15.2+cu118\n",
            "tornado                          6.3.1\n",
            "tqdm                             4.66.1\n",
            "traitlets                        5.7.1\n",
            "triton                           2.0.0\n",
            "tweepy                           4.13.0\n",
            "typer                            0.9.0\n",
            "types-setuptools                 68.0.0.3\n",
            "typing_extensions                4.7.1\n",
            "tzlocal                          5.0.1\n",
            "uc-micro-py                      1.0.2\n",
            "uritemplate                      4.1.1\n",
            "urllib3                          2.0.4\n",
            "vega-datasets                    0.9.0\n",
            "wadllib                          1.3.6\n",
            "wasabi                           1.1.2\n",
            "wcwidth                          0.2.6\n",
            "webcolors                        1.13\n",
            "webencodings                     0.5.1\n",
            "websocket-client                 1.6.1\n",
            "Werkzeug                         2.3.6\n",
            "wheel                            0.41.1\n",
            "widgetsnbextension               3.6.5\n",
            "wordcloud                        1.9.2\n",
            "wrapt                            1.14.1\n",
            "xarray                           2023.7.0\n",
            "xarray-einstats                  0.6.0\n",
            "xgboost                          1.7.6\n",
            "xlrd                             2.0.1\n",
            "xyzservices                      2023.7.0\n",
            "yarl                             1.9.2\n",
            "yellowbrick                      1.5\n",
            "yfinance                         0.2.28\n",
            "zict                             3.0.0\n",
            "zipp                             3.16.2\n"
          ]
        }
      ]
    },
    {
      "cell_type": "code",
      "source": [
        "#특정 라이프러리 확인\n",
        "!pip show numpy"
      ],
      "metadata": {
        "colab": {
          "base_uri": "https://localhost:8080/"
        },
        "id": "hEI3LSYSAjEH",
        "outputId": "2f53d01e-d36d-4ad0-d5c1-3873b8510684"
      },
      "execution_count": null,
      "outputs": [
        {
          "output_type": "stream",
          "name": "stdout",
          "text": [
            "Name: numpy\n",
            "Version: 1.25.2\n",
            "Summary: Fundamental package for array computing in Python\n",
            "Home-page: https://www.numpy.org\n",
            "Author: Travis E. Oliphant et al.\n",
            "Author-email: \n",
            "License: BSD-3-Clause\n",
            "Location: /usr/local/lib/python3.10/dist-packages\n",
            "Requires: \n",
            "Required-by: albumentations, altair, arviz, astropy, autograd, blis, bokeh, chex, cmdstanpy, contourpy, cufflinks, cvxpy, datascience, db-dtypes, dopamine-rl, ecos, flax, folium, gensim, gym, h5py, holoviews, hyperopt, imageio, imbalanced-learn, imgaug, jax, jaxlib, librosa, lightgbm, matplotlib, matplotlib-venn, missingno, mizani, ml-dtypes, mlxtend, moviepy, music21, nibabel, numba, numexpr, opencv-contrib-python, opencv-python, opencv-python-headless, opt-einsum, optax, orbax-checkpoint, osqp, pandas, pandas-gbq, patsy, plotnine, prophet, pyarrow, pycocotools, pyerfa, pymc, pytensor, python-louvain, PyWavelets, qdldl, qudida, scikit-image, scikit-learn, scipy, scs, seaborn, shapely, sklearn-pandas, soxr, spacy, statsmodels, tables, tensorboard, tensorflow, tensorflow-datasets, tensorflow-hub, tensorflow-probability, tensorstore, thinc, tifffile, torchtext, torchvision, wordcloud, xarray, xarray-einstats, xgboost, yellowbrick, yfinance\n"
          ]
        }
      ]
    },
    {
      "cell_type": "code",
      "source": [
        "#특정 라이브러리 설치\n",
        "!pip install numpy"
      ],
      "metadata": {
        "colab": {
          "base_uri": "https://localhost:8080/",
          "height": 266
        },
        "id": "VBuP-obpBInu",
        "outputId": "8ab144e9-432b-49cc-f428-9e549b61929a"
      },
      "execution_count": null,
      "outputs": [
        {
          "output_type": "stream",
          "name": "stdout",
          "text": [
            "Collecting numpy\n",
            "  Downloading numpy-1.25.2-cp310-cp310-manylinux_2_17_x86_64.manylinux2014_x86_64.whl (18.2 MB)\n",
            "\u001b[2K     \u001b[90m━━━━━━━━━━━━━━━━━━━━━━━━━━━━━━━━━━━━━━━━\u001b[0m \u001b[32m18.2/18.2 MB\u001b[0m \u001b[31m48.7 MB/s\u001b[0m eta \u001b[36m0:00:00\u001b[0m\n",
            "\u001b[?25hInstalling collected packages: numpy\n",
            "\u001b[31mERROR: pip's dependency resolver does not currently take into account all the packages that are installed. This behaviour is the source of the following dependency conflicts.\n",
            "numba 0.56.4 requires numpy<1.24,>=1.18, but you have numpy 1.25.2 which is incompatible.\n",
            "tensorflow 2.12.0 requires numpy<1.24,>=1.22, but you have numpy 1.25.2 which is incompatible.\u001b[0m\u001b[31m\n",
            "\u001b[0mSuccessfully installed numpy-1.25.2\n"
          ]
        },
        {
          "output_type": "display_data",
          "data": {
            "application/vnd.colab-display-data+json": {
              "pip_warning": {
                "packages": [
                  "numpy"
                ]
              }
            }
          },
          "metadata": {}
        }
      ]
    },
    {
      "cell_type": "code",
      "source": [
        "#특정 라이브러리 삭제\n",
        "!pip uninstall numpy"
      ],
      "metadata": {
        "colab": {
          "base_uri": "https://localhost:8080/"
        },
        "id": "EpCYFPA2BZap",
        "outputId": "d1dd7bc7-fada-4eb9-91fa-1bd3202cdc3a"
      },
      "execution_count": null,
      "outputs": [
        {
          "output_type": "stream",
          "name": "stdout",
          "text": [
            "Found existing installation: numpy 1.23.5\n",
            "Uninstalling numpy-1.23.5:\n",
            "  Would remove:\n",
            "    /usr/local/bin/f2py\n",
            "    /usr/local/bin/f2py3\n",
            "    /usr/local/bin/f2py3.10\n",
            "    /usr/local/lib/python3.10/dist-packages/numpy-1.23.5.dist-info/*\n",
            "    /usr/local/lib/python3.10/dist-packages/numpy.libs/libgfortran-040039e1.so.5.0.0\n",
            "    /usr/local/lib/python3.10/dist-packages/numpy.libs/libopenblas64_p-r0-742d56dc.3.20.so\n",
            "    /usr/local/lib/python3.10/dist-packages/numpy.libs/libquadmath-96973f99.so.0.0.0\n",
            "    /usr/local/lib/python3.10/dist-packages/numpy/*\n",
            "Proceed (Y/n)? \n",
            "  Successfully uninstalled numpy-1.23.5\n"
          ]
        }
      ]
    },
    {
      "cell_type": "markdown",
      "source": [
        "**수학 연산하기**"
      ],
      "metadata": {
        "id": "3a9cMujtEfOz"
      }
    },
    {
      "cell_type": "code",
      "source": [
        "a=10\n",
        "b=20\n",
        "c=5\n",
        "d=3\n",
        "print('10+20=',a+b)\n",
        "print('20-10=',b-a)\n",
        "print('20*10=',b*a)\n",
        "print('10/5=',a/c)\n",
        "print('10%5=',a%c)\n",
        "print('10*10*10=10**3=',a**d)\n"
      ],
      "metadata": {
        "colab": {
          "base_uri": "https://localhost:8080/"
        },
        "id": "IxIOQS3cEeTE",
        "outputId": "693b5a25-a658-40f1-858e-36792f833479"
      },
      "execution_count": null,
      "outputs": [
        {
          "output_type": "stream",
          "name": "stdout",
          "text": [
            "10+20= 30\n",
            "20-10= 10\n",
            "20*10= 200\n",
            "10/5= 2.0\n",
            "10%5= 0\n",
            "10*10*10=10**3= 1000\n"
          ]
        }
      ]
    },
    {
      "cell_type": "markdown",
      "source": [
        "**파이썬으로 표현하기**"
      ],
      "metadata": {
        "id": "D6aj-grkGbAs"
      }
    },
    {
      "cell_type": "code",
      "source": [
        "#문제1:10+3*4결과 출력\n",
        "print('문제1의 답:',10+3*4)\n",
        "#문제2:아이폰 15대 1대당 가격 130만원일 때 총 금액은\n",
        "print('문제2의 답:',15*1300000)\n",
        "#문제3:주어진 임의의 자연수가 홀수인지 짝수인지 판별하는 방법\n",
        "import random\n",
        "number=random.randint(1,100) #1~100까지의 임의의 정수\n",
        "if number%2==0 : #number를 2로 나눠서 나머지가 0인 것 : 짝수\n",
        "   print(number,'짝수')\n",
        "else:\n",
        "   print(number,'홀수')\n",
        "#문제4:2**3*5**4*3**4\n",
        "print('문제4의 답:',2**3*5**4*3**4)"
      ],
      "metadata": {
        "colab": {
          "base_uri": "https://localhost:8080/"
        },
        "id": "bC4SqzG7GfEr",
        "outputId": "2a6a9b65-ca81-475b-c179-29f5888c5368"
      },
      "execution_count": null,
      "outputs": [
        {
          "output_type": "stream",
          "name": "stdout",
          "text": [
            "문제1의 답: 22\n",
            "문제2의 답: 19500000\n",
            "58 짝수\n",
            "문제4의 답: 405000\n"
          ]
        }
      ]
    },
    {
      "cell_type": "code",
      "source": [
        "# 문제1: 10 + 3 x 4 결과 출력\n",
        "print('10 + 3 x 4 =', 10 + 3 * 4)\n",
        "\n",
        "# 문제2: 아이폰 15대를 가지고 있다. 아이폰의 가격이 130만원 일 때 총 금액은?\n",
        "iphone = 15\n",
        "price = 1300000\n",
        "print('%d x %d= %d' % (iphone, price, iphone * price))\n",
        "print(f'{iphone} X {price} = {iphone*price}')\n",
        "\n",
        "# 문제3: 주어진 자연수가 홀수인지 짝수인지 판별하는 방법은?\n",
        "import random\n",
        "number = random.randint(1, 100)  # 1~100까지의 임의의 정수\n",
        "if number%2==0 :   # number를 2로 나눠서 나머지가 0인 것: 짝수\n",
        "    print(number, '짝수')\n",
        "else:\n",
        "    print(number, '홀수')\n",
        "\n",
        "# 문제4: 2x2x2x5x5x5x5x3x3x3x3을 제곱형태로 나타낸 후 그 결과 출력하기\n",
        "print('2x2x2x5x5x5x5x3x3x3x3=', 2*2*2*5*5*5*5*3*3*3*3)\n",
        "print('2x2x2x5x5x5x5x3x3x3x3=', 2**3 * 5**4 * 3**4)"
      ],
      "metadata": {
        "colab": {
          "base_uri": "https://localhost:8080/"
        },
        "id": "KEdpca0qOdwh",
        "outputId": "4fb2cc75-f0aa-47ea-bcf7-2d59f3f3b9f4"
      },
      "execution_count": null,
      "outputs": [
        {
          "output_type": "stream",
          "name": "stdout",
          "text": [
            "10 + 3 x 4 = 22\n",
            "15 x 1300000= 19500000\n",
            "15 X 1300000 = 19500000\n",
            "50 짝수\n",
            "2x2x2x5x5x5x5x3x3x3x3= 405000\n",
            "2x2x2x5x5x5x5x3x3x3x3= 405000\n"
          ]
        }
      ]
    },
    {
      "cell_type": "markdown",
      "source": [
        "**문자열 데이터를 숫자로 변형하기**"
      ],
      "metadata": {
        "id": "R0DgLjEdT-uW"
      }
    },
    {
      "cell_type": "code",
      "source": [
        "# 표준 입력(키보드로부터 데이터를 입력받는 것)\n",
        "# a = int(a)\n",
        "a = float(input('숫자를 입력하세요: '))\n",
        "a = list('apple')\n",
        "\n",
        "# 표준 출력\n",
        "print(f'변수 a의 값: {a}, {type(a)}')"
      ],
      "metadata": {
        "colab": {
          "base_uri": "https://localhost:8080/"
        },
        "id": "5FrDW93NUCZ2",
        "outputId": "46ba6816-d9ac-4bd0-99e4-8fe27764fc63"
      },
      "execution_count": null,
      "outputs": [
        {
          "output_type": "stream",
          "name": "stdout",
          "text": [
            "숫자를 입력하세요: 30\n",
            "변수 a의 값: ['a', 'p', 'p', 'l', 'e'], <class 'list'>\n"
          ]
        }
      ]
    },
    {
      "cell_type": "markdown",
      "source": [
        "**다양한 변수 출력 방법**"
      ],
      "metadata": {
        "id": "9qWNUP5zW-Ua"
      }
    },
    {
      "cell_type": "code",
      "source": [
        "num1=int(input('첫번째 숫자:'))\n",
        "num2=int(input('두번째 숫자:'))\n",
        "print('-'*50) #* 문자열 반복\n",
        "print('덧셈 : %d + %d = %d'% (num1, num2, num1+num2))\n",
        "print('뺄셈 : %d - %d = %d'% (num1, num2, num1-num2))\n",
        "print('곱셈 : %d * %d = %d'% (num1, num2, num1*num2))\n",
        "print('나눗셈 : %d / %d = %f'% (num1, num2, num1/num2))\n"
      ],
      "metadata": {
        "colab": {
          "base_uri": "https://localhost:8080/"
        },
        "id": "N0gBtEjhXBiD",
        "outputId": "d18d9720-9bbd-43f8-cf24-f110b6128a79"
      },
      "execution_count": null,
      "outputs": [
        {
          "output_type": "stream",
          "name": "stdout",
          "text": [
            "첫번째 숫자:1\n",
            "두번째 숫자:2\n",
            "--------------------------------------------------\n",
            "덧셈 : 1 + 2 = 3\n",
            "뺄셈 : 1 - 2 = -1\n",
            "덧셈 : 1 * 2 = 2\n",
            "덧셈 : 1 / 2 = 0.500000\n"
          ]
        }
      ]
    },
    {
      "cell_type": "markdown",
      "source": [
        "f스트링 함수를 이용해 출력하기"
      ],
      "metadata": {
        "id": "PDyUbj9DYagt"
      }
    },
    {
      "cell_type": "code",
      "source": [
        "num1=int(input('첫번째 숫자:'))\n",
        "num2=int(input('두번째 숫자:'))\n",
        "print('-'*50) #* 문자열 반복\n",
        "print(f'덧셈 : {num1} + {num2} = {num1+num2}')\n",
        "print(f'뺄셈 : {num1} - {num2} = {num1-num2}')\n",
        "print(f'곱셈 : {num1} * {num2} = {num1*num2}')\n",
        "print(f'나눗셈 : {num1} / {num2} = {num1/num2:.2f}')"
      ],
      "metadata": {
        "colab": {
          "base_uri": "https://localhost:8080/"
        },
        "id": "yNif3dCYYflF",
        "outputId": "a8c7a05f-360c-4398-e2df-d8b3a47615da"
      },
      "execution_count": null,
      "outputs": [
        {
          "output_type": "stream",
          "name": "stdout",
          "text": [
            "첫번째 숫자:100\n",
            "두번째 숫자:30\n",
            "--------------------------------------------------\n",
            "덧셈 : 100 + 30 = 130\n",
            "뺄셈 : 100 - 30 = 70\n",
            "곱셈 : 100 * 30 = 3000\n",
            "나눗셈 : 100 / 30 = 3.33\n"
          ]
        }
      ]
    },
    {
      "cell_type": "markdown",
      "source": [
        "**실습문제**"
      ],
      "metadata": {
        "id": "8GJ0YtA2ZPS2"
      }
    },
    {
      "cell_type": "code",
      "source": [
        "velocity = float(input('속력을 입력해 주세요(km/h):'))\n",
        "distance = float(input('거리를 입력해 주세요(km):'))\n",
        "print('-'*50) #* 문자열 반복\n",
        "print(f'속력 : {velocity} km/h')\n",
        "print(f'거리 : {distance} km')\n",
        "print(f'시간 : {velocity / distance} h')\n",
        "time=eval(f'{distance}/{velocity}')\n",
        "print(f'걸린 시간은 {time}h={distance}km / {velocity}km/h')\n"
      ],
      "metadata": {
        "colab": {
          "base_uri": "https://localhost:8080/"
        },
        "id": "jsP_NEjdZViF",
        "outputId": "a779c6dc-75f6-4b64-c7ab-fd8cd29be93d"
      },
      "execution_count": null,
      "outputs": [
        {
          "output_type": "stream",
          "name": "stdout",
          "text": [
            "속력을 입력해 주세요(km/h):100\n",
            "거리를 입력해 주세요(km):325\n",
            "--------------------------------------------------\n",
            "속력 : 100.0 km/h\n",
            "거리 : 325.0 km\n",
            "시간 : 0.3076923076923077 h\n",
            "걸린 시간은 3.25h=325.0km/100.0km/h\n"
          ]
        }
      ]
    },
    {
      "cell_type": "markdown",
      "source": [
        "**eval()함수 사용하여 문자열 계산**"
      ],
      "metadata": {
        "id": "IHVZljRSb9mg"
      }
    },
    {
      "cell_type": "code",
      "source": [
        "#eval()함수 사용\n",
        "eval('10+40*3/2')"
      ],
      "metadata": {
        "colab": {
          "base_uri": "https://localhost:8080/"
        },
        "id": "mvlYFj4scDCP",
        "outputId": "298bf318-6bd9-4801-b68e-bdb74bb4a591"
      },
      "execution_count": null,
      "outputs": [
        {
          "output_type": "execute_result",
          "data": {
            "text/plain": [
              "70.0"
            ]
          },
          "metadata": {},
          "execution_count": 22
        }
      ]
    },
    {
      "cell_type": "markdown",
      "source": [
        "**수학함수 사용하여 계산하기**"
      ],
      "metadata": {
        "id": "Wi7Z4sPZdfeq"
      }
    },
    {
      "cell_type": "code",
      "source": [
        "import math\n",
        "a=-3.14\n",
        "print(f'원주율:{math.pi}')\n",
        "print(f'절대값:{abs(a)}')\n",
        "print(f'반올림:{round(a)}')\n",
        "print(f'올림:{math.ceil(a)}')\n",
        "print(f'내림:{math.floor(a)}')\n",
        "print(f'제곱:{math.pow(2,8)}')\n",
        "print(f'제곱근:{math.sqrt(4)}')\n",
        "print(f'로그:{math.log(10)}')"
      ],
      "metadata": {
        "colab": {
          "base_uri": "https://localhost:8080/"
        },
        "id": "219DSAoCdmSS",
        "outputId": "8553d252-df58-495d-d36f-8380a4cbf5ca"
      },
      "execution_count": null,
      "outputs": [
        {
          "output_type": "stream",
          "name": "stdout",
          "text": [
            "원주율:3.141592653589793\n",
            "절대값:3.14\n",
            "반올림:-3\n",
            "올림:-3\n",
            "내림:-4\n",
            "제곱:256.0\n",
            "제곱근:2.0\n",
            "로그:2.302585092994046\n"
          ]
        }
      ]
    },
    {
      "cell_type": "markdown",
      "source": [
        "**실습**\n"
      ],
      "metadata": {
        "id": "6ZWI776KeUoK"
      }
    },
    {
      "cell_type": "code",
      "source": [
        "import math\n",
        "r=4\n",
        "b=3.14\n",
        "c=2\n",
        "d=7\n",
        "rate=3.14\n",
        "print(f'문제1 반지름이 4인 원의 넓이 출력:{r**c*math.pi}')\n",
        "print(f'문제2 3.14 곱하기 2 나누기 7 의 값을 반올림하여 계산결과 출력:{round(3.14*2/7)}')\n",
        "print(f'문제3 원주율을 3.14로 만들어서 반지름이 4인 원의 둘레의 길이 출력:{c*r*4}')"
      ],
      "metadata": {
        "colab": {
          "base_uri": "https://localhost:8080/"
        },
        "id": "5m4An3XfeXCk",
        "outputId": "0ed1ee75-22fa-4606-b00a-f84666391e99"
      },
      "execution_count": null,
      "outputs": [
        {
          "output_type": "stream",
          "name": "stdout",
          "text": [
            "문제1: 반지름이 4인 원의 넓이 출력:50.26548245743669\n",
            "문제2 :3.14 곱하기 2 나누기 7 의 값을 반올림하여 계산결과 출력:1\n",
            "문제3 : 원주율을 3.14로 만들어서 반지름이 4인 원의 둘레의 길이 출력:32\n"
          ]
        }
      ]
    },
    {
      "cell_type": "code",
      "source": [
        "a=input('정수를 입력하세요:')\n",
        "b=int(a)\n",
        "print(f'{a}+{c*b}+{d*b}={b+b*c+b*d}')"
      ],
      "metadata": {
        "colab": {
          "base_uri": "https://localhost:8080/"
        },
        "id": "J7RM6_-CmvHe",
        "outputId": "37bd8714-893a-4c77-de00-5230fff10c77"
      },
      "execution_count": null,
      "outputs": [
        {
          "output_type": "stream",
          "name": "stdout",
          "text": [
            "정수를 입력하세요:7\n",
            "7+77+777=861\n"
          ]
        }
      ]
    },
    {
      "cell_type": "code",
      "source": [
        "a=input('정수를 입력하세요:')\n",
        "result=f\"{a}+{a*2}+{a*3}\"\n",
        "print(f'{result} = {eval(result)}')"
      ],
      "metadata": {
        "colab": {
          "base_uri": "https://localhost:8080/"
        },
        "id": "K2GlJrXYsaeE",
        "outputId": "63d8a3ce-eac2-4497-99aa-f460b2224727"
      },
      "execution_count": null,
      "outputs": [
        {
          "output_type": "stream",
          "name": "stdout",
          "text": [
            "정수를 입력하세요:7\n",
            "7+77+777 = 861\n"
          ]
        }
      ]
    },
    {
      "cell_type": "markdown",
      "source": [
        "###1-3.파이썬 실습 3일차"
      ],
      "metadata": {
        "id": "rflAmrlI9p-m"
      }
    },
    {
      "cell_type": "markdown",
      "source": [
        "####-문자와 문자열"
      ],
      "metadata": {
        "id": "M-0yTQCb_vHI"
      }
    },
    {
      "cell_type": "markdown",
      "source": [
        "**변환**"
      ],
      "metadata": {
        "id": "F_OOhwavAEBY"
      }
    },
    {
      "cell_type": "code",
      "source": [
        "print(ord('A'))\n",
        "print(ord('a'))\n",
        "print(chr(65))\n",
        "\n",
        "for c in '파이썬':\n",
        "  print(format(ord(C),'b'),end',')\n",
        "\n",
        "print(\" \")"
      ],
      "metadata": {
        "colab": {
          "base_uri": "https://localhost:8080/"
        },
        "id": "Oqcjzq6qANJQ",
        "outputId": "a9725bd4-907a-4a71-b627-08ff10c46396"
      },
      "execution_count": 1,
      "outputs": [
        {
          "output_type": "stream",
          "name": "stdout",
          "text": [
            "65\n",
            "97\n",
            "A\n"
          ]
        }
      ]
    },
    {
      "cell_type": "markdown",
      "source": [
        "**실습**"
      ],
      "metadata": {
        "id": "iccByNZnBu53"
      }
    },
    {
      "cell_type": "code",
      "source": [
        "#주문받아 출력하기\n",
        "\n",
        "a='''카페 메뉴판\n",
        "- 아메리카노: 3000원\n",
        "- 카페라테:   4000원\n",
        "- 카페모카:   5000원'''\n",
        "\n",
        "menu=a\n",
        "\n",
        "print('카페 주문 프로그램입니다.')\n",
        "print('-'*50)\n",
        "print(menu)\n",
        "print('-'*50)\n",
        "coffee=input('주문하실 음료를 입력하세요: ')\n",
        "print('-'*50)\n",
        "print(f'주문하신 음료 {coffee}가 나왔습니다. 맛있게 드세요~')"
      ],
      "metadata": {
        "colab": {
          "base_uri": "https://localhost:8080/"
        },
        "id": "qoHUb2sMBuUJ",
        "outputId": "72e8f577-e3c4-426b-bddf-32f5f0435f6d"
      },
      "execution_count": 6,
      "outputs": [
        {
          "output_type": "stream",
          "name": "stdout",
          "text": [
            "카페 주문 프로그램입니다.\n",
            "--------------------------------------------------\n",
            "카페 메뉴판\n",
            "- 아메리카노: 3000원\n",
            "- 카페라테:   4000원\n",
            "- 카페모카:   5000원\n",
            "--------------------------------------------------\n",
            "주문하실 음료를 입력하세요: 카페모카\n",
            "--------------------------------------------------\n",
            "주문하신 음료 카페모카가 나왔습니다. 맛있게 드세요~\n"
          ]
        }
      ]
    },
    {
      "cell_type": "markdown",
      "source": [
        "**문자열 연산**"
      ],
      "metadata": {
        "id": "ZD6rKG8VDsxu"
      }
    },
    {
      "cell_type": "code",
      "source": [
        "print('안녕하세요'+'이수연님')\n",
        "print('안녕하세요','이수연님') #,는 공백\n",
        "print('이수연님 '*3)           #*는 반복"
      ],
      "metadata": {
        "colab": {
          "base_uri": "https://localhost:8080/"
        },
        "id": "blbXNmyvDyEe",
        "outputId": "5e79d751-0b1d-490d-c653-8958549a3c22"
      },
      "execution_count": 8,
      "outputs": [
        {
          "output_type": "stream",
          "name": "stdout",
          "text": [
            "안녕하세요이수연님\n",
            "안녕하세요 이수연님\n",
            "이수연님 이수연님 이수연님 \n"
          ]
        }
      ]
    },
    {
      "cell_type": "markdown",
      "source": [
        "**실습**"
      ],
      "metadata": {
        "id": "zKP_zEDJEqvO"
      }
    },
    {
      "cell_type": "code",
      "source": [
        "print(\"mary's cosmetics\")\n",
        "print('박씨가 소리질렀다. \"도둑이야!\".')\n",
        "print('안녕하세요.\\n오늘\\t날씨가\\t\\t좋습니다') #\\n줄띄어쓰기 \\t탭\n"
      ],
      "metadata": {
        "colab": {
          "base_uri": "https://localhost:8080/"
        },
        "id": "IIcbZnfoEuFV",
        "outputId": "df86893b-fd83-4d9a-8073-8662b6cafcde"
      },
      "execution_count": 13,
      "outputs": [
        {
          "output_type": "stream",
          "name": "stdout",
          "text": [
            "mary's cosmetics\n",
            "박씨가 소리질렀다. \"도둑이야!\".\n",
            "안녕하세요.\n",
            "오늘\t날씨가\t\t좋습니다\n"
          ]
        }
      ]
    },
    {
      "cell_type": "markdown",
      "source": [
        "**문자열 인덱싱과 슬라이싱**"
      ],
      "metadata": {
        "id": "MSWJv7nSGtpq"
      }
    },
    {
      "cell_type": "code",
      "source": [
        "a=\"사랑해요,파이썬!\"\n",
        "print(a[0])            #문자열 처음은 0부터 시작\n",
        "print(a[0:3])          #0<=a<3\n",
        "print(a[0:3:2])        #0부터 3까지 2씩 증가\n",
        "print(a[:3])\n",
        "print(a[:])"
      ],
      "metadata": {
        "colab": {
          "base_uri": "https://localhost:8080/"
        },
        "id": "pcC4JUMnGy1I",
        "outputId": "edccc5e7-2ae3-4bb3-90c5-aa3b86b9ed25"
      },
      "execution_count": 17,
      "outputs": [
        {
          "output_type": "stream",
          "name": "stdout",
          "text": [
            "사\n",
            "사랑해\n",
            "사해\n",
            "사랑해\n",
            "사랑해요,파이썬!\n"
          ]
        }
      ]
    },
    {
      "cell_type": "code",
      "source": [
        "a='우리는 민족중흥의 역사적 사명을 띠고 이 땅에 태어났다.'\n",
        "print(a[3:12])\n",
        "print(a[::-1])                                                 #역순"
      ],
      "metadata": {
        "colab": {
          "base_uri": "https://localhost:8080/"
        },
        "id": "e3M2VcTtIXmQ",
        "outputId": "35e8c6cb-d7f6-4559-f9ca-ed18c4a2a656"
      },
      "execution_count": 24,
      "outputs": [
        {
          "output_type": "stream",
          "name": "stdout",
          "text": [
            " 민족중흥의 역사\n",
            ".다났어태 에땅 이 고띠 을명사 적사역 의흥중족민 는리우\n"
          ]
        }
      ]
    },
    {
      "cell_type": "code",
      "source": [
        "문장='''이 문서는 토론을 통해 \"도서의 구체적인 이름은 네이버 책 서비스 기준으로 작성자가 다른 최근 1년 네티즌리뷰가 5개 이상이거나 1개 이상 대학에서 교육용으로 사용되고 있을 때 서술 가능하다. 이를 충족하지 않으면 서술에서 제거할 수 있다. 이미지는 등록하지 않는다.\"로 합의되었습니다. 합의된 부분을 토론 없이 수정할 시 편집권 남용으로 간주되어 제재될 수 있습니다.\n",
        "'''\n",
        "print(문장.count('이'))\n",
        "print(문장.find('토론')) #index는 없으면 오류남"
      ],
      "metadata": {
        "colab": {
          "base_uri": "https://localhost:8080/"
        },
        "id": "KuRoZbg1J4SH",
        "outputId": "1613ea4b-f70b-45af-9219-068b95d3ee7f"
      },
      "execution_count": 23,
      "outputs": [
        {
          "output_type": "stream",
          "name": "stdout",
          "text": [
            "9\n",
            "6\n"
          ]
        }
      ]
    },
    {
      "cell_type": "markdown",
      "source": [
        "**퀴즈**"
      ],
      "metadata": {
        "id": "3TpkX7hLMBD8"
      }
    },
    {
      "cell_type": "code",
      "source": [
        " a=input('파일을 입력하세요:')\n",
        " tmp=a.split('.')\n",
        " print('파일:',a)\n",
        " print('파일명:',{tmp[0]},', 확장자:',{tmp[1]})"
      ],
      "metadata": {
        "colab": {
          "base_uri": "https://localhost:8080/"
        },
        "id": "kF1IM1y_MEHn",
        "outputId": "94501f72-f944-44a6-c0e4-03d887bd8109"
      },
      "execution_count": 31,
      "outputs": [
        {
          "output_type": "stream",
          "name": "stdout",
          "text": [
            "파일을 입력하세요:test.py\n",
            "파일: test.py\n",
            "파일명: {'test'} , 확장자: {'py'}\n"
          ]
        }
      ]
    },
    {
      "cell_type": "code",
      "source": [
        "meal=4450\n",
        "tax=float(6.75)\n",
        "tip=float(15)\n",
        "price=meal*tax\n",
        "total=meal*tip+meal+price\n",
        "print(total)"
      ],
      "metadata": {
        "colab": {
          "base_uri": "https://localhost:8080/"
        },
        "id": "EXSVcTm8ROQa",
        "outputId": "27999534-609f-4d3d-d14f-a5859dbeef51"
      },
      "execution_count": 33,
      "outputs": [
        {
          "output_type": "stream",
          "name": "stdout",
          "text": [
            "101237.5\n"
          ]
        }
      ]
    },
    {
      "cell_type": "code",
      "source": [
        "c_temp=float(input('섭씨온도를 입력하세요:'))\n",
        "f_temp=(9/5)*c_temp+32\n",
        "print(f'섭씨 온도 {c_temp}C를 화씨 온도로 변환하면: {f_temp}F')"
      ],
      "metadata": {
        "colab": {
          "base_uri": "https://localhost:8080/"
        },
        "id": "7LgUar71T5DA",
        "outputId": "5bd51113-b6fd-4cc1-fb03-22d5b6acc7ec"
      },
      "execution_count": 36,
      "outputs": [
        {
          "output_type": "stream",
          "name": "stdout",
          "text": [
            "섭씨온도를 입력하세요:32.5\n",
            "섭씨 온도 32.5C!를 화씨 온도로 변환하면: 90.5F!\n"
          ]
        }
      ]
    },
    {
      "cell_type": "markdown",
      "source": [
        "**실습:동전 교환 프로그램 만들기**"
      ],
      "metadata": {
        "id": "CrucdTQjX8Bx"
      }
    },
    {
      "cell_type": "code",
      "source": [
        "#1.키보드로 동전 교환 금액을 입력받으세요\n",
        "a=500\n",
        "b=100\n",
        "c=50\n",
        "d=10\n",
        "money=int(input('동전으로 교환할 금액을 입력하세요:'))\n",
        "print('-'*50)\n",
        "print('동전으로 교환하겠습니다.')\n",
        "print(f\"{a}원짜리:{money//a}\")\n",
        "\n",
        "total=money//a\n",
        "money=money-a*total\n",
        "\n",
        "print(f\"{b}원짜리:{money//b}\")\n",
        "\n",
        "total=money//b\n",
        "money=money-b*total\n",
        "\n",
        "print(f\"{c}원짜리:{money//c}\")\n",
        "\n",
        "total=money//c\n",
        "money=money-c*total\n",
        "\n",
        "print(f\"{d}원짜리:{money//d}\")\n",
        "\n",
        "total=money//d\n",
        "money=money-d*total\n",
        "\n",
        "print(f\"1원짜리:\",money)"
      ],
      "metadata": {
        "colab": {
          "base_uri": "https://localhost:8080/"
        },
        "id": "KRm3mRDmYATr",
        "outputId": "0b68c447-f201-4082-99c7-a70e28a4477b"
      },
      "execution_count": 49,
      "outputs": [
        {
          "output_type": "stream",
          "name": "stdout",
          "text": [
            "동전으로 교환할 금액을 입력하세요:4381\n",
            "--------------------------------------------------\n",
            "동전으로 교환하겠습니다.\n",
            "500원짜리:8\n",
            "100원짜리:3\n",
            "50원짜리:1\n",
            "10원짜리:3\n",
            "1원짜리: 1\n"
          ]
        }
      ]
    },
    {
      "cell_type": "markdown",
      "source": [
        "**리스트 생성**"
      ],
      "metadata": {
        "id": "dlh7c_W-f0p6"
      }
    },
    {
      "cell_type": "code",
      "source": [
        "print(list(range(10))) #정수를 순차적으로 만들어주는 함수"
      ],
      "metadata": {
        "colab": {
          "base_uri": "https://localhost:8080/"
        },
        "id": "zhhHXOmSf3dA",
        "outputId": "3fd0ed32-23c8-4adb-b0d9-f7f4406707d2"
      },
      "execution_count": 51,
      "outputs": [
        {
          "output_type": "stream",
          "name": "stdout",
          "text": [
            "[0, 1, 2, 3, 4, 5, 6, 7, 8, 9]\n"
          ]
        }
      ]
    },
    {
      "cell_type": "code",
      "source": [
        "a='python'\n",
        "list(a)"
      ],
      "metadata": {
        "colab": {
          "base_uri": "https://localhost:8080/"
        },
        "id": "air0kPPbgrgE",
        "outputId": "7c70b029-090c-488e-903e-6467d2dd3f02"
      },
      "execution_count": 52,
      "outputs": [
        {
          "output_type": "execute_result",
          "data": {
            "text/plain": [
              "['p', 'y', 't', 'h', 'o', 'n']"
            ]
          },
          "metadata": {},
          "execution_count": 52
        }
      ]
    },
    {
      "cell_type": "code",
      "source": [
        "문장='''이 문서는 토론을 통해 \"도서의 구체적인 이름은 네이버 책 서비스 기준으로 작성자가 다른 최근 1년 네티즌리뷰가 5개 이상이거나 1개 이상 대학에서 교육용으로 사용되고 있을 때 서술 가능하다. 이를 충족하지 않으면 서술에서 제거할 수 있다. 이미지는 등록하지 않는다.\"로 합의되었습니다. 합의된 부분을 토론 없이 수정할 시 편집권 남용으로 간주되어 제재될 수 있습니다.\n",
        "'''\n",
        "문장=문장.replace('네이버','다음')\n",
        "print(문장)\n",
        "result=문장.split(' ')\n",
        "print(f'리스트의 개수(길이):{len(result)}')\n",
        "print(result)"
      ],
      "metadata": {
        "colab": {
          "base_uri": "https://localhost:8080/"
        },
        "outputId": "758de8e9-7ffc-4527-81da-79a376d6c258",
        "id": "Z24ipGbYg_UL"
      },
      "execution_count": 59,
      "outputs": [
        {
          "output_type": "stream",
          "name": "stdout",
          "text": [
            "이 문서는 토론을 통해 \"도서의 구체적인 이름은 다음 책 서비스 기준으로 작성자가 다른 최근 1년 네티즌리뷰가 5개 이상이거나 1개 이상 대학에서 교육용으로 사용되고 있을 때 서술 가능하다. 이를 충족하지 않으면 서술에서 제거할 수 있다. 이미지는 등록하지 않는다.\"로 합의되었습니다. 합의된 부분을 토론 없이 수정할 시 편집권 남용으로 간주되어 제재될 수 있습니다.\n",
            "\n",
            "리스트의 개수(길이):50\n",
            "['이', '문서는', '토론을', '통해', '\"도서의', '구체적인', '이름은', '다음', '책', '서비스', '기준으로', '작성자가', '다른', '최근', '1년', '네티즌리뷰가', '5개', '이상이거나', '1개', '이상', '대학에서', '교육용으로', '사용되고', '있을', '때', '서술', '가능하다.', '이를', '충족하지', '않으면', '서술에서', '제거할', '수', '있다.', '이미지는', '등록하지', '않는다.\"로', '합의되었습니다.', '합의된', '부분을', '토론', '없이', '수정할', '시', '편집권', '남용으로', '간주되어', '제재될', '수', '있습니다.\\n']\n"
          ]
        }
      ]
    },
    {
      "cell_type": "code",
      "source": [
        "color = ['red', 'green', ['blue', 'black'], 'white']\n",
        "print(colors[0])\n",
        "print(colors[2])\n",
        "print(colors[2][1])"
      ],
      "metadata": {
        "colab": {
          "base_uri": "https://localhost:8080/"
        },
        "id": "FOBajGFtiz7G",
        "outputId": "e4555618-176c-4a18-fa8a-447876e38246"
      },
      "execution_count": 62,
      "outputs": [
        {
          "output_type": "stream",
          "name": "stdout",
          "text": [
            "red\n",
            "['blue', 'black']\n",
            "black\n"
          ]
        }
      ]
    },
    {
      "cell_type": "code",
      "source": [
        "colors = ['red', 'green', ['blue', 'black'], 'white']\n",
        "print(colors)\n",
        "colors.append('핑크')\n",
        "print(colors)\n",
        "colors.insert(1,'민트')\n",
        "print(colors)\n",
        "colors[3].insert(1,'연두')\n",
        "print(colors)\n",
        "colors.append(['r','g','b'])\n",
        "print(colors)"
      ],
      "metadata": {
        "colab": {
          "base_uri": "https://localhost:8080/"
        },
        "id": "CO23CYb5kJCr",
        "outputId": "0cf2fdc2-5b48-4686-bd1d-20896acdfb64"
      },
      "execution_count": 66,
      "outputs": [
        {
          "output_type": "stream",
          "name": "stdout",
          "text": [
            "['red', 'green', ['blue', 'black'], 'white']\n",
            "['red', 'green', ['blue', 'black'], 'white', '핑크']\n",
            "['red', '민트', 'green', ['blue', 'black'], 'white', '핑크']\n",
            "['red', '민트', 'green', ['blue', '연두', 'black'], 'white', '핑크']\n",
            "['red', '민트', 'green', ['blue', '연두', 'black'], 'white', '핑크', ['r', 'g', 'b']]\n"
          ]
        }
      ]
    },
    {
      "cell_type": "code",
      "source": [
        "colors[1]='민트초코'\n",
        "print(colors)\n",
        "del colors[3:]\n",
        "print(colors)\n",
        "colors.pop()\n",
        "print(colors)\n",
        "colors.remove('red')\n",
        "print(colors)"
      ],
      "metadata": {
        "colab": {
          "base_uri": "https://localhost:8080/"
        },
        "id": "-5CvbIrqlzfs",
        "outputId": "203a2364-8f41-46ba-ef84-03a99c5e0c7d"
      },
      "execution_count": 88,
      "outputs": [
        {
          "output_type": "stream",
          "name": "stdout",
          "text": [
            "['red', '민트초코']\n",
            "['red', '민트초코']\n",
            "['red']\n",
            "[]\n"
          ]
        }
      ]
    },
    {
      "cell_type": "code",
      "source": [
        "#임의의 수 생성해서 리스트로 만들고 정렬하기\n",
        "import random\n",
        "\n",
        "numbers=[] #list()\n",
        "\n",
        "numbers.append(random.randint(1,100))\n",
        "numbers.append(random.randint(1,100))\n",
        "numbers.append(random.randint(1,100))\n",
        "print(f',오름차순 정렬:{numbers}')\n",
        "\n",
        "numbers.sort()\n",
        "numbers.reverse()\n",
        "print(f'내림차순 정렬:{numbers}')"
      ],
      "metadata": {
        "colab": {
          "base_uri": "https://localhost:8080/"
        },
        "id": "zO3pbM_3rxVv",
        "outputId": "9b9c74f8-c0b0-449b-c220-bcdfd9eb5c7d"
      },
      "execution_count": 96,
      "outputs": [
        {
          "output_type": "stream",
          "name": "stdout",
          "text": [
            "정렬 전:[28, 37, 77]\n",
            "정렬 후:[77, 37, 28]\n"
          ]
        }
      ]
    },
    {
      "cell_type": "markdown",
      "source": [
        "**딕셔너리 생성**"
      ],
      "metadata": {
        "id": "yYTdcn5zyKxV"
      }
    },
    {
      "cell_type": "code",
      "source": [
        "members={\n",
        "    'name':'진영','age':30,'email':'jinyoung@naver.com'\n",
        "}\n",
        "print(type(members),members)\n",
        "print(members['age'])\n",
        "print(members.get('age'))\n",
        "\n",
        "members[7]=['김고은','노정의','신은수']\n",
        "print(members)"
      ],
      "metadata": {
        "colab": {
          "base_uri": "https://localhost:8080/"
        },
        "id": "4uHUIrpiyNxL",
        "outputId": "f9e4d1ea-553e-4c1a-99c7-b4dc7d6b180d"
      },
      "execution_count": 102,
      "outputs": [
        {
          "output_type": "stream",
          "name": "stdout",
          "text": [
            "<class 'dict'> {'name': '진영', 'age': 30, 'email': 'jinyoung@naver.com'}\n",
            "30\n",
            "30\n",
            "{'name': '진영', 'age': 30, 'email': 'jinyoung@naver.com', 7: ['김고은', '노정의', '신은수']}\n"
          ]
        }
      ]
    },
    {
      "cell_type": "code",
      "source": [
        "scores={'국어':100,'수학':90,'영어':80}\n",
        "print(scores)\n",
        "for key in scores:\n",
        "  print('%s=>%d' % (key,scores[key]))\n",
        "print(scores.keys())\n",
        "print(scores.values())\n",
        "print(scores.items())\n",
        "scores['수학']=99\n",
        "print(scores)\n",
        "del(scores['수학'],scores['영어'])\n",
        "print(scores)"
      ],
      "metadata": {
        "colab": {
          "base_uri": "https://localhost:8080/"
        },
        "id": "oZD0CBGX1lQN",
        "outputId": "5f0dc851-ebda-46a8-9526-a49510420da3"
      },
      "execution_count": 122,
      "outputs": [
        {
          "output_type": "stream",
          "name": "stdout",
          "text": [
            "{'국어': 100, '수학': 90, '영어': 80}\n",
            "국어=>100\n",
            "수학=>90\n",
            "영어=>80\n",
            "dict_keys(['국어', '수학', '영어'])\n",
            "dict_values([100, 90, 80])\n",
            "dict_items([('국어', 100), ('수학', 90), ('영어', 80)])\n",
            "{'국어': 100, '수학': 99, '영어': 80}\n",
            "{'국어': 100}\n"
          ]
        }
      ]
    },
    {
      "cell_type": "code",
      "source": [
        "a=tuple()\n",
        "a=()\n",
        "print(type(a))\n",
        "a=(1,)\n",
        "print(type(a),a)\n",
        "a=('사과',)\n",
        "print(type(a),a)\n",
        "a=(1,2,3,4,5)"
      ],
      "metadata": {
        "colab": {
          "base_uri": "https://localhost:8080/"
        },
        "id": "9ZDpp9i97Bbw",
        "outputId": "a4f09047-a56c-4af5-e37f-e87081509203"
      },
      "execution_count": 131,
      "outputs": [
        {
          "output_type": "stream",
          "name": "stdout",
          "text": [
            "<class 'tuple'>\n",
            "<class 'tuple'> (1,)\n",
            "<class 'tuple'> ('사과',)\n"
          ]
        }
      ]
    },
    {
      "cell_type": "markdown",
      "source": [
        "**집합**"
      ],
      "metadata": {
        "id": "oGH7W_NR8fgl"
      }
    },
    {
      "cell_type": "code",
      "source": [
        "a=set()\n",
        "a=set('Hello')\n",
        "print(type(a),a)\n",
        "a=set(['사과','바나나','사과','키위'])\n",
        "print(type(a),a)\n",
        "a=list(set(a))\n",
        "a.sort()\n",
        "print(a)"
      ],
      "metadata": {
        "colab": {
          "base_uri": "https://localhost:8080/"
        },
        "id": "HwzHE6SB8h48",
        "outputId": "33d65e4a-1696-42ab-abd7-55b9a9a19b9f"
      },
      "execution_count": 135,
      "outputs": [
        {
          "output_type": "stream",
          "name": "stdout",
          "text": [
            "<class 'set'> {'o', 'e', 'l', 'H'}\n",
            "<class 'set'> {'키위', '사과', '바나나'}\n",
            "['바나나', '사과', '키위']\n"
          ]
        }
      ]
    }
  ]
}