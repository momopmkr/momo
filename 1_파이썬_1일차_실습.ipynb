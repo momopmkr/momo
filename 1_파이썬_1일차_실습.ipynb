{
  "nbformat": 4,
  "nbformat_minor": 0,
  "metadata": {
    "colab": {
      "provenance": [],
      "toc_visible": true,
      "authorship_tag": "ABX9TyMMQGVbxqmi4WKWAMdID9xu",
      "include_colab_link": true
    },
    "kernelspec": {
      "name": "python3",
      "display_name": "Python 3"
    },
    "language_info": {
      "name": "python"
    }
  },
  "cells": [
    {
      "cell_type": "markdown",
      "metadata": {
        "id": "view-in-github",
        "colab_type": "text"
      },
      "source": [
        "<a href=\"https://colab.research.google.com/github/momopmkr/momo/blob/main/1_%ED%8C%8C%EC%9D%B4%EC%8D%AC_1%EC%9D%BC%EC%B0%A8_%EC%8B%A4%EC%8A%B5.ipynb\" target=\"_parent\"><img src=\"https://colab.research.google.com/assets/colab-badge.svg\" alt=\"Open In Colab\"/></a>"
      ]
    },
    {
      "cell_type": "markdown",
      "source": [
        "# 파이썬 기초 프로그래밍 - 1일차 실습"
      ],
      "metadata": {
        "id": "PJFkurKYeUzm"
      }
    },
    {
      "cell_type": "markdown",
      "source": [
        "**간단 계산기 프로그램 작성하기**"
      ],
      "metadata": {
        "id": "Qzkxz0jqfMXd"
      }
    },
    {
      "cell_type": "code",
      "source": [
        "a=200\n",
        "b=30\n",
        "print('덧셈:',a+b)\n",
        "print('뺄셈:',a-b)\n",
        "print('곱셈:',a*b)\n",
        "print('나눗셈:',a/b)"
      ],
      "metadata": {
        "colab": {
          "base_uri": "https://localhost:8080/"
        },
        "id": "WhL9zTHCfdlU",
        "outputId": "2ed1dcdb-e1ad-489b-e79b-3ac22d02130a"
      },
      "execution_count": null,
      "outputs": [
        {
          "output_type": "stream",
          "name": "stdout",
          "text": [
            "덧셈: 230\n",
            "뺄셈: 170\n",
            "곱셈: 6000\n",
            "나눗셈: 6.666666666666667\n"
          ]
        }
      ]
    },
    {
      "cell_type": "markdown",
      "source": [
        "# 새 섹션"
      ],
      "metadata": {
        "id": "4HQzlCw_gJuF"
      }
    },
    {
      "cell_type": "code",
      "execution_count": null,
      "metadata": {
        "colab": {
          "base_uri": "https://localhost:8080/",
          "height": 35
        },
        "id": "wAngfpewdkNo",
        "outputId": "c4387203-7e42-4a6d-b6cd-b0b90004667a"
      },
      "outputs": [
        {
          "output_type": "execute_result",
          "data": {
            "text/plain": [
              "'3.10.12 (main, Jun 11 2023, 05:26:28) [GCC 11.4.0]'"
            ],
            "application/vnd.google.colaboratory.intrinsic+json": {
              "type": "string"
            }
          },
          "metadata": {},
          "execution_count": 1
        }
      ],
      "source": [
        "import sys\n",
        "sys.version"
      ]
    },
    {
      "cell_type": "markdown",
      "source": [
        "## 1.코랩에서 파이썬 사용하기\n",
        "### 파이썬 실습 1일차\n",
        "#### 시작\n",
        "\n",
        "\n",
        "---\n",
        "\n"
      ],
      "metadata": {
        "id": "u9xrQtOzej6F"
      }
    },
    {
      "cell_type": "markdown",
      "source": [
        "# 새 섹션"
      ],
      "metadata": {
        "id": "7LpvPhqDgllM"
      }
    },
    {
      "cell_type": "markdown",
      "source": [
        "### 1-1.파이썬 실습 1일차\n",
        "#### 시작\n",
        "\n",
        "\n",
        "---"
      ],
      "metadata": {
        "id": "_0Oy7qW0fJvu"
      }
    }
  ]
}