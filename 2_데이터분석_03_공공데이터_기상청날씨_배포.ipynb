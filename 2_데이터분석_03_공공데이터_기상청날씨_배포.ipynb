{
  "cells": [
    {
      "cell_type": "markdown",
      "metadata": {
        "id": "view-in-github",
        "colab_type": "text"
      },
      "source": [
        "<a href=\"https://colab.research.google.com/github/momopmkr/momo/blob/main/2_%EB%8D%B0%EC%9D%B4%ED%84%B0%EB%B6%84%EC%84%9D_03_%EA%B3%B5%EA%B3%B5%EB%8D%B0%EC%9D%B4%ED%84%B0_%EA%B8%B0%EC%83%81%EC%B2%AD%EB%82%A0%EC%94%A8_%EB%B0%B0%ED%8F%AC.ipynb\" target=\"_parent\"><img src=\"https://colab.research.google.com/assets/colab-badge.svg\" alt=\"Open In Colab\"/></a>"
      ]
    },
    {
      "cell_type": "markdown",
      "metadata": {
        "id": "TjKHnIsdaLrG"
      },
      "source": [
        "# Chapter4: 데이터 분석\n",
        "\n",
        "## 3. 공공데이터를 이용한 EDA 분석"
      ]
    },
    {
      "cell_type": "markdown",
      "metadata": {
        "id": "e_agVucoaLrH"
      },
      "source": [
        "## 02- 기상청 데이터 분석"
      ]
    },
    {
      "cell_type": "markdown",
      "metadata": {
        "id": "wYyVo9pwaLrH"
      },
      "source": [
        "---"
      ]
    },
    {
      "cell_type": "markdown",
      "metadata": {
        "id": "Q1-fGJAiaLrH"
      },
      "source": [
        "## 기상청 데이터 분석(종관데이터)"
      ]
    },
    {
      "cell_type": "markdown",
      "metadata": {
        "id": "zXLXN6fWaLrH"
      },
      "source": [
        "### #파이썬으로 데이터 분석하는 순서\n",
        " [사전준비] 필요한 파이썬 라이브러리 설치하기\n",
        " [사전준비] 데이터 준비하기 : 웹 사이트에서 공공데이터 다운로드하기\n",
        " 1. 데이터 불러오기 : 파이썬으로 데이터 읽어서 표로 나타내기\n",
        " 2. 데이터 전처리하기 : 필요한 데이터만 추출하기\n",
        " 3. 데이터 시각화하기 : 데이터 그래프로 나타내기\n",
        " 4. 데이터 저장하기 :  파일로 저장하기"
      ]
    },
    {
      "cell_type": "markdown",
      "metadata": {
        "id": "fScvtEDtaLrI"
      },
      "source": [
        "---"
      ]
    },
    {
      "cell_type": "markdown",
      "metadata": {
        "id": "9kBMYapmaLrI"
      },
      "source": [
        "### #라이브러리 설치 확인하기\n",
        "아래 코드를 실행한 후 오류 메시지가 없으면 성공적으로 설치된 것입니다."
      ]
    },
    {
      "cell_type": "code",
      "execution_count": 1,
      "metadata": {
        "scrolled": true,
        "colab": {
          "base_uri": "https://localhost:8080/",
          "height": 35
        },
        "id": "xDC69XudaLrI",
        "outputId": "61eecfc2-e2db-4741-997f-de3e22d7817c"
      },
      "outputs": [
        {
          "output_type": "execute_result",
          "data": {
            "text/plain": [
              "'1.5.3'"
            ],
            "application/vnd.google.colaboratory.intrinsic+json": {
              "type": "string"
            }
          },
          "metadata": {},
          "execution_count": 1
        }
      ],
      "source": [
        "import pandas  as pd\n",
        "pd.__version__"
      ]
    },
    {
      "cell_type": "code",
      "execution_count": 2,
      "metadata": {
        "colab": {
          "base_uri": "https://localhost:8080/",
          "height": 35
        },
        "id": "eEFoURRIaLrI",
        "outputId": "14e7c286-ee28-4df7-8741-6d25648db24a"
      },
      "outputs": [
        {
          "output_type": "execute_result",
          "data": {
            "text/plain": [
              "'1.23.5'"
            ],
            "application/vnd.google.colaboratory.intrinsic+json": {
              "type": "string"
            }
          },
          "metadata": {},
          "execution_count": 2
        }
      ],
      "source": [
        "import numpy as np\n",
        "np.__version__"
      ]
    },
    {
      "cell_type": "code",
      "execution_count": 3,
      "metadata": {
        "colab": {
          "base_uri": "https://localhost:8080/",
          "height": 35
        },
        "id": "DTILXf5paLrI",
        "outputId": "7c26aa72-cdfb-4a0e-d74b-aae3da42a8e3"
      },
      "outputs": [
        {
          "output_type": "execute_result",
          "data": {
            "text/plain": [
              "'3.7.1'"
            ],
            "application/vnd.google.colaboratory.intrinsic+json": {
              "type": "string"
            }
          },
          "metadata": {},
          "execution_count": 3
        }
      ],
      "source": [
        "import matplotlib as plt\n",
        "plt.__version__"
      ]
    },
    {
      "cell_type": "markdown",
      "metadata": {
        "id": "U53utT8XaLrI"
      },
      "source": [
        "---"
      ]
    },
    {
      "cell_type": "markdown",
      "metadata": {
        "id": "cH-y934waLrI"
      },
      "source": [
        "### 1.데이터 다운로드하기"
      ]
    },
    {
      "cell_type": "markdown",
      "metadata": {
        "id": "uXIU_e7yaLrJ"
      },
      "source": [
        "- 기상청 사이트에서 날씨 데이터를 다운로드한다.\n",
        "- 사이트에 가입하고 로그인해야 다운로드할 수 있다.\n",
        "- https://data.kma.go.kr/data/grnd/selectAsosRltmList.do?pgmNo=36\n",
        "- csv파일 다운로드해서 사용\n",
        "- OBS_ASOS_MNH_~.csv 파일 이름을 'weather_data.csv'로 변경해서 사용하기\n"
      ]
    },
    {
      "cell_type": "markdown",
      "metadata": {
        "id": "MEVBL72uaLrJ"
      },
      "source": [
        "---------"
      ]
    },
    {
      "cell_type": "markdown",
      "metadata": {
        "id": "ZPKKG7h7aLrJ"
      },
      "source": [
        "### 2. 데이터 불러오기 : 파이썬으로 데이터 읽어서 표로 나타내기"
      ]
    },
    {
      "cell_type": "code",
      "execution_count": 6,
      "metadata": {
        "colab": {
          "base_uri": "https://localhost:8080/",
          "height": 442
        },
        "id": "UHFvGJE9aLrJ",
        "outputId": "9a30a33f-3cc7-4196-8071-6b324ccfe542"
      },
      "outputs": [
        {
          "output_type": "stream",
          "name": "stdout",
          "text": [
            "<class 'pandas.core.frame.DataFrame'>\n"
          ]
        },
        {
          "output_type": "execute_result",
          "data": {
            "text/plain": [
              "        지점 지점명       일시  평균기온(°C)  최고기온(°C)  최저기온(°C)  평균현지기압(hPa)  평균상대습도(%)  \\\n",
              "0       90  속초  1968-01      -0.7      11.4     -11.4       1018.2       47.0   \n",
              "1       90  속초  1968-02      -2.1       9.7      -9.9       1022.8       51.0   \n",
              "2       90  속초  1968-03       5.9      20.5      -3.2       1016.1       57.0   \n",
              "3       90  속초  1968-04      10.5      21.4       4.0       1019.4       63.0   \n",
              "4       90  속초  1968-05      14.6      24.5       9.3       1011.7       74.0   \n",
              "...    ...  ..      ...       ...       ...       ...          ...        ...   \n",
              "55950  295  남해  2022-12       2.5      11.8      -6.7       1018.2       58.0   \n",
              "55951  295  남해  2023-01       2.8      19.9     -11.7       1018.1       59.0   \n",
              "55952  295  남해  2023-02       5.2      15.0      -3.7       1019.0       58.0   \n",
              "55953  295  남해  2023-03      11.1      24.1      -1.7       1014.6       61.0   \n",
              "55954  295  남해  2023-04      14.3      26.6       3.8       1009.8       65.0   \n",
              "\n",
              "       월합강수량(00~24h만)(mm)  평균풍속(m/s)  합계 일조시간(hr)  최심적설(cm)  \n",
              "0                     0.0        2.1        218.6       NaN  \n",
              "1                     3.3        2.2        236.5       1.8  \n",
              "2                     8.8        2.1        223.7       0.0  \n",
              "3                     6.9        2.0        255.7       NaN  \n",
              "4                    49.1        2.2        187.8       NaN  \n",
              "...                   ...        ...          ...       ...  \n",
              "55950                 7.8        1.6        187.6       NaN  \n",
              "55951               108.5        1.6        204.7       NaN  \n",
              "55952                34.5        1.3        174.5       NaN  \n",
              "55953                62.4        1.3        217.0       NaN  \n",
              "55954               144.7        1.8        194.0       NaN  \n",
              "\n",
              "[55955 rows x 12 columns]"
            ],
            "text/html": [
              "\n",
              "  <div id=\"df-5822ea22-b4a1-4cdf-921f-2dd8b54ec58c\" class=\"colab-df-container\">\n",
              "    <div>\n",
              "<style scoped>\n",
              "    .dataframe tbody tr th:only-of-type {\n",
              "        vertical-align: middle;\n",
              "    }\n",
              "\n",
              "    .dataframe tbody tr th {\n",
              "        vertical-align: top;\n",
              "    }\n",
              "\n",
              "    .dataframe thead th {\n",
              "        text-align: right;\n",
              "    }\n",
              "</style>\n",
              "<table border=\"1\" class=\"dataframe\">\n",
              "  <thead>\n",
              "    <tr style=\"text-align: right;\">\n",
              "      <th></th>\n",
              "      <th>지점</th>\n",
              "      <th>지점명</th>\n",
              "      <th>일시</th>\n",
              "      <th>평균기온(°C)</th>\n",
              "      <th>최고기온(°C)</th>\n",
              "      <th>최저기온(°C)</th>\n",
              "      <th>평균현지기압(hPa)</th>\n",
              "      <th>평균상대습도(%)</th>\n",
              "      <th>월합강수량(00~24h만)(mm)</th>\n",
              "      <th>평균풍속(m/s)</th>\n",
              "      <th>합계 일조시간(hr)</th>\n",
              "      <th>최심적설(cm)</th>\n",
              "    </tr>\n",
              "  </thead>\n",
              "  <tbody>\n",
              "    <tr>\n",
              "      <th>0</th>\n",
              "      <td>90</td>\n",
              "      <td>속초</td>\n",
              "      <td>1968-01</td>\n",
              "      <td>-0.7</td>\n",
              "      <td>11.4</td>\n",
              "      <td>-11.4</td>\n",
              "      <td>1018.2</td>\n",
              "      <td>47.0</td>\n",
              "      <td>0.0</td>\n",
              "      <td>2.1</td>\n",
              "      <td>218.6</td>\n",
              "      <td>NaN</td>\n",
              "    </tr>\n",
              "    <tr>\n",
              "      <th>1</th>\n",
              "      <td>90</td>\n",
              "      <td>속초</td>\n",
              "      <td>1968-02</td>\n",
              "      <td>-2.1</td>\n",
              "      <td>9.7</td>\n",
              "      <td>-9.9</td>\n",
              "      <td>1022.8</td>\n",
              "      <td>51.0</td>\n",
              "      <td>3.3</td>\n",
              "      <td>2.2</td>\n",
              "      <td>236.5</td>\n",
              "      <td>1.8</td>\n",
              "    </tr>\n",
              "    <tr>\n",
              "      <th>2</th>\n",
              "      <td>90</td>\n",
              "      <td>속초</td>\n",
              "      <td>1968-03</td>\n",
              "      <td>5.9</td>\n",
              "      <td>20.5</td>\n",
              "      <td>-3.2</td>\n",
              "      <td>1016.1</td>\n",
              "      <td>57.0</td>\n",
              "      <td>8.8</td>\n",
              "      <td>2.1</td>\n",
              "      <td>223.7</td>\n",
              "      <td>0.0</td>\n",
              "    </tr>\n",
              "    <tr>\n",
              "      <th>3</th>\n",
              "      <td>90</td>\n",
              "      <td>속초</td>\n",
              "      <td>1968-04</td>\n",
              "      <td>10.5</td>\n",
              "      <td>21.4</td>\n",
              "      <td>4.0</td>\n",
              "      <td>1019.4</td>\n",
              "      <td>63.0</td>\n",
              "      <td>6.9</td>\n",
              "      <td>2.0</td>\n",
              "      <td>255.7</td>\n",
              "      <td>NaN</td>\n",
              "    </tr>\n",
              "    <tr>\n",
              "      <th>4</th>\n",
              "      <td>90</td>\n",
              "      <td>속초</td>\n",
              "      <td>1968-05</td>\n",
              "      <td>14.6</td>\n",
              "      <td>24.5</td>\n",
              "      <td>9.3</td>\n",
              "      <td>1011.7</td>\n",
              "      <td>74.0</td>\n",
              "      <td>49.1</td>\n",
              "      <td>2.2</td>\n",
              "      <td>187.8</td>\n",
              "      <td>NaN</td>\n",
              "    </tr>\n",
              "    <tr>\n",
              "      <th>...</th>\n",
              "      <td>...</td>\n",
              "      <td>...</td>\n",
              "      <td>...</td>\n",
              "      <td>...</td>\n",
              "      <td>...</td>\n",
              "      <td>...</td>\n",
              "      <td>...</td>\n",
              "      <td>...</td>\n",
              "      <td>...</td>\n",
              "      <td>...</td>\n",
              "      <td>...</td>\n",
              "      <td>...</td>\n",
              "    </tr>\n",
              "    <tr>\n",
              "      <th>55950</th>\n",
              "      <td>295</td>\n",
              "      <td>남해</td>\n",
              "      <td>2022-12</td>\n",
              "      <td>2.5</td>\n",
              "      <td>11.8</td>\n",
              "      <td>-6.7</td>\n",
              "      <td>1018.2</td>\n",
              "      <td>58.0</td>\n",
              "      <td>7.8</td>\n",
              "      <td>1.6</td>\n",
              "      <td>187.6</td>\n",
              "      <td>NaN</td>\n",
              "    </tr>\n",
              "    <tr>\n",
              "      <th>55951</th>\n",
              "      <td>295</td>\n",
              "      <td>남해</td>\n",
              "      <td>2023-01</td>\n",
              "      <td>2.8</td>\n",
              "      <td>19.9</td>\n",
              "      <td>-11.7</td>\n",
              "      <td>1018.1</td>\n",
              "      <td>59.0</td>\n",
              "      <td>108.5</td>\n",
              "      <td>1.6</td>\n",
              "      <td>204.7</td>\n",
              "      <td>NaN</td>\n",
              "    </tr>\n",
              "    <tr>\n",
              "      <th>55952</th>\n",
              "      <td>295</td>\n",
              "      <td>남해</td>\n",
              "      <td>2023-02</td>\n",
              "      <td>5.2</td>\n",
              "      <td>15.0</td>\n",
              "      <td>-3.7</td>\n",
              "      <td>1019.0</td>\n",
              "      <td>58.0</td>\n",
              "      <td>34.5</td>\n",
              "      <td>1.3</td>\n",
              "      <td>174.5</td>\n",
              "      <td>NaN</td>\n",
              "    </tr>\n",
              "    <tr>\n",
              "      <th>55953</th>\n",
              "      <td>295</td>\n",
              "      <td>남해</td>\n",
              "      <td>2023-03</td>\n",
              "      <td>11.1</td>\n",
              "      <td>24.1</td>\n",
              "      <td>-1.7</td>\n",
              "      <td>1014.6</td>\n",
              "      <td>61.0</td>\n",
              "      <td>62.4</td>\n",
              "      <td>1.3</td>\n",
              "      <td>217.0</td>\n",
              "      <td>NaN</td>\n",
              "    </tr>\n",
              "    <tr>\n",
              "      <th>55954</th>\n",
              "      <td>295</td>\n",
              "      <td>남해</td>\n",
              "      <td>2023-04</td>\n",
              "      <td>14.3</td>\n",
              "      <td>26.6</td>\n",
              "      <td>3.8</td>\n",
              "      <td>1009.8</td>\n",
              "      <td>65.0</td>\n",
              "      <td>144.7</td>\n",
              "      <td>1.8</td>\n",
              "      <td>194.0</td>\n",
              "      <td>NaN</td>\n",
              "    </tr>\n",
              "  </tbody>\n",
              "</table>\n",
              "<p>55955 rows × 12 columns</p>\n",
              "</div>\n",
              "    <div class=\"colab-df-buttons\">\n",
              "\n",
              "  <div class=\"colab-df-container\">\n",
              "    <button class=\"colab-df-convert\" onclick=\"convertToInteractive('df-5822ea22-b4a1-4cdf-921f-2dd8b54ec58c')\"\n",
              "            title=\"Convert this dataframe to an interactive table.\"\n",
              "            style=\"display:none;\">\n",
              "\n",
              "  <svg xmlns=\"http://www.w3.org/2000/svg\" height=\"24px\" viewBox=\"0 -960 960 960\">\n",
              "    <path d=\"M120-120v-720h720v720H120Zm60-500h600v-160H180v160Zm220 220h160v-160H400v160Zm0 220h160v-160H400v160ZM180-400h160v-160H180v160Zm440 0h160v-160H620v160ZM180-180h160v-160H180v160Zm440 0h160v-160H620v160Z\"/>\n",
              "  </svg>\n",
              "    </button>\n",
              "\n",
              "  <style>\n",
              "    .colab-df-container {\n",
              "      display:flex;\n",
              "      gap: 12px;\n",
              "    }\n",
              "\n",
              "    .colab-df-convert {\n",
              "      background-color: #E8F0FE;\n",
              "      border: none;\n",
              "      border-radius: 50%;\n",
              "      cursor: pointer;\n",
              "      display: none;\n",
              "      fill: #1967D2;\n",
              "      height: 32px;\n",
              "      padding: 0 0 0 0;\n",
              "      width: 32px;\n",
              "    }\n",
              "\n",
              "    .colab-df-convert:hover {\n",
              "      background-color: #E2EBFA;\n",
              "      box-shadow: 0px 1px 2px rgba(60, 64, 67, 0.3), 0px 1px 3px 1px rgba(60, 64, 67, 0.15);\n",
              "      fill: #174EA6;\n",
              "    }\n",
              "\n",
              "    .colab-df-buttons div {\n",
              "      margin-bottom: 4px;\n",
              "    }\n",
              "\n",
              "    [theme=dark] .colab-df-convert {\n",
              "      background-color: #3B4455;\n",
              "      fill: #D2E3FC;\n",
              "    }\n",
              "\n",
              "    [theme=dark] .colab-df-convert:hover {\n",
              "      background-color: #434B5C;\n",
              "      box-shadow: 0px 1px 3px 1px rgba(0, 0, 0, 0.15);\n",
              "      filter: drop-shadow(0px 1px 2px rgba(0, 0, 0, 0.3));\n",
              "      fill: #FFFFFF;\n",
              "    }\n",
              "  </style>\n",
              "\n",
              "    <script>\n",
              "      const buttonEl =\n",
              "        document.querySelector('#df-5822ea22-b4a1-4cdf-921f-2dd8b54ec58c button.colab-df-convert');\n",
              "      buttonEl.style.display =\n",
              "        google.colab.kernel.accessAllowed ? 'block' : 'none';\n",
              "\n",
              "      async function convertToInteractive(key) {\n",
              "        const element = document.querySelector('#df-5822ea22-b4a1-4cdf-921f-2dd8b54ec58c');\n",
              "        const dataTable =\n",
              "          await google.colab.kernel.invokeFunction('convertToInteractive',\n",
              "                                                    [key], {});\n",
              "        if (!dataTable) return;\n",
              "\n",
              "        const docLinkHtml = 'Like what you see? Visit the ' +\n",
              "          '<a target=\"_blank\" href=https://colab.research.google.com/notebooks/data_table.ipynb>data table notebook</a>'\n",
              "          + ' to learn more about interactive tables.';\n",
              "        element.innerHTML = '';\n",
              "        dataTable['output_type'] = 'display_data';\n",
              "        await google.colab.output.renderOutput(dataTable, element);\n",
              "        const docLink = document.createElement('div');\n",
              "        docLink.innerHTML = docLinkHtml;\n",
              "        element.appendChild(docLink);\n",
              "      }\n",
              "    </script>\n",
              "  </div>\n",
              "\n",
              "\n",
              "<div id=\"df-f114b69d-432c-4a39-904b-ec8b022afe32\">\n",
              "  <button class=\"colab-df-quickchart\" onclick=\"quickchart('df-f114b69d-432c-4a39-904b-ec8b022afe32')\"\n",
              "            title=\"Suggest charts.\"\n",
              "            style=\"display:none;\">\n",
              "\n",
              "<svg xmlns=\"http://www.w3.org/2000/svg\" height=\"24px\"viewBox=\"0 0 24 24\"\n",
              "     width=\"24px\">\n",
              "    <g>\n",
              "        <path d=\"M19 3H5c-1.1 0-2 .9-2 2v14c0 1.1.9 2 2 2h14c1.1 0 2-.9 2-2V5c0-1.1-.9-2-2-2zM9 17H7v-7h2v7zm4 0h-2V7h2v10zm4 0h-2v-4h2v4z\"/>\n",
              "    </g>\n",
              "</svg>\n",
              "  </button>\n",
              "\n",
              "<style>\n",
              "  .colab-df-quickchart {\n",
              "    background-color: #E8F0FE;\n",
              "    border: none;\n",
              "    border-radius: 50%;\n",
              "    cursor: pointer;\n",
              "    display: none;\n",
              "    fill: #1967D2;\n",
              "    height: 32px;\n",
              "    padding: 0 0 0 0;\n",
              "    width: 32px;\n",
              "  }\n",
              "\n",
              "  .colab-df-quickchart:hover {\n",
              "    background-color: #E2EBFA;\n",
              "    box-shadow: 0px 1px 2px rgba(60, 64, 67, 0.3), 0px 1px 3px 1px rgba(60, 64, 67, 0.15);\n",
              "    fill: #174EA6;\n",
              "  }\n",
              "\n",
              "  [theme=dark] .colab-df-quickchart {\n",
              "    background-color: #3B4455;\n",
              "    fill: #D2E3FC;\n",
              "  }\n",
              "\n",
              "  [theme=dark] .colab-df-quickchart:hover {\n",
              "    background-color: #434B5C;\n",
              "    box-shadow: 0px 1px 3px 1px rgba(0, 0, 0, 0.15);\n",
              "    filter: drop-shadow(0px 1px 2px rgba(0, 0, 0, 0.3));\n",
              "    fill: #FFFFFF;\n",
              "  }\n",
              "</style>\n",
              "\n",
              "  <script>\n",
              "    async function quickchart(key) {\n",
              "      const charts = await google.colab.kernel.invokeFunction(\n",
              "          'suggestCharts', [key], {});\n",
              "    }\n",
              "    (() => {\n",
              "      let quickchartButtonEl =\n",
              "        document.querySelector('#df-f114b69d-432c-4a39-904b-ec8b022afe32 button');\n",
              "      quickchartButtonEl.style.display =\n",
              "        google.colab.kernel.accessAllowed ? 'block' : 'none';\n",
              "    })();\n",
              "  </script>\n",
              "</div>\n",
              "    </div>\n",
              "  </div>\n"
            ]
          },
          "metadata": {},
          "execution_count": 6
        }
      ],
      "source": [
        "#import pandas as pd\n",
        "\n",
        "# OBS_ASOS_MNH_~.csv 파일명 데이터를 'weather_data.csv'로 변경하기\n",
        "file = './sample_data/weather_data.csv'\n",
        "df = pd.read_csv(file, encoding='CP949')\n",
        "\n",
        "print(type(df))\n",
        "#df.head(2)\n",
        "df"
      ]
    },
    {
      "cell_type": "markdown",
      "metadata": {
        "id": "mZDFcf40aLrJ"
      },
      "source": [
        "---"
      ]
    },
    {
      "cell_type": "markdown",
      "metadata": {
        "id": "ScmxJVZ1aLrJ"
      },
      "source": [
        "### 2.데이터 전처리(가공하기)\n",
        "- 함수 참고:  https://pandas.pydata.org/docs/reference/index.html"
      ]
    },
    {
      "cell_type": "markdown",
      "metadata": {
        "id": "O2T5FbhkaLrJ"
      },
      "source": [
        "#### # 데이터 요약"
      ]
    },
    {
      "cell_type": "code",
      "execution_count": null,
      "metadata": {
        "scrolled": false,
        "id": "LtXw0ubfaLrJ"
      },
      "outputs": [],
      "source": [
        "# 데이터 요약 정보\n",
        "df.info()"
      ]
    },
    {
      "cell_type": "markdown",
      "metadata": {
        "id": "KVWqbn8GaLrJ"
      },
      "source": [
        "#### # 기술통계 정보"
      ]
    },
    {
      "cell_type": "code",
      "execution_count": null,
      "metadata": {
        "scrolled": false,
        "id": "d5BQ5MwaaLrJ"
      },
      "outputs": [],
      "source": [
        "df.describe()"
      ]
    },
    {
      "cell_type": "markdown",
      "metadata": {
        "id": "qqpSi0LLaLrJ"
      },
      "source": [
        "#### # 결측데이터 시각화\n",
        "missingno패키지는 pandas 데이터프레임 데이터에서 누락된 데이터를 찾고 시각화하는 기능 제공"
      ]
    },
    {
      "cell_type": "code",
      "execution_count": null,
      "metadata": {
        "id": "qguZagmOaLrJ"
      },
      "outputs": [],
      "source": [
        "!pip install missingno"
      ]
    },
    {
      "cell_type": "markdown",
      "metadata": {
        "id": "xgu_OxRNaLrJ"
      },
      "source": [
        "- **행에 결측 데이터 시각화**"
      ]
    },
    {
      "cell_type": "code",
      "execution_count": null,
      "metadata": {
        "id": "Ssfpy2AVaLrJ"
      },
      "outputs": [],
      "source": [
        "import missingno as msno\n",
        "import matplotlib.pyplot as plt\n",
        "# plt.rc('font', family='Malgun Gothic') # 윈도우용 폰트-코랩용은 해당폰트 지정\n",
        "\n",
        "msno.matrix(df)\n",
        "plt.show()"
      ]
    },
    {
      "cell_type": "markdown",
      "metadata": {
        "id": "-tYezoEaaLrJ"
      },
      "source": [
        "- **열에 결측 데이터 시각화**"
      ]
    },
    {
      "cell_type": "code",
      "execution_count": null,
      "metadata": {
        "id": "whcVrFTWaLrJ"
      },
      "outputs": [],
      "source": [
        "msno.bar(df)\n",
        "plt.show()"
      ]
    },
    {
      "cell_type": "markdown",
      "metadata": {
        "id": "LNiJm9M4aLrJ"
      },
      "source": [
        "---"
      ]
    },
    {
      "cell_type": "markdown",
      "metadata": {
        "id": "H9dVMg1UaLrJ"
      },
      "source": [
        "#### 2. 컬럼명 변경하기"
      ]
    },
    {
      "cell_type": "code",
      "execution_count": null,
      "metadata": {
        "scrolled": true,
        "id": "kO9TtoRaaLrJ"
      },
      "outputs": [],
      "source": [
        "df.columns\n",
        "df.columns = ['지점', '지점명', '일시', '평균기온', '최고기온', '최저기온', '평균현지기압',\n",
        "       '평균상대습도', '월합강수량', '평균풍속','일조시간', '최심적설']\n",
        "df.head(3)"
      ]
    },
    {
      "cell_type": "markdown",
      "metadata": {
        "id": "hTeMS1LgaLrK"
      },
      "source": [
        "#### 3. 컬럼 추가하기\n",
        "DataFrame.insert(추가하고싶은위치,컬럼명,값, allow_duplicate=False)"
      ]
    },
    {
      "cell_type": "code",
      "execution_count": null,
      "metadata": {
        "scrolled": true,
        "id": "FNPlQigWaLrK"
      },
      "outputs": [],
      "source": [
        "df.insert(3,'신규2',df['지점'])\n",
        "df"
      ]
    },
    {
      "cell_type": "code",
      "execution_count": null,
      "metadata": {
        "id": "c4GJuim9aLrK"
      },
      "outputs": [],
      "source": [
        "df.insert(3,'검색일자',df['일시'])\n",
        "df"
      ]
    },
    {
      "cell_type": "code",
      "execution_count": null,
      "metadata": {
        "id": "vcW_lo-WaLrK"
      },
      "outputs": [],
      "source": [
        "df"
      ]
    },
    {
      "cell_type": "code",
      "execution_count": null,
      "metadata": {
        "id": "D2YLR4HEaLrK"
      },
      "outputs": [],
      "source": [
        "df.head(3)"
      ]
    },
    {
      "cell_type": "markdown",
      "metadata": {
        "id": "0zMx7424aLrK"
      },
      "source": [
        "- **문자열에서 특정 문자 제거**: '검색일자' 값중에 '년도-월-일' 형태로 되어 있는 구조에서  '-'기호를 제거"
      ]
    },
    {
      "cell_type": "code",
      "execution_count": null,
      "metadata": {
        "scrolled": true,
        "id": "0iTKTO5TaLrK"
      },
      "outputs": [],
      "source": [
        "df['검색일자']= df['검색일자'].str.replace(pat=r'-',repl=r'',regex=True)\n",
        "df.head(2)"
      ]
    },
    {
      "cell_type": "code",
      "execution_count": null,
      "metadata": {
        "id": "oIF1iTVHaLrK"
      },
      "outputs": [],
      "source": [
        "df.info()"
      ]
    },
    {
      "cell_type": "markdown",
      "metadata": {
        "id": "VUguL6YraLrK"
      },
      "source": [
        "- **데이터형 변환하기**: str(object)-->int64 형으로 변환하기"
      ]
    },
    {
      "cell_type": "code",
      "execution_count": null,
      "metadata": {
        "id": "8GQaAbTFaLrK"
      },
      "outputs": [],
      "source": [
        "df['검색일자'] = df['검색일자'].apply('int64')\n",
        "df.dtypes"
      ]
    },
    {
      "cell_type": "markdown",
      "metadata": {
        "id": "UEWQWdseaLrK"
      },
      "source": [
        "- **데이터형 변환하기**: int64 --> str(object)형으로 변환하기"
      ]
    },
    {
      "cell_type": "code",
      "execution_count": null,
      "metadata": {
        "id": "1oM6y1rSaLrK"
      },
      "outputs": [],
      "source": [
        "df['검색일자'] = df['검색일자'].apply(str)\n",
        "df.dtypes"
      ]
    },
    {
      "cell_type": "code",
      "execution_count": null,
      "metadata": {
        "scrolled": true,
        "id": "wk9rEQ4raLrK"
      },
      "outputs": [],
      "source": [
        "# 년월 추가\n",
        "df.insert(3,'년도',df['일시'].str[0:4])\n",
        "df"
      ]
    },
    {
      "cell_type": "markdown",
      "metadata": {
        "id": "co4u9u7kaLrK"
      },
      "source": [
        "#### 4. 컬럼 삭제"
      ]
    },
    {
      "cell_type": "code",
      "execution_count": null,
      "metadata": {
        "id": "nqN5GNLCaLrK"
      },
      "outputs": [],
      "source": [
        "# df.drop(['신규','신규2'], axis=1, inplace=True)\n",
        "df.drop('신규2', axis=1, inplace=True)\n",
        "df.drop('검색일자', axis=1, inplace=True)\n",
        "df.head(3)"
      ]
    },
    {
      "cell_type": "markdown",
      "metadata": {
        "id": "ND4e6p0DaLrK"
      },
      "source": [
        "#### 5. 특정 조건 검색"
      ]
    },
    {
      "cell_type": "code",
      "execution_count": null,
      "metadata": {
        "id": "3d3jyzANaLrK"
      },
      "outputs": [],
      "source": [
        "print( '#지점명 개수: ', len( set(df['지점명']) ) )\n",
        "print( '#지점명: ', set( df['지점명'] ) )"
      ]
    },
    {
      "cell_type": "code",
      "execution_count": null,
      "metadata": {
        "id": "uQfzpOaWaLrL"
      },
      "outputs": [],
      "source": [
        "# 특정년도 데이터\n",
        "df_2023 = df.query(\" 년도 == '2023' \")\n",
        "# df_2023 = df[ df['년도']=='2023' ]"
      ]
    },
    {
      "cell_type": "code",
      "execution_count": null,
      "metadata": {
        "id": "NxnAWEp7aLrL"
      },
      "outputs": [],
      "source": [
        "print( '#지점명 개수: ', len( set(df_2023['지점명']) ) )\n",
        "print( '#지점명: ', set( df_2023['지점명'] ) )"
      ]
    },
    {
      "cell_type": "code",
      "execution_count": null,
      "metadata": {
        "scrolled": true,
        "id": "i0LNbr9ZaLrL"
      },
      "outputs": [],
      "source": [
        "# 년도=='2023'이면서 전라북도 관측소 데이터만 추출하기\n",
        "df.query(\"년도 == '2023' and 지점명 in ('고창','고창군','전주','정읍','장수') \")\n",
        "df_2023.query(\" 지점명 in ('고창','고창군','전주','정읍','장수')\")"
      ]
    },
    {
      "cell_type": "markdown",
      "metadata": {
        "id": "ACzbBkKhaLrL"
      },
      "source": [
        "- **특정 컬럼명 검색** : 지점명=='제주' 데이터"
      ]
    },
    {
      "cell_type": "code",
      "execution_count": null,
      "metadata": {
        "id": "g4uAGqOsaLrL"
      },
      "outputs": [],
      "source": [
        "df[df.지점명 == '제주' ]\n",
        "\n",
        "# df.query(\" 지점명 == '제주' \")\n",
        "\n",
        "# df.iloc[ df.index[ df['지점명'] == '제주' ] ]"
      ]
    },
    {
      "cell_type": "markdown",
      "metadata": {
        "id": "iBFQdGCHaLrL"
      },
      "source": [
        "- **또는(|) , 포함(in)** 조건 사용: 강릉 또는 속초 데이터 추출"
      ]
    },
    {
      "cell_type": "code",
      "execution_count": null,
      "metadata": {
        "scrolled": false,
        "id": "jIie3NuPaLrL"
      },
      "outputs": [],
      "source": [
        "# 또는(|) 사용\n",
        "df.query(\" 지점명=='제주' | 지점명=='서귀포' \")\n",
        "df.head()\n",
        "\n",
        "# df.query(\" 지점명=='제주' | 지점명=='서귀포' \").head()\n",
        "\n",
        "# df.query(\" 지점명 in ('제주','서귀포') \").head(2)"
      ]
    },
    {
      "cell_type": "markdown",
      "metadata": {
        "id": "A64_NsjVaLrL"
      },
      "source": [
        "- **그리고(&)** 조건 사용"
      ]
    },
    {
      "cell_type": "code",
      "execution_count": null,
      "metadata": {
        "id": "Rw9hyGsmaLrL"
      },
      "outputs": [],
      "source": [
        "df[ (df.지점명 == '제주' ) & (df.최고기온 >10) ]\n",
        "\n",
        "# df.query(\" 지점명=='제주' & 최저기온 <= 0 \")"
      ]
    },
    {
      "cell_type": "markdown",
      "metadata": {
        "id": "9q1RmHE3aLrL"
      },
      "source": [
        "### [실습문제] 관측 지점이 제주도인 데이터 검색"
      ]
    },
    {
      "cell_type": "code",
      "execution_count": null,
      "metadata": {
        "id": "8EbxxS0caLrL"
      },
      "outputs": [],
      "source": [
        "# 포함(in) 사용\n",
        "df.query(\" 지점명 in ('고산','서귀포','성산','성산포','제주') \")"
      ]
    },
    {
      "cell_type": "markdown",
      "metadata": {
        "id": "1pAbLlMTaLrL"
      },
      "source": [
        "- **min()** : 최초 측정월, 마지막 측정월"
      ]
    },
    {
      "cell_type": "code",
      "execution_count": null,
      "metadata": {
        "scrolled": true,
        "id": "i-l0REbcaLrL"
      },
      "outputs": [],
      "source": [
        "# 측정월 최소, 최대\n",
        "print ( '최초 측정일시: ', min(df['일시']) )\n",
        "print ( '최초 측정일시: ', df['일시'].min() )\n",
        "print ( '최근 측정일시: ', max(df['일시']) )\n",
        "print ( '최근 측정일시: ', df['일시'].max() )\n",
        "\n",
        "# 측정 최초월('1904-04')의 데이터\n",
        "# df['일시'].min()\n",
        "# df.query(\" 일시 == '1904-04-01'\")\n",
        "\n",
        "df.query(f\" 일시 == '{ df['일시'].min() }' \")\n",
        "df[ df['일시'] == df['일시'].min() ]"
      ]
    },
    {
      "cell_type": "code",
      "execution_count": null,
      "metadata": {
        "id": "ziWbRQMSaLrM"
      },
      "outputs": [],
      "source": [
        "# 전주 최초 측정일\n",
        "df_junjoo = df.query(f\" 지점명 == '전주' \")\n",
        "df_junjoo['일시'].min()"
      ]
    },
    {
      "cell_type": "markdown",
      "metadata": {
        "id": "RzYlyyhTaLrM"
      },
      "source": [
        "- **max()** : 최근 측정 월 검색"
      ]
    },
    {
      "cell_type": "code",
      "execution_count": null,
      "metadata": {
        "id": "5u4oifP2aLrM"
      },
      "outputs": [],
      "source": [
        "df.query(f\" 일시 == '{ df['일시'].max() }' \")"
      ]
    },
    {
      "cell_type": "code",
      "execution_count": null,
      "metadata": {
        "id": "bhNt3UWyaLrM"
      },
      "outputs": [],
      "source": [
        "df.query(f\" 지점명 == '전주' & 일시 == '{ df['일시'].min() }' \")"
      ]
    },
    {
      "cell_type": "code",
      "execution_count": null,
      "metadata": {
        "id": "orptG-RnaLrM"
      },
      "outputs": [],
      "source": [
        "df.query(f\" 지점명 in ('제주','성산','고산','성산포','서귀포') & 일시 == '{ df['일시'].max() }' \")"
      ]
    },
    {
      "cell_type": "markdown",
      "metadata": {
        "id": "kk-rDRfeaLrM"
      },
      "source": [
        "### [실습]: 가장 더웠던 날짜와 온도는?\n",
        "- 기상관측 데이터에서 가장 더웠던(추웠던) 해와 기온은?"
      ]
    },
    {
      "cell_type": "code",
      "execution_count": null,
      "metadata": {
        "id": "OrNWvkq9aLrM"
      },
      "outputs": [],
      "source": [
        "# 컬럼 추출\n",
        "df['최고기온'].max()\n",
        "df.최고기온.max()\n",
        "\n",
        "\n",
        "# 행 추출\n",
        "df.query(f\" 최고기온 == {  df.최고기온.max()  } \")\n",
        "df[ df.최고기온 == df.최고기온.max() ]"
      ]
    },
    {
      "cell_type": "code",
      "execution_count": null,
      "metadata": {
        "scrolled": true,
        "id": "58QnY5dsaLrM"
      },
      "outputs": [],
      "source": [
        "# 행 추출 특정 컬럼값(year) 추출\n",
        "print(f'기상관측 데이터를 통해 가장 더웠던 년도는?')\n",
        "print(df.query(f\" 최고기온 == {  df.최고기온.max()  } \").일시.str[0:4] )\n",
        "\n",
        "\n",
        "yymm = df.query(f\" 최고기온 == {  df.최고기온.max()  } \").일시.str[0:7]\n",
        "yymm = df[ df.최고기온 == df.최고기온.max() ].일시.str[0:7]\n",
        "print(f'기상관측 데이터를 통해 가장 더웠던 년-월: {yymm}')\n",
        "\n",
        "\n",
        "# 행 추출 특정 컬럼값(최고기온) 추출\n",
        "df.query(f\" 최고기온 == {  df.최고기온.max()  } \").최고기온\n",
        "df[ df.최고기온 == df.최고기온.max() ].최고기온"
      ]
    },
    {
      "cell_type": "code",
      "execution_count": null,
      "metadata": {
        "id": "T6iQf_dkaLrM"
      },
      "outputs": [],
      "source": [
        "# 전체 최고기온\n",
        "df.query(f\" 최고기온 == {df['최고기온'].max()} \")\n",
        "\n",
        "# 전체 최고기온 일시\n",
        "df.query(f\" 최고기온 == {df['최고기온'].max()} \")['일시'].str[0:4]\n",
        "\n",
        "# 전체 최고기온 지점명\n",
        "df.query(f\" 최고기온 == {df['최고기온'].max()} \")['지점명']\n",
        "\n",
        "# # 측정 지점이 제주인  최고기온\n",
        "df.query(f\" 지점명=='제주' \")['최고기온'].max()\n",
        "\n",
        "\n",
        "# 측정 지점이 제주 전역의   최고기온\n",
        "df.query(f\" 지점명 in ('고산','서귀포','성산','성산포','제주') \")['최고기온'].max()"
      ]
    },
    {
      "cell_type": "markdown",
      "metadata": {
        "id": "zEFK0FCbaLrM"
      },
      "source": [
        "### [실습]: 가장 추웠던 날짜와 온도는?"
      ]
    },
    {
      "cell_type": "code",
      "execution_count": null,
      "metadata": {
        "scrolled": false,
        "id": "lz1762HdaLrM"
      },
      "outputs": [],
      "source": [
        "field = '최저기온'\n",
        "\n",
        "# 전체 최저기온\n",
        "df.query(f\" {field} <= { df[field].min() } \")\n",
        "\n",
        "# 전체 최저기온 일시\n",
        "df.query(f\" {field} <= { df[field].min() } \")['일시'].str[0:4]\n",
        "\n",
        "# 전체 최저기온 지점명\n",
        "df.query(f\" {field} <= { df[field].min() } \")['지점명']\n",
        "\n",
        "# 측정 지점이 제주인 최저기온\n",
        "df.query(f\" 지점명=='제주' \")[field].min()\n",
        "\n",
        "# 측정 지점이 제주 전역의  최고기온\n",
        "df.query(f\" 지점명 in ('고산','서귀포','성산','성산포','제주') \")['최저기온'].min()"
      ]
    },
    {
      "cell_type": "markdown",
      "metadata": {
        "id": "I7z95NzlaLrM"
      },
      "source": [
        "###  [실습] : 'OO'에서 가장 더웠던 날짜와 기온?"
      ]
    },
    {
      "cell_type": "code",
      "execution_count": null,
      "metadata": {
        "id": "sv69OGsJaLrM"
      },
      "outputs": [],
      "source": [
        "\n"
      ]
    },
    {
      "cell_type": "markdown",
      "metadata": {
        "id": "EcQZmNeAaLrN"
      },
      "source": [
        "###  [실습] : 'OO'에서 가장 추웠던 날짜와 기온은?"
      ]
    },
    {
      "cell_type": "code",
      "execution_count": null,
      "metadata": {
        "scrolled": true,
        "id": "p7q1z-d5aLrN"
      },
      "outputs": [],
      "source": [
        "\n"
      ]
    },
    {
      "cell_type": "markdown",
      "metadata": {
        "id": "Cxu8v1SZaLrN"
      },
      "source": [
        "--------"
      ]
    },
    {
      "cell_type": "markdown",
      "metadata": {
        "id": "0vOt9gQtaLrN"
      },
      "source": [
        "### 그룹핑(Grouping)"
      ]
    },
    {
      "cell_type": "markdown",
      "metadata": {
        "id": "m4IFnl_4aLrN"
      },
      "source": [
        "#### #그룹핑: 지점별  "
      ]
    },
    {
      "cell_type": "code",
      "execution_count": null,
      "metadata": {
        "id": "5Z7aRGGcaLrN"
      },
      "outputs": [],
      "source": [
        "df.groupby(['지점명'], as_index=False).mean()\n",
        "df.groupby('지점명').mean()"
      ]
    },
    {
      "cell_type": "code",
      "execution_count": null,
      "metadata": {
        "scrolled": false,
        "id": "JwAKD9pjaLrN"
      },
      "outputs": [],
      "source": [
        "df.groupby(['지점명'], as_index=False).count()"
      ]
    },
    {
      "cell_type": "markdown",
      "metadata": {
        "id": "r_gQSydIaLrN"
      },
      "source": [
        "#### #그룹핑(컬럼1개): 지점별  평균기온"
      ]
    },
    {
      "cell_type": "code",
      "execution_count": null,
      "metadata": {
        "id": "i_61h9DzaLrN"
      },
      "outputs": [],
      "source": [
        "# 방법1\n",
        "df['평균기온'].groupby(df['지점명']).mean()"
      ]
    },
    {
      "cell_type": "code",
      "execution_count": null,
      "metadata": {
        "id": "VfGgGMsTaLrN"
      },
      "outputs": [],
      "source": [
        "# 방법2\n",
        "df.groupby('지점명')['평균기온'].agg('mean')"
      ]
    },
    {
      "cell_type": "code",
      "execution_count": null,
      "metadata": {
        "id": "JUl_mKM3aLrN"
      },
      "outputs": [],
      "source": [
        "# 방법3\n",
        "df.groupby('지점명')['평균기온'].agg(**{'평균기온':'mean'})"
      ]
    },
    {
      "cell_type": "code",
      "execution_count": null,
      "metadata": {
        "id": "rdaPs4DWaLrN"
      },
      "outputs": [],
      "source": [
        "# 방법4\n",
        "df.groupby('지점명').aggregate({'평균기온':'mean'})"
      ]
    },
    {
      "cell_type": "code",
      "execution_count": null,
      "metadata": {
        "id": "uejDpwN2aLrN"
      },
      "outputs": [],
      "source": [
        "df_temp = df.groupby('지점명').aggregate({'평균기온':'mean'})\n",
        "df_temp.plot()"
      ]
    },
    {
      "cell_type": "markdown",
      "metadata": {
        "id": "Qrs567tOaLrN"
      },
      "source": [
        "#### #그룹핑(컬럼 2개): 지점명+년도별,  평균기온"
      ]
    },
    {
      "cell_type": "code",
      "execution_count": null,
      "metadata": {
        "id": "XK32SgFmaLrN"
      },
      "outputs": [],
      "source": [
        "df.groupby(['지점명','년도'])['평균기온'].agg('mean')\n",
        "df.groupby(['지점명','년도'])['평균기온'].agg(**{'평균':'mean'})\n",
        "df.groupby(['지점명','년도']).aggregate({'평균기온':'mean'})\n",
        "#df.groupby(['지점명','년도'])['평균기온'].agg(**{'평균기온':'mean'}).reset_index()"
      ]
    },
    {
      "cell_type": "code",
      "execution_count": null,
      "metadata": {
        "id": "7zNlLDW1aLrN"
      },
      "outputs": [],
      "source": [
        "df_temp = df.groupby(['지점명','년도'])['평균기온'].agg('mean')\n",
        "df_temp.plot()"
      ]
    },
    {
      "cell_type": "markdown",
      "metadata": {
        "id": "Sx1JI7MVaLrN"
      },
      "source": [
        "### [실습문제] : 지점별 최고기온?"
      ]
    },
    {
      "cell_type": "code",
      "execution_count": null,
      "metadata": {
        "id": "RHAjDWX-aLrO"
      },
      "outputs": [],
      "source": [
        "\n"
      ]
    },
    {
      "cell_type": "markdown",
      "metadata": {
        "id": "0nf6sGmqaLrO"
      },
      "source": [
        "- 인텍스를 초기화 하는 방법"
      ]
    },
    {
      "cell_type": "code",
      "execution_count": null,
      "metadata": {
        "id": "k3yxPG7taLrO"
      },
      "outputs": [],
      "source": [
        "# 인텍스를 초기화 하는 방법\n",
        "df.groupby('지점명')['최고기온'].agg(**{'최고기온':'max'}).reset_index()\n",
        "df.groupby('지점명').aggregate({'최고기온':'max'}).reset_index()"
      ]
    },
    {
      "cell_type": "markdown",
      "metadata": {
        "id": "KsGhyxToaLrO"
      },
      "source": [
        "### [실습문제] : 지점별 년도별 최다 월합강수량?"
      ]
    },
    {
      "cell_type": "code",
      "execution_count": null,
      "metadata": {
        "scrolled": false,
        "id": "D82D-X7faLrO"
      },
      "outputs": [],
      "source": [
        "\n"
      ]
    },
    {
      "cell_type": "markdown",
      "metadata": {
        "id": "BMoflajlaLrO"
      },
      "source": [
        "### [실습문제]  OO 지역의 지점별+년도별 최고 최고기온, 최저 최저기온 ,최다 월합강수량, 최다 최심적실은?"
      ]
    },
    {
      "cell_type": "code",
      "execution_count": null,
      "metadata": {
        "id": "nvXsmj_OaLrO"
      },
      "outputs": [],
      "source": [
        "\n",
        "\n"
      ]
    },
    {
      "cell_type": "markdown",
      "metadata": {
        "id": "Y-cH5JexaLrO"
      },
      "source": [
        "#### # DataFrame에서 한 행씩 불러오기\n",
        "!!![주의]!!! 데이터가 많을 경우 실행하지 않도록"
      ]
    },
    {
      "cell_type": "code",
      "execution_count": null,
      "metadata": {
        "id": "oDdagFrJaLrO"
      },
      "outputs": [],
      "source": [
        "# 한 행씩 불러오기  ---->\n",
        "# for i, row in df_t.iterrows():\n",
        "#     print(i, row)\n",
        "#     print(i, row['지점명'], row['최고기온'])"
      ]
    },
    {
      "cell_type": "markdown",
      "metadata": {
        "id": "guj3Y1q3aLrO"
      },
      "source": [
        "#### 6.가공된 파일 신규 저장하기"
      ]
    },
    {
      "cell_type": "code",
      "execution_count": null,
      "metadata": {
        "scrolled": true,
        "id": "d_mOXEZ0aLrO"
      },
      "outputs": [],
      "source": [
        "# 가공된 데이터 신규 파일로 저장하기\n",
        "file = 'data/weather_data2.csv'\n",
        "df.to_csv(file, encoding='cp949', mode='w', index=True)"
      ]
    },
    {
      "cell_type": "markdown",
      "metadata": {
        "id": "jHvASjQvaLrO"
      },
      "source": [
        "--------------------------"
      ]
    },
    {
      "cell_type": "markdown",
      "metadata": {
        "id": "uX7zXyZbaLrO"
      },
      "source": [
        "## 3. 데이터 시각화하기"
      ]
    },
    {
      "cell_type": "markdown",
      "metadata": {
        "id": "ymGj5FuyaLrO"
      },
      "source": [
        "### [실습] : 지점별 평균기온 그래프"
      ]
    },
    {
      "cell_type": "code",
      "execution_count": null,
      "metadata": {
        "scrolled": true,
        "id": "mk2gMkHCaLrO"
      },
      "outputs": [],
      "source": [
        "import pandas as pd\n",
        "import matplotlib.pyplot as plt\n",
        "\n",
        "# 한글,그래프크기\n",
        "plt.rcParams['font.family'] = 'Malgun Gothic'\n",
        "plt.rcParams['figure.figsize'] = (10, 4)\n",
        "plt.rcParams['axes.unicode_minus']\n",
        "\n",
        "# 1.데이터 불러오기\n",
        "\n",
        "\n",
        "\n",
        "\n",
        "# 2.컬럼명 지정\n",
        "df.columns = ['지점', '지점명', '일시', '평균기온', '최고기온', '최저기온',\n",
        "              '평균현지기압','평균상대습도', '월합강수량', '평균풍',\n",
        "              '일조시간','최심적설']\n",
        "df['년도'] = df.일시.str[0:4]\n",
        "df.head(2)\n",
        "\n",
        "\n",
        "# 3.지점별 평균 구하기(지점 30개만 추출)\n",
        "df_mean =\n",
        "\n",
        "plt.plot(df_mean, '^', linestyle='solid', c='red', label='평균기온')\n",
        "plt.xticks(rotation=90)\n",
        "plt.title('종관관측 지점별 평균기온', fontsize=20)\n",
        "plt.xlabel('지점명'); plt.ylabel('평균기온');\n",
        "plt.legend(); plt.grid();\n",
        "plt.show()"
      ]
    },
    {
      "cell_type": "code",
      "execution_count": null,
      "metadata": {
        "id": "aXVlVCxCaLrO"
      },
      "outputs": [],
      "source": [
        "import pandas as pd\n",
        "import matplotlib.pyplot as plt\n",
        "\n",
        "# 한글,그래프크기\n",
        "plt.rcParams['font.family'] = 'Malgun Gothic'\n",
        "plt.rcParams['figure.figsize'] = (10, 4)\n",
        "plt.rcParams['axes.unicode_minus'] = False\n",
        "\n",
        "# 1.데이터 불러오기\n",
        "file = 'data/weather_data.csv'\n",
        "df = pd.read_csv(file, encoding='CP949')\n",
        "\n",
        "# 2.컬럼명 지정\n",
        "df.columns = ['지점', '지점명', '일시', '평균기온', '최고기온', '최저기온',\n",
        "              '평균현지기압','평균상대습도', '월합강수량', '평균풍',\n",
        "              '일조시간','최심적설']\n",
        "df['년도'] = df.일시.str[0:4]\n",
        "df.head(2)\n",
        "\n",
        "# 3.전주지역 데이터만 추출\n",
        "df_junju =  df.query(\" 지점명 == '전주'\")\n",
        "df_junju = df_junju.groupby('년도').aggregate({'평균기온':'mean', '최고기온':'max', '최저기온':'min' })\n",
        "df_junju\n",
        "\n",
        "plt.plot(df_junju)\n",
        "plt.xticks(rotation=45)\n",
        "plt.show()"
      ]
    },
    {
      "cell_type": "markdown",
      "metadata": {
        "id": "fAazpnU4aLrO"
      },
      "source": [
        "### [실습문제] : '제주' 지점의 년도별 평균기온을  선 그래프로 나타내기"
      ]
    },
    {
      "cell_type": "code",
      "execution_count": null,
      "metadata": {
        "id": "pgdbc0SdaLrO"
      },
      "outputs": [],
      "source": [
        "import pandas as pd\n",
        "import matplotlib.pyplot as plt\n",
        "\n",
        "# 한글,그래프크기\n",
        "plt.rcParams['font.family'] = 'Malgun Gothic'\n",
        "plt.rcParams['figure.figsize'] = (10, 4)\n",
        "plt.rcParams['axes.unicode_minus']\n",
        "\n",
        "# 1.데이터 불러오기\n",
        "file = 'data/weather_data2.csv'\n",
        "df = pd.read_csv(file, encoding='CP949')\n",
        "df.drop(['Unnamed: 0'], axis=1, inplace=True)\n",
        "df\n",
        "\n",
        "\n",
        "# 2,지점별 연도별 그룹핑하기\n",
        "df2 = df.query(\" 지점명 == '제주' \")\n",
        "# df2 = df.query(\" 지점명 in ('고산','서귀포','성산','성산포','제주') \")\n",
        "df2 = df2.groupby(['지점명','년도']).aggregate({'평균기온':'mean'}).reset_index()\n",
        "\n",
        "X = df2.년도\n",
        "Y = df2.평균기온\n",
        "\n",
        "# 3.지점별 평균 구하기(지점 30개만 추출)\n",
        "plt.plot(X, Y, '^', linestyle='solid', c='r', label='평균기온')\n",
        "plt.title('제주 지점별 평균기온', fontsize=20)\n",
        "plt.xlabel('년도')\n",
        "plt.ylabel('평균기온')\n",
        "plt.xticks(rotation=90)\n",
        "plt.legend()\n",
        "plt.grid()\n",
        "plt.show()"
      ]
    },
    {
      "cell_type": "markdown",
      "metadata": {
        "id": "SrYWg7AsaLrP"
      },
      "source": [
        "### [실습]: 제주의 평균기온, 최고기온, 최저기온 통계를 그래프로 나타내기"
      ]
    },
    {
      "cell_type": "code",
      "execution_count": null,
      "metadata": {
        "scrolled": true,
        "id": "9uxUInGBaLrP"
      },
      "outputs": [],
      "source": [
        "# 2. '제주'지점 년도별 기온 데이터 추출하기(년도 30개만)\n",
        "plt.rcParams['figure.figsize'] = (12, 6)\n",
        "plt.rcParams['axes.unicode_minus'] = False\n",
        "\n",
        "data = df.query(\" 지점명 == '제주' \")\n",
        "data1 = data.groupby('년도').평균기온.agg(**{'평균기온':'mean'})\n",
        "data2 = data.groupby('년도').최고기온.agg(**{'최고기온':'max'})\n",
        "data3 = data.groupby('년도').최저기온.agg(**{'최저기온':'min'})\n",
        "\n",
        "# 3. 그래프로 시각화하기\n",
        "plt.plot(data1, 'o', linestyle='solid', c='r', label='평균기온')\n",
        "plt.plot(data2, '^', linestyle='solid', c='g', label='최고기온')\n",
        "plt.plot(data3, 'v', linestyle='solid', c='b', label='최저기온')\n",
        "plt.title(\"'제주'지점 년도별 기온 통계\", fontsize=15) #제목\n",
        "plt.xlabel('년도')     # x축 레이블\n",
        "plt.ylabel('기온')     # y축 레이블\n",
        "plt.legend()           #범례,기본 위치 : loc='upper left'\n",
        "plt.xticks(rotation=45)  # x축 레이블 기울이기\n",
        "plt.grid()               # 격자 표시\n",
        "\n",
        "plt.show()\n"
      ]
    },
    {
      "cell_type": "code",
      "execution_count": null,
      "metadata": {
        "id": "tvEzcpHDaLrP"
      },
      "outputs": [],
      "source": [
        "# 2. '제주'지점 년도별 기온 데이터 추출하기(년도 30개만)\n",
        "plt.rcParams['axes.unicode_minus'] = False\n",
        "\n",
        "data = df.query(\" 지점명 == '제주' \")\n",
        "data1 = data.groupby('년도')['평균기온'].agg(**{'평균기온':'mean'}).reset_index()\n",
        "data2 = data.groupby('년도')['최고기온'].agg(**{'최고기온':'max'}).reset_index()\n",
        "\n",
        "# 3. 그래프로 시각화하기\n",
        "X = data1['년도']\n",
        "Y1 = data1['평균기온']\n",
        "Y2 = data2['최고기온']\n",
        "plt.bar(X, Y1, label='평균기온')\n",
        "plt.plot(X, Y2, 'o', linestyle='solid', c='r', label='최고기온')\n",
        "plt.title(\"'제주'지점 년도별 기온 통계\", fontsize=15) #제목\n",
        "plt.xlabel('년도')        # x축 레이블\n",
        "plt.ylabel('기온')        # y축 레이블\n",
        "plt.legend()             #범례,기본 위치 : loc='upper left'\n",
        "plt.xticks(rotation=45)  # x축 레이블 기울이기\n",
        "\n",
        "plt.grid()               # 격자 표시\n",
        "\n",
        "plt.show()"
      ]
    },
    {
      "cell_type": "markdown",
      "metadata": {
        "id": "jcwM8i9AaLrP"
      },
      "source": [
        "### [실습]: 제주의 최고기온(선그래프),평균기온(막대그래프)을 혼합 그래프로 나타내기"
      ]
    },
    {
      "cell_type": "code",
      "execution_count": null,
      "metadata": {
        "scrolled": true,
        "id": "IMrAztXFaLrP"
      },
      "outputs": [],
      "source": [
        "# 3. 그래프로 시각화하기\n",
        "plt.figure(figsize=(20,5))\n",
        "plt.title('제주 기온 통계', fontsize=15)         #제목\n",
        "plt.legend(['최고기온','평균기온']) #범례,기본 위치 : loc='upper left'\n",
        "plt.xlabel('년도')                 # x축 레이블\n",
        "plt.ylabel('기온')                 # y축 레이블\n",
        "plt.xticks(rotation=45)           # x축 레이블 기울이기\n",
        "plt.grid()                        # 격자 표시\n",
        "\n",
        "plt.bar(X, Y1)  # 막대 그래프\n",
        "plt.plot(X, Y2, 'o', linestyle='solid', c='r')  # 선그래프\n",
        "plt.show()\n"
      ]
    },
    {
      "cell_type": "markdown",
      "metadata": {
        "id": "FV5l-RJ8aLrP"
      },
      "source": [
        "### [실습] : 2중 축 그래프 그리기 :  평균상대습도 & 월합강수량"
      ]
    },
    {
      "cell_type": "code",
      "execution_count": null,
      "metadata": {
        "scrolled": true,
        "id": "1Av9eGpraLrP"
      },
      "outputs": [],
      "source": [
        "# 2.'제주'지점의 평균상대습도 & 일최다강수량 센터수\n",
        "data = df.groupby(['지점명','년도'])['평균상대습도'].agg(**{'평균상대습도':'mean'}).reset_index()\n",
        "data = data.query(\" 지점명 == '제주' \")\n",
        "X  = data['년도']\n",
        "Y1 = data['평균상대습도']\n",
        "\n",
        "data = df.groupby(['지점명','년도'])['월합강수량'].agg(**{'월합강수량':'mean'}).reset_index()\n",
        "data = data.query(\" 지점명 == '제주' \")\n",
        "Y2 = data['월합강수량']\n",
        "# print(Y2)\n",
        "\n",
        "\n",
        "# 3. 그래프로 시각화하기\n",
        "plt.rcParams['figure.figsize'] = (10, 5)   # 그래프 크기\n",
        "\n",
        "fig, ax1 = plt.subplots()\n",
        "plt.suptitle('평균상대습도 & 월합강수량',fontsize=15)\n",
        "ax1.plot(X, Y1, color='green')     # 평균상대습도 (왼쪽)\n",
        "ax1.set_ylabel('평균상대습도', color = 'green', rotation = 90)\n",
        "ax2 = ax1.twinx()\n",
        "ax2.plot(X, Y2, color='deeppink')  # 월합강수량 (오른쪽)\n",
        "ax2.set_ylabel('월합강수량', color = 'deeppink', rotation = 270)\n",
        "\n",
        "fig.autofmt_xdate(rotation=45)  #X축 레이블 기울이기\n",
        "\n",
        "plt.savefig('image/graph.png')\n",
        "\n",
        "plt.show()"
      ]
    },
    {
      "cell_type": "markdown",
      "metadata": {
        "id": "iYPQpJYIaLrP"
      },
      "source": [
        "-------"
      ]
    },
    {
      "cell_type": "markdown",
      "metadata": {
        "id": "ejjsQ04gaLrP"
      },
      "source": [
        "---------"
      ]
    },
    {
      "cell_type": "markdown",
      "metadata": {
        "id": "WcPj9vLqaLrP"
      },
      "source": [
        "끝!"
      ]
    }
  ],
  "metadata": {
    "kernelspec": {
      "display_name": "Python 3 (ipykernel)",
      "language": "python",
      "name": "python3"
    },
    "language_info": {
      "codemirror_mode": {
        "name": "ipython",
        "version": 3
      },
      "file_extension": ".py",
      "mimetype": "text/x-python",
      "name": "python",
      "nbconvert_exporter": "python",
      "pygments_lexer": "ipython3",
      "version": "3.10.9"
    },
    "colab": {
      "provenance": [],
      "include_colab_link": true
    }
  },
  "nbformat": 4,
  "nbformat_minor": 0
}