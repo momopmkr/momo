{
  "cells": [
    {
      "cell_type": "markdown",
      "metadata": {
        "id": "view-in-github",
        "colab_type": "text"
      },
      "source": [
        "<a href=\"https://colab.research.google.com/github/momopmkr/momo/blob/main/2_%EB%8D%B0%EC%9D%B4%ED%84%B0%EB%B6%84%EC%84%9D_04_%EB%8D%B0%EC%9D%B4%ED%84%B0%EC%88%98%EC%A7%91%ED%95%98%EA%B8%B0_%EC%9B%B9%ED%81%AC%EB%A1%A4%EB%A7%81_%EB%B0%B0%ED%8F%AC.ipynb\" target=\"_parent\"><img src=\"https://colab.research.google.com/assets/colab-badge.svg\" alt=\"Open In Colab\"/></a>"
      ]
    },
    {
      "cell_type": "markdown",
      "id": "d2d8f562",
      "metadata": {
        "id": "d2d8f562"
      },
      "source": [
        "# 데이터 분석"
      ]
    },
    {
      "cell_type": "markdown",
      "id": "d90d2c2a",
      "metadata": {
        "id": "d90d2c2a"
      },
      "source": [
        "## 4. 웹 크롤링으로 데이터 수집"
      ]
    },
    {
      "cell_type": "markdown",
      "id": "29efc198",
      "metadata": {
        "id": "29efc198"
      },
      "source": [
        "---------------------"
      ]
    },
    {
      "cell_type": "markdown",
      "id": "22449e9b",
      "metadata": {
        "id": "22449e9b"
      },
      "source": [
        "### 01.웹 크롤링의 이해\n",
        "- **웹 크롤링(Web Crawling)**: 웹 페이지로부터 원하는 정보를 추출하는 기법, 보통 여러 페이지 탐색하는 방법,\n",
        "- **웹 스크래핑(Web Scraping)**: 특정한 하나의 웹 페이지를 탐색하는 방법\n",
        "- **웹 크롤링과 웹 스크래핑의  방법이 동일하여 보통 웹 크롤링이라고 통칭해서 부른다.**"
      ]
    },
    {
      "cell_type": "markdown",
      "id": "45d36f92",
      "metadata": {
        "id": "45d36f92"
      },
      "source": [
        "### 라이브러리 설치하기"
      ]
    },
    {
      "cell_type": "code",
      "source": [
        "!sudo apt-get install -y fonts-nanum\n",
        "!sudo fc-cache -fv\n",
        "!rm ~/.cache/matplotlib -rf"
      ],
      "metadata": {
        "id": "uRyvY71ag408",
        "colab": {
          "base_uri": "https://localhost:8080/"
        },
        "outputId": "54cf93bb-73a9-4922-a6c6-4c6f81c52aba"
      },
      "id": "uRyvY71ag408",
      "execution_count": 4,
      "outputs": [
        {
          "output_type": "stream",
          "name": "stdout",
          "text": [
            "Reading package lists... Done\n",
            "Building dependency tree... Done\n",
            "Reading state information... Done\n",
            "The following NEW packages will be installed:\n",
            "  fonts-nanum\n",
            "0 upgraded, 1 newly installed, 0 to remove and 16 not upgraded.\n",
            "Need to get 10.3 MB of archives.\n",
            "After this operation, 34.1 MB of additional disk space will be used.\n",
            "Get:1 http://archive.ubuntu.com/ubuntu jammy/universe amd64 fonts-nanum all 20200506-1 [10.3 MB]\n",
            "Fetched 10.3 MB in 2s (5,659 kB/s)\n",
            "debconf: unable to initialize frontend: Dialog\n",
            "debconf: (No usable dialog-like program is installed, so the dialog based frontend cannot be used. at /usr/share/perl5/Debconf/FrontEnd/Dialog.pm line 78, <> line 1.)\n",
            "debconf: falling back to frontend: Readline\n",
            "debconf: unable to initialize frontend: Readline\n",
            "debconf: (This frontend requires a controlling tty.)\n",
            "debconf: falling back to frontend: Teletype\n",
            "dpkg-preconfigure: unable to re-open stdin: \n",
            "Selecting previously unselected package fonts-nanum.\n",
            "(Reading database ... 120829 files and directories currently installed.)\n",
            "Preparing to unpack .../fonts-nanum_20200506-1_all.deb ...\n",
            "Unpacking fonts-nanum (20200506-1) ...\n",
            "Setting up fonts-nanum (20200506-1) ...\n",
            "Processing triggers for fontconfig (2.13.1-4.2ubuntu5) ...\n",
            "/usr/share/fonts: caching, new cache contents: 0 fonts, 1 dirs\n",
            "/usr/share/fonts/truetype: caching, new cache contents: 0 fonts, 3 dirs\n",
            "/usr/share/fonts/truetype/humor-sans: caching, new cache contents: 1 fonts, 0 dirs\n",
            "/usr/share/fonts/truetype/liberation: caching, new cache contents: 16 fonts, 0 dirs\n",
            "/usr/share/fonts/truetype/nanum: caching, new cache contents: 12 fonts, 0 dirs\n",
            "/usr/local/share/fonts: caching, new cache contents: 0 fonts, 0 dirs\n",
            "/root/.local/share/fonts: skipping, no such directory\n",
            "/root/.fonts: skipping, no such directory\n",
            "/usr/share/fonts/truetype: skipping, looped directory detected\n",
            "/usr/share/fonts/truetype/humor-sans: skipping, looped directory detected\n",
            "/usr/share/fonts/truetype/liberation: skipping, looped directory detected\n",
            "/usr/share/fonts/truetype/nanum: skipping, looped directory detected\n",
            "/var/cache/fontconfig: cleaning cache directory\n",
            "/root/.cache/fontconfig: not cleaning non-existent cache directory\n",
            "/root/.fontconfig: not cleaning non-existent cache directory\n",
            "fc-cache: succeeded\n"
          ]
        }
      ]
    },
    {
      "cell_type": "code",
      "execution_count": 1,
      "id": "d254f56b",
      "metadata": {
        "colab": {
          "base_uri": "https://localhost:8080/"
        },
        "id": "d254f56b",
        "outputId": "fcbf1ebb-837d-4f7a-8515-e719ec7fa5a6"
      },
      "outputs": [
        {
          "output_type": "stream",
          "name": "stdout",
          "text": [
            "Requirement already satisfied: requests in /usr/local/lib/python3.10/dist-packages (2.31.0)\n",
            "Requirement already satisfied: charset-normalizer<4,>=2 in /usr/local/lib/python3.10/dist-packages (from requests) (3.2.0)\n",
            "Requirement already satisfied: idna<4,>=2.5 in /usr/local/lib/python3.10/dist-packages (from requests) (3.4)\n",
            "Requirement already satisfied: urllib3<3,>=1.21.1 in /usr/local/lib/python3.10/dist-packages (from requests) (2.0.4)\n",
            "Requirement already satisfied: certifi>=2017.4.17 in /usr/local/lib/python3.10/dist-packages (from requests) (2023.7.22)\n"
          ]
        }
      ],
      "source": [
        "# 정적 크롤링을 위한 requests 설치\n",
        "!pip install requests"
      ]
    },
    {
      "cell_type": "code",
      "execution_count": 2,
      "id": "83fff2f7",
      "metadata": {
        "colab": {
          "base_uri": "https://localhost:8080/"
        },
        "id": "83fff2f7",
        "outputId": "7267a4dc-0304-4e27-fd43-8cd27b77543f"
      },
      "outputs": [
        {
          "output_type": "stream",
          "name": "stdout",
          "text": [
            "Requirement already satisfied: beautifulsoup4 in /usr/local/lib/python3.10/dist-packages (4.11.2)\n",
            "Requirement already satisfied: soupsieve>1.2 in /usr/local/lib/python3.10/dist-packages (from beautifulsoup4) (2.4.1)\n"
          ]
        }
      ],
      "source": [
        "# HTML과 XML 문서를 파싱하기 위한 파이썬 패키지\n",
        "!pip install beautifulsoup4"
      ]
    },
    {
      "cell_type": "code",
      "execution_count": 3,
      "id": "bb5d63be",
      "metadata": {
        "id": "bb5d63be",
        "colab": {
          "base_uri": "https://localhost:8080/"
        },
        "outputId": "4b34714a-8042-4b7f-8c08-73f9bad4e798"
      },
      "outputs": [
        {
          "output_type": "stream",
          "name": "stdout",
          "text": [
            "Collecting selenium\n",
            "  Downloading selenium-4.12.0-py3-none-any.whl (9.4 MB)\n",
            "\u001b[2K     \u001b[90m━━━━━━━━━━━━━━━━━━━━━━━━━━━━━━━━━━━━━━━━\u001b[0m \u001b[32m9.4/9.4 MB\u001b[0m \u001b[31m21.8 MB/s\u001b[0m eta \u001b[36m0:00:00\u001b[0m\n",
            "\u001b[?25hRequirement already satisfied: urllib3[socks]<3,>=1.26 in /usr/local/lib/python3.10/dist-packages (from selenium) (2.0.4)\n",
            "Collecting trio~=0.17 (from selenium)\n",
            "  Downloading trio-0.22.2-py3-none-any.whl (400 kB)\n",
            "\u001b[2K     \u001b[90m━━━━━━━━━━━━━━━━━━━━━━━━━━━━━━━━━━━━━━\u001b[0m \u001b[32m400.2/400.2 kB\u001b[0m \u001b[31m31.3 MB/s\u001b[0m eta \u001b[36m0:00:00\u001b[0m\n",
            "\u001b[?25hCollecting trio-websocket~=0.9 (from selenium)\n",
            "  Downloading trio_websocket-0.10.3-py3-none-any.whl (17 kB)\n",
            "Requirement already satisfied: certifi>=2021.10.8 in /usr/local/lib/python3.10/dist-packages (from selenium) (2023.7.22)\n",
            "Requirement already satisfied: attrs>=20.1.0 in /usr/local/lib/python3.10/dist-packages (from trio~=0.17->selenium) (23.1.0)\n",
            "Requirement already satisfied: sortedcontainers in /usr/local/lib/python3.10/dist-packages (from trio~=0.17->selenium) (2.4.0)\n",
            "Requirement already satisfied: idna in /usr/local/lib/python3.10/dist-packages (from trio~=0.17->selenium) (3.4)\n",
            "Collecting outcome (from trio~=0.17->selenium)\n",
            "  Downloading outcome-1.2.0-py2.py3-none-any.whl (9.7 kB)\n",
            "Requirement already satisfied: sniffio in /usr/local/lib/python3.10/dist-packages (from trio~=0.17->selenium) (1.3.0)\n",
            "Requirement already satisfied: exceptiongroup>=1.0.0rc9 in /usr/local/lib/python3.10/dist-packages (from trio~=0.17->selenium) (1.1.3)\n",
            "Collecting wsproto>=0.14 (from trio-websocket~=0.9->selenium)\n",
            "  Downloading wsproto-1.2.0-py3-none-any.whl (24 kB)\n",
            "Requirement already satisfied: pysocks!=1.5.7,<2.0,>=1.5.6 in /usr/local/lib/python3.10/dist-packages (from urllib3[socks]<3,>=1.26->selenium) (1.7.1)\n",
            "Collecting h11<1,>=0.9.0 (from wsproto>=0.14->trio-websocket~=0.9->selenium)\n",
            "  Downloading h11-0.14.0-py3-none-any.whl (58 kB)\n",
            "\u001b[2K     \u001b[90m━━━━━━━━━━━━━━━━━━━━━━━━━━━━━━━━━━━━━━━━\u001b[0m \u001b[32m58.3/58.3 kB\u001b[0m \u001b[31m6.2 MB/s\u001b[0m eta \u001b[36m0:00:00\u001b[0m\n",
            "\u001b[?25hInstalling collected packages: outcome, h11, wsproto, trio, trio-websocket, selenium\n",
            "Successfully installed h11-0.14.0 outcome-1.2.0 selenium-4.12.0 trio-0.22.2 trio-websocket-0.10.3 wsproto-1.2.0\n"
          ]
        }
      ],
      "source": [
        "# 동적 크롤링을 위한 셀레니움 설치\n",
        "!pip install selenium"
      ]
    },
    {
      "cell_type": "markdown",
      "id": "8e298def",
      "metadata": {
        "id": "8e298def"
      },
      "source": [
        "### 라이브러리 확인하기"
      ]
    },
    {
      "cell_type": "code",
      "execution_count": 4,
      "id": "8d82eb73",
      "metadata": {
        "colab": {
          "base_uri": "https://localhost:8080/"
        },
        "id": "8d82eb73",
        "outputId": "49fbf615-45f8-48c8-cc00-061ffc110732"
      },
      "outputs": [
        {
          "output_type": "execute_result",
          "data": {
            "text/plain": [
              "<Response [200]>"
            ]
          },
          "metadata": {},
          "execution_count": 4
        }
      ],
      "source": [
        "import requests\n",
        "\n",
        "requests.get(\"https://www.naver.com\") #ok 200"
      ]
    },
    {
      "cell_type": "code",
      "execution_count": 5,
      "id": "d77bdc03",
      "metadata": {
        "colab": {
          "base_uri": "https://localhost:8080/"
        },
        "id": "d77bdc03",
        "outputId": "ab2276ee-ff3e-4076-f882-4df2008fada7"
      },
      "outputs": [
        {
          "output_type": "stream",
          "name": "stdout",
          "text": [
            "#응답 헤더:  {'Date': 'Fri, 01 Sep 2023 06:28:13 GMT', 'Expires': '-1', 'Cache-Control': 'private, max-age=0', 'Content-Type': 'text/html; charset=ISO-8859-1', 'Content-Security-Policy-Report-Only': \"object-src 'none';base-uri 'self';script-src 'nonce-g9Zag8oQwAIK1ldVgLO2TA' 'strict-dynamic' 'report-sample' 'unsafe-eval' 'unsafe-inline' https: http:;report-uri https://csp.withgoogle.com/csp/gws/other-hp\", 'P3P': 'CP=\"This is not a P3P policy! See g.co/p3phelp for more info.\"', 'Content-Encoding': 'gzip', 'Server': 'gws', 'X-XSS-Protection': '0', 'X-Frame-Options': 'SAMEORIGIN', 'Set-Cookie': '1P_JAR=2023-09-01-06; expires=Sun, 01-Oct-2023 06:28:13 GMT; path=/; domain=.google.com; Secure, AEC=Ad49MVGq_vyEYlC3kr_Lu66B1Xj_-jmBsAn3E1QVDmSSQBpV355FBifbww; expires=Wed, 28-Feb-2024 06:28:13 GMT; path=/; domain=.google.com; Secure; HttpOnly; SameSite=lax, NID=511=BCUtNPuftFaTTri2mbviizWt5VWaPK5qBUh_WXtP3sxtQ2wBBMwWkQ5S9MTCTrfvmlxtsrHc2nSB8UKYsK4sREiUtXtSznzJGd9GfXiCzFTLcGFoyBMx2vgWczPImyiBok7lfzCGXLDRXirUdsNq92ZhFJ9-F5113AOZmXwqeFU; expires=Sat, 02-Mar-2024 06:28:13 GMT; path=/; domain=.google.com; HttpOnly', 'Transfer-Encoding': 'chunked'}\n"
          ]
        }
      ],
      "source": [
        "import requests\n",
        "\n",
        "response = requests.get(\"https://google.com\")\n",
        "\n",
        "# 응답 상태\n",
        "#print('#응답 상태: ', response.status_code)\n",
        "\n",
        "# 응답 바이너리 원문\n",
        "# print('#응답 바이너리 원문: ', response.content)\n",
        "\n",
        "# 응답 UTF-8로 인코딩된 문자열\n",
        "# print('#응답 UTF-8로 인코딩된 문자열: ', response.text)\n",
        "\n",
        "# 응답 헤더\n",
        "print('#응답 헤더: ', response.headers)\n",
        "\n",
        "# # 응답 헤더: 콘텐트 유형\n",
        "# print('#응답 헤더유형: ', response.headers['Content-Type'])"
      ]
    },
    {
      "cell_type": "markdown",
      "id": "414c226e",
      "metadata": {
        "id": "414c226e"
      },
      "source": [
        "-------------------------------"
      ]
    },
    {
      "cell_type": "markdown",
      "id": "5629cbbb",
      "metadata": {
        "id": "5629cbbb"
      },
      "source": [
        "## 02.정적 크롤링(스크래핑)"
      ]
    },
    {
      "cell_type": "markdown",
      "id": "7a29d08f",
      "metadata": {
        "id": "7a29d08f"
      },
      "source": [
        "### [실습] 네이버 뉴스 검색 데이터 수집하기\n",
        "단, 네이버에서는 한번에 90개까지만 수집 가능한 상태임 <br>\n",
        "- **1.데이터 가져올 웹페이지**: 네이버 뉴스검색(검색어:우영우) https://search.naver.com/search.naver?where=news&sm=tab_jum&query=%EC%9A%B0%EC%98%81%EC%9A%B0\n",
        "- **2.가져올 정보**: 기사제목, URL\n",
        "- **3.DataFrame으로 만들기**\n",
        "- **4.DataFrame --> csv파일로 만들기**"
      ]
    },
    {
      "cell_type": "code",
      "execution_count": 9,
      "id": "beaa6805",
      "metadata": {
        "scrolled": true,
        "colab": {
          "base_uri": "https://localhost:8080/",
          "height": 550
        },
        "id": "beaa6805",
        "outputId": "797b691a-5b95-4d89-fa56-1b9b840dad43"
      },
      "outputs": [
        {
          "output_type": "stream",
          "name": "stdout",
          "text": [
            "--------------------------------------------------\n",
            "#네이버 뉴스 데이터 크롤링하기...\n",
            "--------------------------------------------------\n",
            "검색 키워드를 입력하세요 : 무빙\n",
            "10% 20% 30% 40% 50% 60% 70% 80% 90% 100% \n",
            "검색어[무빙] 로 검색된 뉴스 [100]건 가져오기 완료!\n",
            "--------------------------------------------------\n"
          ]
        },
        {
          "output_type": "execute_result",
          "data": {
            "text/plain": [
              "                                            title  \\\n",
              "0                                   ‘무빙’ 전세계가 반했다   \n",
              "1              '무빙' 한효주, 눈빛만으로 시청자 쥐락펴락..오감 충족 열연   \n",
              "2       조인성 \"'무빙', 오랜만에 멜로 촬영…♥한효주가 잘해줘\" (크로스인터뷰)   \n",
              "3       '무빙' 블랙팀 해체…류승룡, 의문의 초능력자 만났다 '후반부 서사 예고'   \n",
              "4                        '밀수' 이어 '무빙'까지…K콘텐트 전성시대   \n",
              "..                                            ...   \n",
              "95   '무빙' 강풀 작가 \"히어로의 능력은 '공감'…착한 이야기하고파\" [N인터뷰]③   \n",
              "96    '무빙' 선공개, 분유 타고 초능력 안 쓰는 조인성…12-13화 공개 시간은?   \n",
              "97  '무빙' 김도훈 \"예고 자퇴 결심했는데...끼쟁이 너무 많아\" (가요광장)[종합]   \n",
              "98         \"이렇게 멋진 야외상영은 처음\"… '팝업 시네마: 무안 무빙' 대성료   \n",
              "99          '무빙' 뒤엔 '국산 웹툰' 있었다…글로벌 시장에 먹힌 20년 뚝심   \n",
              "\n",
              "                                                  url  \n",
              "0               https://www.mk.co.kr/article/10820022  \n",
              "1   https://www.starnewskorea.com/stview.php?no=20...  \n",
              "2          https://www.xportsnews.com/article/1765566  \n",
              "3   https://www.spotvnews.co.kr/news/articleView.h...  \n",
              "4   https://news.jtbc.co.kr/article/article.aspx?n...  \n",
              "..                                                ...  \n",
              "95              https://www.news1.kr/articles/5152925  \n",
              "96  http://www.topstarnews.net/news/articleView.ht...  \n",
              "97         https://www.xportsnews.com/article/1764921  \n",
              "98  http://starin.edaily.co.kr/news/newspath.asp?n...  \n",
              "99  http://www.g-enews.com/ko-kr/news/article/news...  \n",
              "\n",
              "[100 rows x 2 columns]"
            ],
            "text/html": [
              "\n",
              "  <div id=\"df-ec1376aa-d346-44a2-89a0-1a484b31fb16\" class=\"colab-df-container\">\n",
              "    <div>\n",
              "<style scoped>\n",
              "    .dataframe tbody tr th:only-of-type {\n",
              "        vertical-align: middle;\n",
              "    }\n",
              "\n",
              "    .dataframe tbody tr th {\n",
              "        vertical-align: top;\n",
              "    }\n",
              "\n",
              "    .dataframe thead th {\n",
              "        text-align: right;\n",
              "    }\n",
              "</style>\n",
              "<table border=\"1\" class=\"dataframe\">\n",
              "  <thead>\n",
              "    <tr style=\"text-align: right;\">\n",
              "      <th></th>\n",
              "      <th>title</th>\n",
              "      <th>url</th>\n",
              "    </tr>\n",
              "  </thead>\n",
              "  <tbody>\n",
              "    <tr>\n",
              "      <th>0</th>\n",
              "      <td>‘무빙’ 전세계가 반했다</td>\n",
              "      <td>https://www.mk.co.kr/article/10820022</td>\n",
              "    </tr>\n",
              "    <tr>\n",
              "      <th>1</th>\n",
              "      <td>'무빙' 한효주, 눈빛만으로 시청자 쥐락펴락..오감 충족 열연</td>\n",
              "      <td>https://www.starnewskorea.com/stview.php?no=20...</td>\n",
              "    </tr>\n",
              "    <tr>\n",
              "      <th>2</th>\n",
              "      <td>조인성 \"'무빙', 오랜만에 멜로 촬영…♥한효주가 잘해줘\" (크로스인터뷰)</td>\n",
              "      <td>https://www.xportsnews.com/article/1765566</td>\n",
              "    </tr>\n",
              "    <tr>\n",
              "      <th>3</th>\n",
              "      <td>'무빙' 블랙팀 해체…류승룡, 의문의 초능력자 만났다 '후반부 서사 예고'</td>\n",
              "      <td>https://www.spotvnews.co.kr/news/articleView.h...</td>\n",
              "    </tr>\n",
              "    <tr>\n",
              "      <th>4</th>\n",
              "      <td>'밀수' 이어 '무빙'까지…K콘텐트 전성시대</td>\n",
              "      <td>https://news.jtbc.co.kr/article/article.aspx?n...</td>\n",
              "    </tr>\n",
              "    <tr>\n",
              "      <th>...</th>\n",
              "      <td>...</td>\n",
              "      <td>...</td>\n",
              "    </tr>\n",
              "    <tr>\n",
              "      <th>95</th>\n",
              "      <td>'무빙' 강풀 작가 \"히어로의 능력은 '공감'…착한 이야기하고파\" [N인터뷰]③</td>\n",
              "      <td>https://www.news1.kr/articles/5152925</td>\n",
              "    </tr>\n",
              "    <tr>\n",
              "      <th>96</th>\n",
              "      <td>'무빙' 선공개, 분유 타고 초능력 안 쓰는 조인성…12-13화 공개 시간은?</td>\n",
              "      <td>http://www.topstarnews.net/news/articleView.ht...</td>\n",
              "    </tr>\n",
              "    <tr>\n",
              "      <th>97</th>\n",
              "      <td>'무빙' 김도훈 \"예고 자퇴 결심했는데...끼쟁이 너무 많아\" (가요광장)[종합]</td>\n",
              "      <td>https://www.xportsnews.com/article/1764921</td>\n",
              "    </tr>\n",
              "    <tr>\n",
              "      <th>98</th>\n",
              "      <td>\"이렇게 멋진 야외상영은 처음\"… '팝업 시네마: 무안 무빙' 대성료</td>\n",
              "      <td>http://starin.edaily.co.kr/news/newspath.asp?n...</td>\n",
              "    </tr>\n",
              "    <tr>\n",
              "      <th>99</th>\n",
              "      <td>'무빙' 뒤엔 '국산 웹툰' 있었다…글로벌 시장에 먹힌 20년 뚝심</td>\n",
              "      <td>http://www.g-enews.com/ko-kr/news/article/news...</td>\n",
              "    </tr>\n",
              "  </tbody>\n",
              "</table>\n",
              "<p>100 rows × 2 columns</p>\n",
              "</div>\n",
              "    <div class=\"colab-df-buttons\">\n",
              "\n",
              "  <div class=\"colab-df-container\">\n",
              "    <button class=\"colab-df-convert\" onclick=\"convertToInteractive('df-ec1376aa-d346-44a2-89a0-1a484b31fb16')\"\n",
              "            title=\"Convert this dataframe to an interactive table.\"\n",
              "            style=\"display:none;\">\n",
              "\n",
              "  <svg xmlns=\"http://www.w3.org/2000/svg\" height=\"24px\" viewBox=\"0 -960 960 960\">\n",
              "    <path d=\"M120-120v-720h720v720H120Zm60-500h600v-160H180v160Zm220 220h160v-160H400v160Zm0 220h160v-160H400v160ZM180-400h160v-160H180v160Zm440 0h160v-160H620v160ZM180-180h160v-160H180v160Zm440 0h160v-160H620v160Z\"/>\n",
              "  </svg>\n",
              "    </button>\n",
              "\n",
              "  <style>\n",
              "    .colab-df-container {\n",
              "      display:flex;\n",
              "      gap: 12px;\n",
              "    }\n",
              "\n",
              "    .colab-df-convert {\n",
              "      background-color: #E8F0FE;\n",
              "      border: none;\n",
              "      border-radius: 50%;\n",
              "      cursor: pointer;\n",
              "      display: none;\n",
              "      fill: #1967D2;\n",
              "      height: 32px;\n",
              "      padding: 0 0 0 0;\n",
              "      width: 32px;\n",
              "    }\n",
              "\n",
              "    .colab-df-convert:hover {\n",
              "      background-color: #E2EBFA;\n",
              "      box-shadow: 0px 1px 2px rgba(60, 64, 67, 0.3), 0px 1px 3px 1px rgba(60, 64, 67, 0.15);\n",
              "      fill: #174EA6;\n",
              "    }\n",
              "\n",
              "    .colab-df-buttons div {\n",
              "      margin-bottom: 4px;\n",
              "    }\n",
              "\n",
              "    [theme=dark] .colab-df-convert {\n",
              "      background-color: #3B4455;\n",
              "      fill: #D2E3FC;\n",
              "    }\n",
              "\n",
              "    [theme=dark] .colab-df-convert:hover {\n",
              "      background-color: #434B5C;\n",
              "      box-shadow: 0px 1px 3px 1px rgba(0, 0, 0, 0.15);\n",
              "      filter: drop-shadow(0px 1px 2px rgba(0, 0, 0, 0.3));\n",
              "      fill: #FFFFFF;\n",
              "    }\n",
              "  </style>\n",
              "\n",
              "    <script>\n",
              "      const buttonEl =\n",
              "        document.querySelector('#df-ec1376aa-d346-44a2-89a0-1a484b31fb16 button.colab-df-convert');\n",
              "      buttonEl.style.display =\n",
              "        google.colab.kernel.accessAllowed ? 'block' : 'none';\n",
              "\n",
              "      async function convertToInteractive(key) {\n",
              "        const element = document.querySelector('#df-ec1376aa-d346-44a2-89a0-1a484b31fb16');\n",
              "        const dataTable =\n",
              "          await google.colab.kernel.invokeFunction('convertToInteractive',\n",
              "                                                    [key], {});\n",
              "        if (!dataTable) return;\n",
              "\n",
              "        const docLinkHtml = 'Like what you see? Visit the ' +\n",
              "          '<a target=\"_blank\" href=https://colab.research.google.com/notebooks/data_table.ipynb>data table notebook</a>'\n",
              "          + ' to learn more about interactive tables.';\n",
              "        element.innerHTML = '';\n",
              "        dataTable['output_type'] = 'display_data';\n",
              "        await google.colab.output.renderOutput(dataTable, element);\n",
              "        const docLink = document.createElement('div');\n",
              "        docLink.innerHTML = docLinkHtml;\n",
              "        element.appendChild(docLink);\n",
              "      }\n",
              "    </script>\n",
              "  </div>\n",
              "\n",
              "\n",
              "<div id=\"df-a0e149c3-c9e9-4fa5-9ff7-a1712832bbc4\">\n",
              "  <button class=\"colab-df-quickchart\" onclick=\"quickchart('df-a0e149c3-c9e9-4fa5-9ff7-a1712832bbc4')\"\n",
              "            title=\"Suggest charts.\"\n",
              "            style=\"display:none;\">\n",
              "\n",
              "<svg xmlns=\"http://www.w3.org/2000/svg\" height=\"24px\"viewBox=\"0 0 24 24\"\n",
              "     width=\"24px\">\n",
              "    <g>\n",
              "        <path d=\"M19 3H5c-1.1 0-2 .9-2 2v14c0 1.1.9 2 2 2h14c1.1 0 2-.9 2-2V5c0-1.1-.9-2-2-2zM9 17H7v-7h2v7zm4 0h-2V7h2v10zm4 0h-2v-4h2v4z\"/>\n",
              "    </g>\n",
              "</svg>\n",
              "  </button>\n",
              "\n",
              "<style>\n",
              "  .colab-df-quickchart {\n",
              "      --bg-color: #E8F0FE;\n",
              "      --fill-color: #1967D2;\n",
              "      --hover-bg-color: #E2EBFA;\n",
              "      --hover-fill-color: #174EA6;\n",
              "      --disabled-fill-color: #AAA;\n",
              "      --disabled-bg-color: #DDD;\n",
              "  }\n",
              "\n",
              "  [theme=dark] .colab-df-quickchart {\n",
              "      --bg-color: #3B4455;\n",
              "      --fill-color: #D2E3FC;\n",
              "      --hover-bg-color: #434B5C;\n",
              "      --hover-fill-color: #FFFFFF;\n",
              "      --disabled-bg-color: #3B4455;\n",
              "      --disabled-fill-color: #666;\n",
              "  }\n",
              "\n",
              "  .colab-df-quickchart {\n",
              "    background-color: var(--bg-color);\n",
              "    border: none;\n",
              "    border-radius: 50%;\n",
              "    cursor: pointer;\n",
              "    display: none;\n",
              "    fill: var(--fill-color);\n",
              "    height: 32px;\n",
              "    padding: 0;\n",
              "    width: 32px;\n",
              "  }\n",
              "\n",
              "  .colab-df-quickchart:hover {\n",
              "    background-color: var(--hover-bg-color);\n",
              "    box-shadow: 0 1px 2px rgba(60, 64, 67, 0.3), 0 1px 3px 1px rgba(60, 64, 67, 0.15);\n",
              "    fill: var(--button-hover-fill-color);\n",
              "  }\n",
              "\n",
              "  .colab-df-quickchart-complete:disabled,\n",
              "  .colab-df-quickchart-complete:disabled:hover {\n",
              "    background-color: var(--disabled-bg-color);\n",
              "    fill: var(--disabled-fill-color);\n",
              "    box-shadow: none;\n",
              "  }\n",
              "\n",
              "  .colab-df-spinner {\n",
              "    border: 2px solid var(--fill-color);\n",
              "    border-color: transparent;\n",
              "    border-bottom-color: var(--fill-color);\n",
              "    animation:\n",
              "      spin 1s steps(1) infinite;\n",
              "  }\n",
              "\n",
              "  @keyframes spin {\n",
              "    0% {\n",
              "      border-color: transparent;\n",
              "      border-bottom-color: var(--fill-color);\n",
              "      border-left-color: var(--fill-color);\n",
              "    }\n",
              "    20% {\n",
              "      border-color: transparent;\n",
              "      border-left-color: var(--fill-color);\n",
              "      border-top-color: var(--fill-color);\n",
              "    }\n",
              "    30% {\n",
              "      border-color: transparent;\n",
              "      border-left-color: var(--fill-color);\n",
              "      border-top-color: var(--fill-color);\n",
              "      border-right-color: var(--fill-color);\n",
              "    }\n",
              "    40% {\n",
              "      border-color: transparent;\n",
              "      border-right-color: var(--fill-color);\n",
              "      border-top-color: var(--fill-color);\n",
              "    }\n",
              "    60% {\n",
              "      border-color: transparent;\n",
              "      border-right-color: var(--fill-color);\n",
              "    }\n",
              "    80% {\n",
              "      border-color: transparent;\n",
              "      border-right-color: var(--fill-color);\n",
              "      border-bottom-color: var(--fill-color);\n",
              "    }\n",
              "    90% {\n",
              "      border-color: transparent;\n",
              "      border-bottom-color: var(--fill-color);\n",
              "    }\n",
              "  }\n",
              "</style>\n",
              "\n",
              "  <script>\n",
              "    async function quickchart(key) {\n",
              "      const quickchartButtonEl =\n",
              "        document.querySelector('#' + key + ' button');\n",
              "      quickchartButtonEl.disabled = true;  // To prevent multiple clicks.\n",
              "      quickchartButtonEl.classList.add('colab-df-spinner');\n",
              "      try {\n",
              "        const charts = await google.colab.kernel.invokeFunction(\n",
              "            'suggestCharts', [key], {});\n",
              "      } catch (error) {\n",
              "        console.error('Error during call to suggestCharts:', error);\n",
              "      }\n",
              "      quickchartButtonEl.classList.remove('colab-df-spinner');\n",
              "      quickchartButtonEl.classList.add('colab-df-quickchart-complete');\n",
              "    }\n",
              "    (() => {\n",
              "      let quickchartButtonEl =\n",
              "        document.querySelector('#df-a0e149c3-c9e9-4fa5-9ff7-a1712832bbc4 button');\n",
              "      quickchartButtonEl.style.display =\n",
              "        google.colab.kernel.accessAllowed ? 'block' : 'none';\n",
              "    })();\n",
              "  </script>\n",
              "</div>\n",
              "    </div>\n",
              "  </div>\n"
            ]
          },
          "metadata": {},
          "execution_count": 9
        }
      ],
      "source": [
        "import requests\n",
        "from bs4 import BeautifulSoup\n",
        "import pandas as pd\n",
        "\n",
        "print('-'*50)\n",
        "print(\"#네이버 뉴스 데이터 크롤링하기...\")\n",
        "print('-'*50)\n",
        "\n",
        "# 검색 URL 지정하기\n",
        "# query=검색어, start=페이지 (10건씩 추출)\n",
        "news_url = 'https://search.naver.com/search.naver?where=news&query={}&start='\n",
        "\n",
        "# 검색어 직접 입력 받기\n",
        "keyword = input('검색 키워드를 입력하세요 : ')\n",
        "query = keyword.replace(' ', '+') # 검색에서 공백문자를 +로 대체해 사용하도록 적용\n",
        "#print(f'query')\n",
        "\n",
        "def get_naverNewsTitle(total=100, start_cnt=1):\n",
        "\n",
        "    # 1.웹 데이터 수집하기\n",
        "    titles, urls= [],[]     # 제목=[], url=[] 데이터담기\n",
        "    while True:\n",
        "\n",
        "        # 웹 페이지 요청하기\n",
        "        #print(f'요청 query: news_url.format(query) + str(start_cnt)')\n",
        "        response = requests.get(news_url.format(query) + str(start_cnt)) #문자열+문자열은 딱 붙어서 나온다\n",
        "\n",
        "\n",
        "        # 2.응답 결과 파싱하기(제목, url 추출하기)\n",
        "        soup = BeautifulSoup(response.text, 'html.parser')\n",
        "#         page_tags   = soup.select('ul.list_news > li > div > div > a')\n",
        "        page_tags   = soup.select('div.news_area > a')\n",
        "       # print(f'page_tags')\n",
        "        page_titles = list(map(lambda tag: tag.get('title'), page_tags))\n",
        "        page_urls   = list(map(lambda tag: tag.get('href'), page_tags))\n",
        "\n",
        "        # 목적 개수만큼 추출하기\n",
        "        if len(page_titles) <= 0:\n",
        "            break\n",
        "        elif start_cnt >= total:\n",
        "            break\n",
        "        else:\n",
        "            titles += page_titles\n",
        "            urls += page_urls\n",
        "            start_cnt += len(page_titles)\n",
        "\n",
        "        # 데이터 수집 진행률 표시\n",
        "        print(f\"{int( start_cnt-1/total*100 ) }% \", end=\"\")\n",
        "\n",
        "    print()\n",
        "    print(f\"검색어[{keyword}] 로 검색된 뉴스 [{len(titles)}]건 가져오기 완료!\")\n",
        "    print('-'*50)\n",
        "\n",
        "    # 3.titles, urls 2차원 리스트로 만들어 DataFrame으로 만든다.\n",
        "    datas = [[t, u] for t, u in zip(titles, urls)]\n",
        "    df = pd.DataFrame(datas, columns=['title','url'])\n",
        "    return df\n",
        "\n",
        "df = get_naverNewsTitle(100, 1)\n",
        "df\n",
        "\n",
        "# 4.파일로 저장하기\n",
        "file = f\"./sample_data/naver_news_{keyword}_title.csv\"\n",
        "news_df = df['title']\n",
        "news_df.to_csv(file, index=False, encoding=\"utf-8-sig\")\n",
        "df"
      ]
    },
    {
      "cell_type": "markdown",
      "id": "01a2f4c0",
      "metadata": {
        "id": "01a2f4c0"
      },
      "source": [
        "### [실습] (수집된 데이터)기사 제목의 단어(토큰) 빈도수 분석하기\n",
        "- ** CountVectorizer 클래스 사용 : 단어 빈도수 추출**\n",
        "- **단, 한글에서 불용어 처리 및 가중치 처리 등 자연어 텍스트 전처리에 필요한 여러 가지 방법은 여기서 다루지 않는다.**"
      ]
    },
    {
      "cell_type": "code",
      "execution_count": 10,
      "id": "b1d8c130",
      "metadata": {
        "colab": {
          "base_uri": "https://localhost:8080/"
        },
        "id": "b1d8c130",
        "outputId": "afedef02-48b3-4b7f-d124-ea7faf8ddb36"
      },
      "outputs": [
        {
          "output_type": "stream",
          "name": "stdout",
          "text": [
            "Requirement already satisfied: scikit-learn in /usr/local/lib/python3.10/dist-packages (1.2.2)\n",
            "Requirement already satisfied: numpy>=1.17.3 in /usr/local/lib/python3.10/dist-packages (from scikit-learn) (1.23.5)\n",
            "Requirement already satisfied: scipy>=1.3.2 in /usr/local/lib/python3.10/dist-packages (from scikit-learn) (1.10.1)\n",
            "Requirement already satisfied: joblib>=1.1.1 in /usr/local/lib/python3.10/dist-packages (from scikit-learn) (1.3.2)\n",
            "Requirement already satisfied: threadpoolctl>=2.0.0 in /usr/local/lib/python3.10/dist-packages (from scikit-learn) (3.2.0)\n"
          ]
        }
      ],
      "source": [
        "!pip install scikit-learn"
      ]
    },
    {
      "cell_type": "code",
      "execution_count": 11,
      "id": "f0d82316",
      "metadata": {
        "colab": {
          "base_uri": "https://localhost:8080/",
          "height": 35
        },
        "id": "f0d82316",
        "outputId": "6aa75d06-0e09-4777-fdd4-6c67e159eeb4"
      },
      "outputs": [
        {
          "output_type": "execute_result",
          "data": {
            "text/plain": [
              "'1.2.2'"
            ],
            "application/vnd.google.colaboratory.intrinsic+json": {
              "type": "string"
            }
          },
          "metadata": {},
          "execution_count": 11
        }
      ],
      "source": [
        "import sklearn\n",
        "sklearn.__version__"
      ]
    },
    {
      "cell_type": "code",
      "execution_count": 13,
      "id": "b1cca190",
      "metadata": {
        "scrolled": true,
        "colab": {
          "base_uri": "https://localhost:8080/",
          "height": 467
        },
        "id": "b1cca190",
        "outputId": "7892fa95-4b47-42d9-bccd-23a42a20af54"
      },
      "outputs": [
        {
          "output_type": "stream",
          "name": "stdout",
          "text": [
            "[('무빙', 95), ('강풀', 13), ('디즈니', 11), ('조인성', 11), ('고윤정', 8), ('작가', 7), ('1위', 7), ('인터뷰', 7), ('한효주', 7), ('마스크걸', 5)]\n"
          ]
        },
        {
          "output_type": "display_data",
          "data": {
            "text/plain": [
              "<Figure size 640x480 with 1 Axes>"
            ],
            "image/png": "[encoded data removed]"
          },
          "metadata": {}
        }
      ],
      "source": [
        "import numpy as np\n",
        "import matplotlib.pyplot as plt\n",
        "#plt.rcParams['font.family'] = 'Malgun Gothic'\n",
        "plt.rc('font', family='NanumGothic') # 윈도우용 폰트-코랩용은 해당폰트 지정\n",
        "\n",
        "def get_wordTokenCount(corpus):\n",
        "    from sklearn.feature_extraction.text import CountVectorizer\n",
        "\n",
        "    # 기사제목을 토큰화\n",
        "    vect = CountVectorizer().fit(corpus)\n",
        "    count = vect.transform(corpus).toarray().sum(axis=0)\n",
        "\n",
        "    # 토큰 빈도수로 정렬하고 토큰명 추출\n",
        "    idx = np.argsort(-count)  # 내림 정렬하여 인덱스 반환: 토큰의 인덱스\n",
        "    count = count[idx]        # 토큰의 빈도수\n",
        "    feature_name = np.array(vect.get_feature_names_out())[idx]  # 토큰값\n",
        "\n",
        "    # 빈도수 많은 순서대로 토큰명 10개만 출력\n",
        "    print(list(zip(feature_name, count))[:10])\n",
        "\n",
        "    return feature_name, count\n",
        "\n",
        "\n",
        "def draw_wordTokenCountGraph(data, freq):\n",
        "    plt.bar(data, freq)\n",
        "    plt.grid()\n",
        "    plt.show()\n",
        "\n",
        "    # 그래프 그림 저장히기\n",
        "    #plt.savefig(f'image/{keyword}_bar_graph.png')\n",
        "\n",
        "\n",
        "# 기사제목을 말뭉치로 사용\n",
        "corpus = df['title'].to_list()\n",
        "# print(corpus)\n",
        "\n",
        "# 기사제목을 토큰화하여 빈도수 가져오기\n",
        "feature_name, count = get_wordTokenCount(corpus)\n",
        "\n",
        "# 단어(토큰) 빈도 수_Bar그래프 그리기 : 상위 10개\n",
        "draw_wordTokenCountGraph(feature_name[:10], count[:10])\n"
      ]
    },
    {
      "cell_type": "markdown",
      "id": "9efc23f7",
      "metadata": {
        "id": "9efc23f7"
      },
      "source": [
        "### [실습] (수집된 데이터)기사 제목의 토큰 빈도수 워드클라우드로 시각화\n",
        "- 워드클라우드 입력데이터 : 딕셔너리 타입"
      ]
    },
    {
      "cell_type": "code",
      "execution_count": 14,
      "id": "0bd2bb37",
      "metadata": {
        "scrolled": true,
        "id": "0bd2bb37",
        "colab": {
          "base_uri": "https://localhost:8080/",
          "height": 405
        },
        "outputId": "3492a6be-9248-464d-a7e7-ae04a90dafc1"
      },
      "outputs": [
        {
          "output_type": "error",
          "ename": "OSError",
          "evalue": "ignored",
          "traceback": [
            "\u001b[0;31m---------------------------------------------------------------------------\u001b[0m",
            "\u001b[0;31mOSError\u001b[0m                                   Traceback (most recent call last)",
            "\u001b[0;32m<ipython-input-14-727d21819cc2>\u001b[0m in \u001b[0;36m<cell line: 14>\u001b[0;34m()\u001b[0m\n\u001b[1;32m     12\u001b[0m \u001b[0;31m# 워드클라우드로 그래프로 시각화\u001b[0m\u001b[0;34m\u001b[0m\u001b[0;34m\u001b[0m\u001b[0m\n\u001b[1;32m     13\u001b[0m \u001b[0mwc\u001b[0m \u001b[0;34m=\u001b[0m \u001b[0mWordCloud\u001b[0m\u001b[0;34m(\u001b[0m\u001b[0mwidth\u001b[0m \u001b[0;34m=\u001b[0m \u001b[0;36m1000\u001b[0m\u001b[0;34m,\u001b[0m \u001b[0mheight\u001b[0m \u001b[0;34m=\u001b[0m \u001b[0;36m600\u001b[0m\u001b[0;34m,\u001b[0m \u001b[0mbackground_color\u001b[0m\u001b[0;34m=\u001b[0m\u001b[0;34m\"white\"\u001b[0m\u001b[0;34m,\u001b[0m \u001b[0mfont_path\u001b[0m\u001b[0;34m=\u001b[0m\u001b[0mfont_path\u001b[0m\u001b[0;34m)\u001b[0m\u001b[0;34m\u001b[0m\u001b[0;34m\u001b[0m\u001b[0m\n\u001b[0;32m---> 14\u001b[0;31m \u001b[0mplt\u001b[0m\u001b[0;34m.\u001b[0m\u001b[0mimshow\u001b[0m\u001b[0;34m(\u001b[0m\u001b[0mwc\u001b[0m\u001b[0;34m.\u001b[0m\u001b[0mgenerate_from_frequencies\u001b[0m\u001b[0;34m(\u001b[0m\u001b[0mdata\u001b[0m\u001b[0;34m)\u001b[0m\u001b[0;34m)\u001b[0m \u001b[0;31m#딕셔너리\u001b[0m\u001b[0;34m\u001b[0m\u001b[0;34m\u001b[0m\u001b[0m\n\u001b[0m\u001b[1;32m     15\u001b[0m \u001b[0mplt\u001b[0m\u001b[0;34m.\u001b[0m\u001b[0maxis\u001b[0m\u001b[0;34m(\u001b[0m\u001b[0;34m\"off\"\u001b[0m\u001b[0;34m)\u001b[0m\u001b[0;34m\u001b[0m\u001b[0;34m\u001b[0m\u001b[0m\n\u001b[1;32m     16\u001b[0m \u001b[0mplt\u001b[0m\u001b[0;34m.\u001b[0m\u001b[0mshow\u001b[0m\u001b[0;34m(\u001b[0m\u001b[0;34m)\u001b[0m\u001b[0;34m\u001b[0m\u001b[0;34m\u001b[0m\u001b[0m\n",
            "\u001b[0;32m/usr/local/lib/python3.10/dist-packages/wordcloud/wordcloud.py\u001b[0m in \u001b[0;36mgenerate_from_frequencies\u001b[0;34m(self, frequencies, max_font_size)\u001b[0m\n\u001b[1;32m    451\u001b[0m                 \u001b[0mfont_size\u001b[0m \u001b[0;34m=\u001b[0m \u001b[0mself\u001b[0m\u001b[0;34m.\u001b[0m\u001b[0mheight\u001b[0m\u001b[0;34m\u001b[0m\u001b[0;34m\u001b[0m\u001b[0m\n\u001b[1;32m    452\u001b[0m             \u001b[0;32melse\u001b[0m\u001b[0;34m:\u001b[0m\u001b[0;34m\u001b[0m\u001b[0;34m\u001b[0m\u001b[0m\n\u001b[0;32m--> 453\u001b[0;31m                 self.generate_from_frequencies(dict(frequencies[:2]),\n\u001b[0m\u001b[1;32m    454\u001b[0m                                                max_font_size=self.height)\n\u001b[1;32m    455\u001b[0m                 \u001b[0;31m# find font sizes\u001b[0m\u001b[0;34m\u001b[0m\u001b[0;34m\u001b[0m\u001b[0m\n",
            "\u001b[0;32m/usr/local/lib/python3.10/dist-packages/wordcloud/wordcloud.py\u001b[0m in \u001b[0;36mgenerate_from_frequencies\u001b[0;34m(self, frequencies, max_font_size)\u001b[0m\n\u001b[1;32m    501\u001b[0m             \u001b[0;32mwhile\u001b[0m \u001b[0;32mTrue\u001b[0m\u001b[0;34m:\u001b[0m\u001b[0;34m\u001b[0m\u001b[0;34m\u001b[0m\u001b[0m\n\u001b[1;32m    502\u001b[0m                 \u001b[0;31m# try to find a position\u001b[0m\u001b[0;34m\u001b[0m\u001b[0;34m\u001b[0m\u001b[0m\n\u001b[0;32m--> 503\u001b[0;31m                 \u001b[0mfont\u001b[0m \u001b[0;34m=\u001b[0m \u001b[0mImageFont\u001b[0m\u001b[0;34m.\u001b[0m\u001b[0mtruetype\u001b[0m\u001b[0;34m(\u001b[0m\u001b[0mself\u001b[0m\u001b[0;34m.\u001b[0m\u001b[0mfont_path\u001b[0m\u001b[0;34m,\u001b[0m \u001b[0mfont_size\u001b[0m\u001b[0;34m)\u001b[0m\u001b[0;34m\u001b[0m\u001b[0;34m\u001b[0m\u001b[0m\n\u001b[0m\u001b[1;32m    504\u001b[0m                 \u001b[0;31m# transpose font optionally\u001b[0m\u001b[0;34m\u001b[0m\u001b[0;34m\u001b[0m\u001b[0m\n\u001b[1;32m    505\u001b[0m                 transposed_font = ImageFont.TransposedFont(\n",
            "\u001b[0;32m/usr/local/lib/python3.10/dist-packages/PIL/ImageFont.py\u001b[0m in \u001b[0;36mtruetype\u001b[0;34m(font, size, index, encoding, layout_engine)\u001b[0m\n\u001b[1;32m   1006\u001b[0m \u001b[0;34m\u001b[0m\u001b[0m\n\u001b[1;32m   1007\u001b[0m     \u001b[0;32mtry\u001b[0m\u001b[0;34m:\u001b[0m\u001b[0;34m\u001b[0m\u001b[0;34m\u001b[0m\u001b[0m\n\u001b[0;32m-> 1008\u001b[0;31m         \u001b[0;32mreturn\u001b[0m \u001b[0mfreetype\u001b[0m\u001b[0;34m(\u001b[0m\u001b[0mfont\u001b[0m\u001b[0;34m)\u001b[0m\u001b[0;34m\u001b[0m\u001b[0;34m\u001b[0m\u001b[0m\n\u001b[0m\u001b[1;32m   1009\u001b[0m     \u001b[0;32mexcept\u001b[0m \u001b[0mOSError\u001b[0m\u001b[0;34m:\u001b[0m\u001b[0;34m\u001b[0m\u001b[0;34m\u001b[0m\u001b[0m\n\u001b[1;32m   1010\u001b[0m         \u001b[0;32mif\u001b[0m \u001b[0;32mnot\u001b[0m \u001b[0mis_path\u001b[0m\u001b[0;34m(\u001b[0m\u001b[0mfont\u001b[0m\u001b[0;34m)\u001b[0m\u001b[0;34m:\u001b[0m\u001b[0;34m\u001b[0m\u001b[0;34m\u001b[0m\u001b[0m\n",
            "\u001b[0;32m/usr/local/lib/python3.10/dist-packages/PIL/ImageFont.py\u001b[0m in \u001b[0;36mfreetype\u001b[0;34m(font)\u001b[0m\n\u001b[1;32m   1003\u001b[0m \u001b[0;34m\u001b[0m\u001b[0m\n\u001b[1;32m   1004\u001b[0m     \u001b[0;32mdef\u001b[0m \u001b[0mfreetype\u001b[0m\u001b[0;34m(\u001b[0m\u001b[0mfont\u001b[0m\u001b[0;34m)\u001b[0m\u001b[0;34m:\u001b[0m\u001b[0;34m\u001b[0m\u001b[0;34m\u001b[0m\u001b[0m\n\u001b[0;32m-> 1005\u001b[0;31m         \u001b[0;32mreturn\u001b[0m \u001b[0mFreeTypeFont\u001b[0m\u001b[0;34m(\u001b[0m\u001b[0mfont\u001b[0m\u001b[0;34m,\u001b[0m \u001b[0msize\u001b[0m\u001b[0;34m,\u001b[0m \u001b[0mindex\u001b[0m\u001b[0;34m,\u001b[0m \u001b[0mencoding\u001b[0m\u001b[0;34m,\u001b[0m \u001b[0mlayout_engine\u001b[0m\u001b[0;34m)\u001b[0m\u001b[0;34m\u001b[0m\u001b[0;34m\u001b[0m\u001b[0m\n\u001b[0m\u001b[1;32m   1006\u001b[0m \u001b[0;34m\u001b[0m\u001b[0m\n\u001b[1;32m   1007\u001b[0m     \u001b[0;32mtry\u001b[0m\u001b[0;34m:\u001b[0m\u001b[0;34m\u001b[0m\u001b[0;34m\u001b[0m\u001b[0m\n",
            "\u001b[0;32m/usr/local/lib/python3.10/dist-packages/PIL/ImageFont.py\u001b[0m in \u001b[0;36m__init__\u001b[0;34m(self, font, size, index, encoding, layout_engine)\u001b[0m\n\u001b[1;32m    253\u001b[0m                         \u001b[0mload_from_bytes\u001b[0m\u001b[0;34m(\u001b[0m\u001b[0mf\u001b[0m\u001b[0;34m)\u001b[0m\u001b[0;34m\u001b[0m\u001b[0;34m\u001b[0m\u001b[0m\n\u001b[1;32m    254\u001b[0m                     \u001b[0;32mreturn\u001b[0m\u001b[0;34m\u001b[0m\u001b[0;34m\u001b[0m\u001b[0m\n\u001b[0;32m--> 255\u001b[0;31m             self.font = core.getfont(\n\u001b[0m\u001b[1;32m    256\u001b[0m                 \u001b[0mfont\u001b[0m\u001b[0;34m,\u001b[0m \u001b[0msize\u001b[0m\u001b[0;34m,\u001b[0m \u001b[0mindex\u001b[0m\u001b[0;34m,\u001b[0m \u001b[0mencoding\u001b[0m\u001b[0;34m,\u001b[0m \u001b[0mlayout_engine\u001b[0m\u001b[0;34m=\u001b[0m\u001b[0mlayout_engine\u001b[0m\u001b[0;34m\u001b[0m\u001b[0;34m\u001b[0m\u001b[0m\n\u001b[1;32m    257\u001b[0m             )\n",
            "\u001b[0;31mOSError\u001b[0m: cannot open resource"
          ]
        }
      ],
      "source": [
        "from wordcloud import WordCloud\n",
        "import matplotlib.pyplot as plt\n",
        "plt.rcParams['figure.figsize'] = (10,6)\n",
        "\n",
        "# 자신의 컴퓨터 환경에 맞는 한글 폰트 경로를 설정(window에서)\n",
        "# font_path = 'malgun'  # C:/Windows/Fonts/\n",
        "font_path = 'HMKMMAG' # C:/Windows/Fonts/HMKMMAG.TTF\n",
        "\n",
        "# (토큰명, 빈도수) 딕셔너리 타입으로 변환\n",
        "data = dict(zip(feature_name, count))\n",
        "\n",
        "# 워드클라우드로 그래프로 시각화\n",
        "wc = WordCloud(width = 1000, height = 600, background_color=\"white\", font_path=font_path)\n",
        "plt.imshow(wc.generate_from_frequencies(data)) #딕셔너리\n",
        "plt.axis(\"off\")\n",
        "plt.show()\n",
        "\n",
        "# 파일로 저장하기\n",
        "wc.to_file(f'./sample_data/{keyword}_워드클라우드.png')"
      ]
    },
    {
      "cell_type": "markdown",
      "id": "4ed157a1",
      "metadata": {
        "id": "4ed157a1"
      },
      "source": [
        "### [실습] (수집된 데이터)기사 제목의 토큰 빈도수 출력하기"
      ]
    },
    {
      "cell_type": "code",
      "execution_count": 15,
      "id": "06bd2351",
      "metadata": {
        "scrolled": true,
        "id": "06bd2351",
        "colab": {
          "base_uri": "https://localhost:8080/",
          "height": 127
        },
        "outputId": "fe8bc8ed-b6ee-4de0-8bbe-c9dddb6c5501"
      },
      "outputs": [
        {
          "output_type": "execute_result",
          "data": {
            "text/plain": [
              "   무빙  강풀  디즈니  조인성  고윤정  작가  1위  인터뷰  한효주  마스크걸  ...  먹힌  맹활약  매출도  매력  망할까봐  \\\n",
              "1  95  13   11   11    8   7   7    7    7     5  ...   1    1    1   1     1   \n",
              "\n",
              "   말이  말에  많아  만큼  히어로의  \n",
              "1   1   1   1   1     1  \n",
              "\n",
              "[1 rows x 528 columns]"
            ],
            "text/html": [
              "\n",
              "  <div id=\"df-ebcfdfa9-1cbf-4cca-9c24-0a622a8c059d\" class=\"colab-df-container\">\n",
              "    <div>\n",
              "<style scoped>\n",
              "    .dataframe tbody tr th:only-of-type {\n",
              "        vertical-align: middle;\n",
              "    }\n",
              "\n",
              "    .dataframe tbody tr th {\n",
              "        vertical-align: top;\n",
              "    }\n",
              "\n",
              "    .dataframe thead th {\n",
              "        text-align: right;\n",
              "    }\n",
              "</style>\n",
              "<table border=\"1\" class=\"dataframe\">\n",
              "  <thead>\n",
              "    <tr style=\"text-align: right;\">\n",
              "      <th></th>\n",
              "      <th>무빙</th>\n",
              "      <th>강풀</th>\n",
              "      <th>디즈니</th>\n",
              "      <th>조인성</th>\n",
              "      <th>고윤정</th>\n",
              "      <th>작가</th>\n",
              "      <th>1위</th>\n",
              "      <th>인터뷰</th>\n",
              "      <th>한효주</th>\n",
              "      <th>마스크걸</th>\n",
              "      <th>...</th>\n",
              "      <th>먹힌</th>\n",
              "      <th>맹활약</th>\n",
              "      <th>매출도</th>\n",
              "      <th>매력</th>\n",
              "      <th>망할까봐</th>\n",
              "      <th>말이</th>\n",
              "      <th>말에</th>\n",
              "      <th>많아</th>\n",
              "      <th>만큼</th>\n",
              "      <th>히어로의</th>\n",
              "    </tr>\n",
              "  </thead>\n",
              "  <tbody>\n",
              "    <tr>\n",
              "      <th>1</th>\n",
              "      <td>95</td>\n",
              "      <td>13</td>\n",
              "      <td>11</td>\n",
              "      <td>11</td>\n",
              "      <td>8</td>\n",
              "      <td>7</td>\n",
              "      <td>7</td>\n",
              "      <td>7</td>\n",
              "      <td>7</td>\n",
              "      <td>5</td>\n",
              "      <td>...</td>\n",
              "      <td>1</td>\n",
              "      <td>1</td>\n",
              "      <td>1</td>\n",
              "      <td>1</td>\n",
              "      <td>1</td>\n",
              "      <td>1</td>\n",
              "      <td>1</td>\n",
              "      <td>1</td>\n",
              "      <td>1</td>\n",
              "      <td>1</td>\n",
              "    </tr>\n",
              "  </tbody>\n",
              "</table>\n",
              "<p>1 rows × 528 columns</p>\n",
              "</div>\n",
              "    <div class=\"colab-df-buttons\">\n",
              "\n",
              "  <div class=\"colab-df-container\">\n",
              "    <button class=\"colab-df-convert\" onclick=\"convertToInteractive('df-ebcfdfa9-1cbf-4cca-9c24-0a622a8c059d')\"\n",
              "            title=\"Convert this dataframe to an interactive table.\"\n",
              "            style=\"display:none;\">\n",
              "\n",
              "  <svg xmlns=\"http://www.w3.org/2000/svg\" height=\"24px\" viewBox=\"0 -960 960 960\">\n",
              "    <path d=\"M120-120v-720h720v720H120Zm60-500h600v-160H180v160Zm220 220h160v-160H400v160Zm0 220h160v-160H400v160ZM180-400h160v-160H180v160Zm440 0h160v-160H620v160ZM180-180h160v-160H180v160Zm440 0h160v-160H620v160Z\"/>\n",
              "  </svg>\n",
              "    </button>\n",
              "\n",
              "  <style>\n",
              "    .colab-df-container {\n",
              "      display:flex;\n",
              "      gap: 12px;\n",
              "    }\n",
              "\n",
              "    .colab-df-convert {\n",
              "      background-color: #E8F0FE;\n",
              "      border: none;\n",
              "      border-radius: 50%;\n",
              "      cursor: pointer;\n",
              "      display: none;\n",
              "      fill: #1967D2;\n",
              "      height: 32px;\n",
              "      padding: 0 0 0 0;\n",
              "      width: 32px;\n",
              "    }\n",
              "\n",
              "    .colab-df-convert:hover {\n",
              "      background-color: #E2EBFA;\n",
              "      box-shadow: 0px 1px 2px rgba(60, 64, 67, 0.3), 0px 1px 3px 1px rgba(60, 64, 67, 0.15);\n",
              "      fill: #174EA6;\n",
              "    }\n",
              "\n",
              "    .colab-df-buttons div {\n",
              "      margin-bottom: 4px;\n",
              "    }\n",
              "\n",
              "    [theme=dark] .colab-df-convert {\n",
              "      background-color: #3B4455;\n",
              "      fill: #D2E3FC;\n",
              "    }\n",
              "\n",
              "    [theme=dark] .colab-df-convert:hover {\n",
              "      background-color: #434B5C;\n",
              "      box-shadow: 0px 1px 3px 1px rgba(0, 0, 0, 0.15);\n",
              "      filter: drop-shadow(0px 1px 2px rgba(0, 0, 0, 0.3));\n",
              "      fill: #FFFFFF;\n",
              "    }\n",
              "  </style>\n",
              "\n",
              "    <script>\n",
              "      const buttonEl =\n",
              "        document.querySelector('#df-ebcfdfa9-1cbf-4cca-9c24-0a622a8c059d button.colab-df-convert');\n",
              "      buttonEl.style.display =\n",
              "        google.colab.kernel.accessAllowed ? 'block' : 'none';\n",
              "\n",
              "      async function convertToInteractive(key) {\n",
              "        const element = document.querySelector('#df-ebcfdfa9-1cbf-4cca-9c24-0a622a8c059d');\n",
              "        const dataTable =\n",
              "          await google.colab.kernel.invokeFunction('convertToInteractive',\n",
              "                                                    [key], {});\n",
              "        if (!dataTable) return;\n",
              "\n",
              "        const docLinkHtml = 'Like what you see? Visit the ' +\n",
              "          '<a target=\"_blank\" href=https://colab.research.google.com/notebooks/data_table.ipynb>data table notebook</a>'\n",
              "          + ' to learn more about interactive tables.';\n",
              "        element.innerHTML = '';\n",
              "        dataTable['output_type'] = 'display_data';\n",
              "        await google.colab.output.renderOutput(dataTable, element);\n",
              "        const docLink = document.createElement('div');\n",
              "        docLink.innerHTML = docLinkHtml;\n",
              "        element.appendChild(docLink);\n",
              "      }\n",
              "    </script>\n",
              "  </div>\n",
              "\n",
              "    </div>\n",
              "  </div>\n"
            ]
          },
          "metadata": {},
          "execution_count": 15
        }
      ],
      "source": [
        "data = dict(zip(feature_name, count))\n",
        "token_df = pd.DataFrame(data, index=[1])\n",
        "token_df\n",
        "\n",
        "# token_df.to_csv('data/token.csv', index=False, encoding=\"utf-8-sig\")"
      ]
    },
    {
      "cell_type": "markdown",
      "id": "66062103",
      "metadata": {
        "id": "66062103"
      },
      "source": [
        "-----"
      ]
    },
    {
      "cell_type": "markdown",
      "id": "9056f1dd",
      "metadata": {
        "id": "9056f1dd"
      },
      "source": [
        "## 03.동적 크롤링(PC에서 실행)"
      ]
    },
    {
      "cell_type": "markdown",
      "id": "89787e7c",
      "metadata": {
        "id": "89787e7c"
      },
      "source": [
        "- https://chromedriver.chromium.org/\n",
        "- 최신 chrome webdriver 다운로드\n",
        "- 해당 위치에 WebDriver폴더 만들고 exe파일 옮겨놓는다.\n",
        "-  (C:/python/projectmanager/WebDriver/chromedriver.exe)\n",
        "- 자신의 크롬 웹 브라우저의 버전을 확인하고 버전에 맞는 것을 다운로드해야한다."
      ]
    },
    {
      "cell_type": "markdown",
      "id": "ebe44ce3",
      "metadata": {
        "id": "ebe44ce3"
      },
      "source": [
        "#### # webdriver 동작 테스트하기\n",
        "- 자신의 크롬 웹 브라우저의 버전을 확인하고 버전에 맞는 것을 다운로드해야한다. 그렇지 않으면 오류가 발생한다.\n",
        "- 아래 코드를 실행시키면 크롬 브라우져가 잠깐 실행되었다 닫힌다."
      ]
    },
    {
      "cell_type": "code",
      "execution_count": null,
      "id": "4ec97e54",
      "metadata": {
        "id": "4ec97e54"
      },
      "outputs": [],
      "source": [
        "from selenium import webdriver\n",
        "\n",
        "# chromedriver.exe 파일이 있는 경로\n",
        "driver = './WebDriver/chromedriver.exe'\n",
        "wd = webdriver.Chrome(driver)\n",
        "\n",
        "wd.get('https://www.naver.com/')\n",
        "\n",
        "wd.close()  # 브라우저가 실행되었다가 자동으로 닫힌다."
      ]
    },
    {
      "cell_type": "markdown",
      "id": "8e47078f",
      "metadata": {
        "id": "8e47078f"
      },
      "source": [
        "### [실습]  커피빈매장 정보 크롤링하여 파일로 저장하기"
      ]
    },
    {
      "cell_type": "markdown",
      "id": "fabdfa25",
      "metadata": {
        "id": "fabdfa25"
      },
      "source": [
        "- 아래 사이트를 이용해 호출해야할 자바스크립트 함수를 확인하다.\n",
        "- https://www.coffeebeankorea.com\n",
        "- https://www.coffeebeankorea.com/store/store.asp\n",
        "- (매장 번호로) 자세히보기: javascript:storePop2('374');"
      ]
    },
    {
      "cell_type": "code",
      "execution_count": null,
      "id": "3426db71",
      "metadata": {
        "scrolled": true,
        "id": "3426db71"
      },
      "outputs": [],
      "source": [
        "from bs4 import BeautifulSoup\n",
        "import urllib.request\n",
        "import pandas as pd\n",
        "import datetime\n",
        "\n",
        "from selenium import webdriver\n",
        "import time\n",
        "\n",
        "MAX = 10     # 추출 데이터 건수\n",
        "\n",
        "#[매장 추출 함수]\n",
        "def getStoreInfo():\n",
        "    CoffeeBean_URL = \"https://www.coffeebeankorea.com/store/store.asp\"\n",
        "    wd = webdriver.Chrome('./WebDriver/chromedriver.exe')\n",
        "\n",
        "    result = []  # 데이터 저장 변수\n",
        "    total, cnt = 370, 0\n",
        "    for i in range(1, total+1):  #매장 수 만큼(370) 반복\n",
        "        wd.get(CoffeeBean_URL)\n",
        "        time.sleep(1)  #웹페이지 연결할 동안 1초 대기\n",
        "        try:\n",
        "            wd.execute_script(\"storePop2(%d)\" %i)\n",
        "            time.sleep(1) #스크립트 실행 할 동안 1초 대기\n",
        "\n",
        "            html = wd.page_source\n",
        "            soupCB = BeautifulSoup(html, 'html.parser')\n",
        "            store_name_h2 = soupCB.select(\"div.store_txt > h2\")\n",
        "            store_name = store_name_h2[0].string  #매장 이름\n",
        "\n",
        "            store_info = soupCB.select(\"div.store_txt > table.store_table > tbody > tr > td\")\n",
        "            store_address_list = list(store_info[2])\n",
        "            store_address = store_address_list[0]  #매장 주소\n",
        "\n",
        "            store_phone = store_info[3].string     #매장 전화번호\n",
        "            result.append([store_name]+[store_address]+[store_phone])\n",
        "            cnt += 1\n",
        "            # 매장정보 가져온 데이터 출력하기\n",
        "            print(\"[%3d] %3d - %s\" % (cnt, i, store_name))\n",
        "\n",
        "\n",
        "             # MAX값에 해당하는 건수 만큼만 실행하기\n",
        "            if cnt >= MAX:\n",
        "                break\n",
        "\n",
        "        except:\n",
        "            continue\n",
        "\n",
        "    return result\n",
        "\n",
        "#---------------\n",
        "# main\n",
        "#---------------\n",
        "print('CoffeeBean store crawling >>>>>>>>>>>>>>>>>>>>>>>>>>')\n",
        "result = getStoreInfo()  #[매장 추출 함수]호출하기\n",
        "\n",
        "df_cb = pd.DataFrame(result, columns=('store', 'address','phone'))\n",
        "df_cb.head()"
      ]
    },
    {
      "cell_type": "code",
      "execution_count": null,
      "id": "c4813953",
      "metadata": {
        "scrolled": true,
        "id": "c4813953"
      },
      "outputs": [],
      "source": [
        "# 파일로 저장하기\n",
        "file = './data/CoffeeBean_매장정보.csv'\n",
        "df_cb.to_csv(file, encoding='cp949', mode='w', index=False)\n",
        "\n",
        "df = pd.read_csv(file, encoding='cp949')\n",
        "df.head()"
      ]
    },
    {
      "cell_type": "markdown",
      "id": "02b76444",
      "metadata": {
        "id": "02b76444"
      },
      "source": [
        "--------------"
      ]
    },
    {
      "cell_type": "markdown",
      "id": "7bdcd155",
      "metadata": {
        "id": "7bdcd155"
      },
      "source": [
        "끝"
      ]
    }
  ],
  "metadata": {
    "kernelspec": {
      "display_name": "Python 3 (ipykernel)",
      "language": "python",
      "name": "python3"
    },
    "language_info": {
      "codemirror_mode": {
        "name": "ipython",
        "version": 3
      },
      "file_extension": ".py",
      "mimetype": "text/x-python",
      "name": "python",
      "nbconvert_exporter": "python",
      "pygments_lexer": "ipython3",
      "version": "3.10.9"
    },
    "colab": {
      "provenance": [],
      "include_colab_link": true
    }
  },
  "nbformat": 4,
  "nbformat_minor": 5
}